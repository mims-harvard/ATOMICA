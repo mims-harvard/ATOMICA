{
 "cells": [
  {
   "cell_type": "code",
   "execution_count": 88,
   "metadata": {},
   "outputs": [],
   "source": [
    "import pickle\n",
    "import os\n",
    "from data.pdb_utils import VOCAB\n",
    "import torch\n",
    "from torch_scatter import scatter_mean, scatter_sum\n",
    "from plotly.offline import init_notebook_mode, iplot\n",
    "import numpy as np\n",
    "import networkx as nx\n",
    "import matplotlib.pyplot as plt\n",
    "\n",
    "import lmdb\n",
    "from atom3d.datasets import LMDBDataset\n",
    "\n",
    "from rdkit import Chem\n",
    "from rdkit.Chem import AllChem\n",
    "import pandas as pd\n",
    "\n",
    "import prolif\n",
    "from prolif.plotting.network import LigNetwork"
   ]
  },
  {
   "cell_type": "markdown",
   "metadata": {},
   "source": [
    "# !!!!!!!!!!!\n",
    "# Please run 'pip install -e .' in ProLIF directory to install prolif first (please use -e flag because the original code has been modified)\n",
    "# !!!!!!!!!!!"
   ]
  },
  {
   "cell_type": "markdown",
   "metadata": {},
   "source": [
    "# Specify Your Binding Complex of Interest & Number of Edge to Visualize & Paths"
   ]
  },
  {
   "cell_type": "code",
   "execution_count": 89,
   "metadata": {},
   "outputs": [],
   "source": [
    "data_id = '8ef5_N' # pdb id\n",
    "percent_edge = 0.1 # percent of all edges to show (only count edges connecting ligand and protein)\n",
    "fragmentation = 'PS_300' \n",
    "\n",
    "# LMDB_path = 'datasets/LBA/split-by-sequence-identity-30/data/test'\n",
    "processed_data_path = 'datasets/customized/customized_LBA.LBADatasetPS_300_processed.pkl'\n",
    "# processed_data_path = 'datasets/LBA/split-by-sequence-identity-30/data/test.LBADataset_processed.pkl'\n",
    "Shapley_value_path = f'output/{data_id}/{data_id}_statistics.txt'"
   ]
  },
  {
   "cell_type": "markdown",
   "metadata": {},
   "source": [
    "# Load Ligand"
   ]
  },
  {
   "cell_type": "code",
   "execution_count": 90,
   "metadata": {},
   "outputs": [
    {
     "name": "stderr",
     "output_type": "stream",
     "text": [
      "[02:20:59] 7V7: Warning - no explicit hydrogens in mol2 file but needed for formal charge estimation.\n"
     ]
    },
    {
     "data": {
      "image/png": "[encoded data removed]",
      "text/plain": [
       "<rdkit.Chem.rdchem.Mol at 0x7f31cff3cb30>"
      ]
     },
     "execution_count": 90,
     "metadata": {},
     "output_type": "execute_result"
    }
   ],
   "source": [
    "# load ligand data from .mol2\n",
    "ligand_path = os.path.join('datasets/customized/customized_LBA/pdb_files', data_id,  data_id + '_ligand.mol2')\n",
    "ligand_mol = Chem.MolFromMol2File(ligand_path, removeHs=False, sanitize=False)\n",
    "ligand_mol"
   ]
  },
  {
   "cell_type": "markdown",
   "metadata": {},
   "source": [
    "# Load Processed Data"
   ]
  },
  {
   "cell_type": "code",
   "execution_count": 91,
   "metadata": {},
   "outputs": [],
   "source": [
    "# load data\n",
    "with open(processed_data_path, 'rb') as f:\n",
    "    data = pickle.load(f)\n",
    "\n",
    "# get index and batch (binding complex) of interest\n",
    "idx = [i for i, d in enumerate(data[1]) if d['id'] == data_id][0]\n",
    "batch = data[2][idx]"
   ]
  },
  {
   "cell_type": "code",
   "execution_count": 92,
   "metadata": {},
   "outputs": [],
   "source": [
    "# get useful data from batch\n",
    "Z = torch.tensor(batch['X'])\n",
    "B = torch.tensor(batch['B'])\n",
    "A = torch.tensor(batch['A'])\n",
    "\n",
    "block_lengths = torch.tensor(batch['block_lengths'])\n",
    "Z = Z.reshape(Z.shape[0], 1, Z.shape[1])\n",
    "\n",
    "# residue indices\n",
    "indices = batch['indices']\n",
    "list_indexes = batch['list_indexes']\n",
    "residue_id = []\n",
    "for b in list_indexes:\n",
    "    residue_id.extend(b)\n",
    "residue_id = [residue_id[i] for i in indices]\n",
    "\n",
    "# chagne format from R_xxx to xxxR\n",
    "residue_id = [f'{r[2:]}{r[0:1]}' for r in residue_id]"
   ]
  },
  {
   "cell_type": "code",
   "execution_count": null,
   "metadata": {},
   "outputs": [],
   "source": []
  },
  {
   "cell_type": "code",
   "execution_count": 93,
   "metadata": {},
   "outputs": [
    {
     "data": {
      "image/png": "[encoded data removed]",
      "text/plain": [
       "<rdkit.Chem.rdchem.Mol at 0x7f331ecd5b30>"
      ]
     },
     "execution_count": 93,
     "metadata": {},
     "output_type": "execute_result"
    }
   ],
   "source": [
    "# get ligand\n",
    "ligand_mol = batch['new_mol']\n",
    "ligand_mol"
   ]
  },
  {
   "cell_type": "code",
   "execution_count": 94,
   "metadata": {},
   "outputs": [],
   "source": [
    "# map fragment to atoms\n",
    "frag_mol = batch['frag_mol']\n",
    "frags = []\n",
    "atom_idxs = []\n",
    "for i in frag_mol:\n",
    "    node = frag_mol.get_node(i)\n",
    "    frags.append(node.smiles)\n",
    "    atom_idxs.append(list(node.atom_mapping.keys()))\n",
    "\n",
    "# for each row in atom_idxs, random choose one\n",
    "atom_idxs_random_choice = [np.random.choice(i) for i in atom_idxs]"
   ]
  },
  {
   "cell_type": "code",
   "execution_count": 95,
   "metadata": {},
   "outputs": [
    {
     "data": {
      "text/plain": [
       "(['c1ccccc1', 'CCNC', 'CCc1ccccc1', 'CCNC(=O)CC'],\n",
       " [[21, 7, 20, 6, 5, 4],\n",
       "  [23, 14, 0, 13],\n",
       "  [19, 18, 17, 3, 16, 2, 15, 1],\n",
       "  [22, 12, 11, 24, 10, 9, 8]])"
      ]
     },
     "execution_count": 95,
     "metadata": {},
     "output_type": "execute_result"
    }
   ],
   "source": [
    "frags, atom_idxs"
   ]
  },
  {
   "cell_type": "code",
   "execution_count": 96,
   "metadata": {},
   "outputs": [
    {
     "data": {
      "text/plain": [
       "torch.Size([42, 3])"
      ]
     },
     "execution_count": 96,
     "metadata": {},
     "output_type": "execute_result"
    }
   ],
   "source": [
    "# get coords of each amino acid and ligand atoms\n",
    "with torch.no_grad():\n",
    "    block_id = torch.zeros_like(A) # [Nu]\n",
    "    block_id[torch.cumsum(block_lengths, dim=0)[:-1]] = 1\n",
    "    block_id.cumsum_(dim=0)  # [Nu], block (residue) id of each unit (atom)\n",
    "    \n",
    "    assert Z.shape[1] == 1, \"n_channel must be 1\"\n",
    "    top_Z = scatter_mean(Z, block_id, dim=0)  # [Nb, n_channel, 3]\n",
    "B_coords = top_Z.reshape(top_Z.shape[0], top_Z.shape[2])\n",
    "\n",
    "# coords of each amino acid and ligand atoms\n",
    "B_coords.shape"
   ]
  },
  {
   "cell_type": "code",
   "execution_count": 97,
   "metadata": {},
   "outputs": [
    {
     "data": {
      "text/plain": [
       "'CCC(=O)N(c1ccccc1)C1CCN(CCc2ccccc2)CC1'"
      ]
     },
     "execution_count": 97,
     "metadata": {},
     "output_type": "execute_result"
    }
   ],
   "source": [
    "# mol to smile\n",
    "Chem.MolToSmiles(ligand_mol)"
   ]
  },
  {
   "cell_type": "code",
   "execution_count": 98,
   "metadata": {},
   "outputs": [],
   "source": [
    "# convert indexed data to name of amino acid and ligand atoms\n",
    "VOCAB.load_tokenizer(fragmentation)\n",
    "B_abrv = [VOCAB.symbol_to_abrv(VOCAB.idx_to_symbol(i)) for i in B]\n",
    "# replace <G> with Global\n",
    "B_abrv = ['Global' if abrv == '<G>' else abrv for abrv in B_abrv]\n",
    "B_abrv\n",
    "\n",
    "# start index in B_abrv of protein and ligand atoms\n",
    "protein_start_idx = 1\n",
    "ligand_start_idx = B_abrv.index('Global', 1)"
   ]
  },
  {
   "cell_type": "code",
   "execution_count": 99,
   "metadata": {},
   "outputs": [
    {
     "data": {
      "text/plain": [
       "['Global',\n",
       " 'ALA',\n",
       " 'THR',\n",
       " 'LEU',\n",
       " 'PHE',\n",
       " 'GLN',\n",
       " 'ASN',\n",
       " 'LEU',\n",
       " 'CYS',\n",
       " 'VAL',\n",
       " 'ILE',\n",
       " 'SER',\n",
       " 'ILE',\n",
       " 'ASP',\n",
       " 'TYR',\n",
       " 'ASN',\n",
       " 'MET',\n",
       " 'ASP',\n",
       " 'CYS',\n",
       " 'THR',\n",
       " 'LEU',\n",
       " 'LEU',\n",
       " 'LYS',\n",
       " 'VAL',\n",
       " 'PHE',\n",
       " 'ALA',\n",
       " 'PHE',\n",
       " 'TRP',\n",
       " 'ILE',\n",
       " 'HIS',\n",
       " 'VAL',\n",
       " 'CYS',\n",
       " 'ILE',\n",
       " 'ALA',\n",
       " 'LEU',\n",
       " 'GLY',\n",
       " 'TYR',\n",
       " 'Global',\n",
       " 'c1ccccc1',\n",
       " 'CCNC',\n",
       " 'CCc1ccccc1',\n",
       " 'CCNC(=O)CC']"
      ]
     },
     "execution_count": 99,
     "metadata": {},
     "output_type": "execute_result"
    }
   ],
   "source": [
    "B_abrv"
   ]
  },
  {
   "cell_type": "code",
   "execution_count": 100,
   "metadata": {},
   "outputs": [],
   "source": [
    "# the amino acid start index is 1 and ligand_start_idx-1 because of the Global at begaining of amino acid and ligand"
   ]
  },
  {
   "cell_type": "markdown",
   "metadata": {},
   "source": [
    "# Load Shapley Value"
   ]
  },
  {
   "cell_type": "code",
   "execution_count": 101,
   "metadata": {},
   "outputs": [],
   "source": [
    "with open(Shapley_value_path, 'r') as f:\n",
    "    lines = f.readlines()\n",
    "    shapley_dict = {}\n",
    "    for line in lines[8:]:\n",
    "        node_idx1 = int(line.split(',')[0].split('(')[1])\n",
    "        node_idx2 = int(line.split(',')[1].split(')')[0])\n",
    "        shapley_val = float(line.split(':')[-1])\n",
    "        shapley_dict[(node_idx1, node_idx2)] = shapley_val\n",
    "\n",
    "# descending sort the shapley_dict based on shapley_val\n",
    "shapley_dict = dict(sorted(shapley_dict.items(), key=lambda item: item[1], reverse=True))"
   ]
  },
  {
   "cell_type": "code",
   "execution_count": 102,
   "metadata": {},
   "outputs": [],
   "source": [
    "# the amino acid start index is 1 and ligand_start_idx-1 because of the Global at begaining of amino acid and ligand\n",
    "# \n",
    "# filter only edge where node1 is amino acid and node2 is ligand atoms or vice versa\n",
    "shapley_dict_bridge_edge = {k: v for k, v in shapley_dict.items() if (k[0] in range(1, ligand_start_idx-1) and k[1] in range(ligand_start_idx, len(B_abrv)+1)) or (k[0] in range(ligand_start_idx, len(B_abrv)+1) and k[1] in range(1, ligand_start_idx-1))}\n",
    "\n",
    "# Min-Max normalize shapley_dict_bridge_edge from 0 to 1\n",
    "shapley_dict_bridge_edge_normalized = {k: (v - min(shapley_dict_bridge_edge.values()))/(max(shapley_dict_bridge_edge.values())-min(shapley_dict_bridge_edge.values())) for k, v in shapley_dict_bridge_edge.items()}"
   ]
  },
  {
   "cell_type": "code",
   "execution_count": 103,
   "metadata": {},
   "outputs": [
    {
     "data": {
      "text/plain": [
       "14"
      ]
     },
     "execution_count": 103,
     "metadata": {},
     "output_type": "execute_result"
    }
   ],
   "source": [
    "# choose top k% of the edges\n",
    "num_edge = int(len(shapley_dict_bridge_edge) * percent_edge)\n",
    "num_edge"
   ]
  },
  {
   "cell_type": "code",
   "execution_count": 104,
   "metadata": {},
   "outputs": [
    {
     "data": {
      "text/plain": [
       "([(33, 38),\n",
       "  (34, 40),\n",
       "  (33, 40),\n",
       "  (33, 41),\n",
       "  (34, 41),\n",
       "  (12, 41),\n",
       "  (19, 41),\n",
       "  (9, 40),\n",
       "  (26, 39),\n",
       "  (3, 39),\n",
       "  (22, 41),\n",
       "  (33, 39),\n",
       "  (7, 38),\n",
       "  (13, 38)],\n",
       " [0.06116694211959839,\n",
       "  0.048484054207801816,\n",
       "  0.04274033308029175,\n",
       "  0.03741006255149841,\n",
       "  0.03068980574607849,\n",
       "  0.02989923357963562,\n",
       "  0.02338094711303711,\n",
       "  0.023266807198524475,\n",
       "  0.021142943203449248,\n",
       "  0.021043315529823303,\n",
       "  0.018934707343578338,\n",
       "  0.018364107608795165,\n",
       "  0.01823359876871109,\n",
       "  0.01808874011039734],\n",
       " torch.Size([42, 3]),\n",
       " 14)"
      ]
     },
     "execution_count": 104,
     "metadata": {},
     "output_type": "execute_result"
    }
   ],
   "source": [
    "# get top edges with highest shapley value\n",
    "top_edges = list(shapley_dict_bridge_edge.keys())[:num_edge]\n",
    "top_edges_shapley = list(shapley_dict_bridge_edge.values())[:num_edge]\n",
    "\n",
    "# reorder each edge in top_edges, where small index is node1 and large index is node2\n",
    "top_edges = [edge if edge[0] < edge[1] else (edge[1], edge[0]) for edge in top_edges]\n",
    "top_edges, top_edges_shapley, B_coords.shape, len(top_edges)"
   ]
  },
  {
   "cell_type": "markdown",
   "metadata": {},
   "source": [
    "# Visualize Using prolif"
   ]
  },
  {
   "cell_type": "code",
   "execution_count": 105,
   "metadata": {},
   "outputs": [],
   "source": [
    "# a function to calculate distance between two atoms\n",
    "def calc_distance(node1, node2):\n",
    "    # just use euclidean distance\n",
    "    return np.linalg.norm(B_coords[node1] - B_coords[node2])"
   ]
  },
  {
   "cell_type": "code",
   "execution_count": 106,
   "metadata": {},
   "outputs": [
    {
     "name": "stderr",
     "output_type": "stream",
     "text": [
      "/tmp/ipykernel_268577/3211182182.py:20: FutureWarning:\n",
      "\n",
      "The behavior of DataFrame concatenation with empty or all-NA entries is deprecated. In a future version, this will no longer exclude empty or all-NA columns when determining the result dtypes. To retain the old behavior, exclude the relevant entries before the concat operation.\n",
      "\n"
     ]
    },
    {
     "data": {
      "text/html": [
       "<div>\n",
       "<style scoped>\n",
       "    .dataframe tbody tr th:only-of-type {\n",
       "        vertical-align: middle;\n",
       "    }\n",
       "\n",
       "    .dataframe tbody tr th {\n",
       "        vertical-align: top;\n",
       "    }\n",
       "\n",
       "    .dataframe thead th {\n",
       "        text-align: right;\n",
       "    }\n",
       "</style>\n",
       "<table border=\"1\" class=\"dataframe\">\n",
       "  <thead>\n",
       "    <tr style=\"text-align: right;\">\n",
       "      <th></th>\n",
       "      <th></th>\n",
       "      <th></th>\n",
       "      <th></th>\n",
       "      <th>weight</th>\n",
       "      <th>distance</th>\n",
       "    </tr>\n",
       "    <tr>\n",
       "      <th>ligand</th>\n",
       "      <th>protein</th>\n",
       "      <th>interaction</th>\n",
       "      <th>atoms</th>\n",
       "      <th></th>\n",
       "      <th></th>\n",
       "    </tr>\n",
       "  </thead>\n",
       "  <tbody>\n",
       "    <tr>\n",
       "      <th rowspan=\"14\" valign=\"top\">8ef5_N</th>\n",
       "      <th rowspan=\"4\" valign=\"top\">ALA325M</th>\n",
       "      <th rowspan=\"4\" valign=\"top\">Shapley Value</th>\n",
       "      <th>(2,)</th>\n",
       "      <td>1.282210</td>\n",
       "      <td>13.537279</td>\n",
       "    </tr>\n",
       "    <tr>\n",
       "      <th>(12,)</th>\n",
       "      <td>1.122302</td>\n",
       "      <td>10.941972</td>\n",
       "    </tr>\n",
       "    <tr>\n",
       "      <th>(14,)</th>\n",
       "      <td>0.550923</td>\n",
       "      <td>10.582809</td>\n",
       "    </tr>\n",
       "    <tr>\n",
       "      <th>(21,)</th>\n",
       "      <td>1.835008</td>\n",
       "      <td>8.119699</td>\n",
       "    </tr>\n",
       "    <tr>\n",
       "      <th>ASP149M</th>\n",
       "      <th>Shapley Value</th>\n",
       "      <th>(21,)</th>\n",
       "      <td>0.542662</td>\n",
       "      <td>5.848743</td>\n",
       "    </tr>\n",
       "    <tr>\n",
       "      <th>ILE148M</th>\n",
       "      <th>Shapley Value</th>\n",
       "      <th>(12,)</th>\n",
       "      <td>0.896977</td>\n",
       "      <td>12.034025</td>\n",
       "    </tr>\n",
       "    <tr>\n",
       "      <th>LEU123M</th>\n",
       "      <th>Shapley Value</th>\n",
       "      <th>(14,)</th>\n",
       "      <td>0.631299</td>\n",
       "      <td>9.835655</td>\n",
       "    </tr>\n",
       "    <tr>\n",
       "      <th>LEU141M</th>\n",
       "      <th>Shapley Value</th>\n",
       "      <th>(21,)</th>\n",
       "      <td>0.547008</td>\n",
       "      <td>17.965727</td>\n",
       "    </tr>\n",
       "    <tr>\n",
       "      <th rowspan=\"2\" valign=\"top\">LEU326M</th>\n",
       "      <th rowspan=\"2\" valign=\"top\">Shapley Value</th>\n",
       "      <th>(2,)</th>\n",
       "      <td>1.454522</td>\n",
       "      <td>16.399618</td>\n",
       "    </tr>\n",
       "    <tr>\n",
       "      <th>(12,)</th>\n",
       "      <td>0.920694</td>\n",
       "      <td>11.512487</td>\n",
       "    </tr>\n",
       "    <tr>\n",
       "      <th>LYS235M</th>\n",
       "      <th>Shapley Value</th>\n",
       "      <th>(12,)</th>\n",
       "      <td>0.568041</td>\n",
       "      <td>8.231711</td>\n",
       "    </tr>\n",
       "    <tr>\n",
       "      <th>PHE243M</th>\n",
       "      <th>Shapley Value</th>\n",
       "      <th>(14,)</th>\n",
       "      <td>0.634288</td>\n",
       "      <td>15.088074</td>\n",
       "    </tr>\n",
       "    <tr>\n",
       "      <th>THR220M</th>\n",
       "      <th>Shapley Value</th>\n",
       "      <th>(12,)</th>\n",
       "      <td>0.701428</td>\n",
       "      <td>12.681219</td>\n",
       "    </tr>\n",
       "    <tr>\n",
       "      <th>VAL145M</th>\n",
       "      <th>Shapley Value</th>\n",
       "      <th>(2,)</th>\n",
       "      <td>0.698004</td>\n",
       "      <td>6.128331</td>\n",
       "    </tr>\n",
       "  </tbody>\n",
       "</table>\n",
       "</div>"
      ],
      "text/plain": [
       "                                      weight   distance\n",
       "ligand protein interaction   atoms                     \n",
       "8ef5_N ALA325M Shapley Value (2,)   1.282210  13.537279\n",
       "                             (12,)  1.122302  10.941972\n",
       "                             (14,)  0.550923  10.582809\n",
       "                             (21,)  1.835008   8.119699\n",
       "       ASP149M Shapley Value (21,)  0.542662   5.848743\n",
       "       ILE148M Shapley Value (12,)  0.896977  12.034025\n",
       "       LEU123M Shapley Value (14,)  0.631299   9.835655\n",
       "       LEU141M Shapley Value (21,)  0.547008  17.965727\n",
       "       LEU326M Shapley Value (2,)   1.454522  16.399618\n",
       "                             (12,)  0.920694  11.512487\n",
       "       LYS235M Shapley Value (12,)  0.568041   8.231711\n",
       "       PHE243M Shapley Value (14,)  0.634288  15.088074\n",
       "       THR220M Shapley Value (12,)  0.701428  12.681219\n",
       "       VAL145M Shapley Value (2,)   0.698004   6.128331"
      ]
     },
     "execution_count": 106,
     "metadata": {},
     "output_type": "execute_result"
    }
   ],
   "source": [
    "# construct dataframe for prolif\n",
    "df = pd.DataFrame(columns=[\"ligand\", \"protein\", \"interaction\", \"atoms\", \"weight\", \"distance\"])\n",
    "\n",
    "VOCAB.load_tokenizer(fragmentation)\n",
    "B_abrv = [VOCAB.symbol_to_abrv(VOCAB.idx_to_symbol(i)) for i in B]\n",
    "# iterate through top_20_edges. for each edge, store ligand as 1c86; then map node1 to VOCAB, store as protein; store node2 as atoms; store shapley value as weight; then using calc_distance to calculate distance, and store distance \n",
    "for i, edge in enumerate(top_edges):\n",
    "    if edge[0] == ligand_start_idx-1:\n",
    "        continue\n",
    "    ligand = data_id\n",
    "    # idx here is the idx in the B, use B[idx] to map back to amino acid or atom number\n",
    "    protein = VOCAB.symbol_to_abrv(VOCAB.idx_to_symbol(B[edge[0]])) + str(residue_id[edge[0]-1])\n",
    "    # atom_idx = int(edge[1]-ligand_start_idx)\n",
    "    atom_idx = atom_idxs_random_choice[edge[1]-ligand_start_idx-1]\n",
    "    # create a tuple with only 1 element\n",
    "    atoms = (atom_idx,)\n",
    "    interaction = \"Shapley Value\"\n",
    "    weight = top_edges_shapley[i] * 30\n",
    "    distance = calc_distance(edge[0], edge[1])\n",
    "    df = pd.concat([df, pd.DataFrame({\"ligand\": ligand, \"protein\": protein, \"interaction\": interaction, \"atoms\": atoms, \"weight\": weight, \"distance\": distance})], ignore_index=True)\n",
    "\n",
    "# set atoms type to tuple\n",
    "df.atoms = df.atoms.apply(lambda x: (x,))\n",
    "\n",
    "# order by protein, interaction, atoms\n",
    "df.sort_values(by=[\"ligand\", \"protein\", \"interaction\", \"atoms\"], inplace=True)\n",
    "df.set_index([\"ligand\", \"protein\", \"interaction\", \"atoms\"], inplace=True)\n",
    "df"
   ]
  },
  {
   "cell_type": "markdown",
   "metadata": {},
   "source": [
    "# If edges clustered together, run the below code block again to generate another plot"
   ]
  },
  {
   "cell_type": "code",
   "execution_count": 109,
   "metadata": {},
   "outputs": [
    {
     "data": {
      "text/html": [
       "<iframe width=\"100%\" height=\"590px\" frameborder=\"0\" srcdoc=\"\n",
       "        &lt;html&gt;\n",
       "        &lt;head&gt;\n",
       "        &lt;script type=&quot;text/javascript&quot; src=&quot;https://unpkg.com/vis-network@9.0.4/dist/vis-network.min.js&quot;&gt;&lt;/script&gt;\n",
       "        &lt;link href=&quot;https://unpkg.com/vis-network@9.0.4/dist/dist/vis-network.min.css&quot; rel=&quot;stylesheet&quot; type=&quot;text/css&quot; /&gt;\n",
       "        &lt;style type=&quot;text/css&quot;&gt;\n",
       "            body {\n",
       "                padding: 0;\n",
       "                margin: 0;\n",
       "                background: #fff;\n",
       "            }\n",
       "            .legend-btn.residues.disabled {\n",
       "                background: #b4b4b4 !important;\n",
       "                color: #555 !important;\n",
       "            }\n",
       "            .legend-btn.interactions.disabled {\n",
       "                border-color: #b4b4b4 !important;\n",
       "                color: #555 !important;\n",
       "            }\n",
       "        &lt;/style&gt;\n",
       "        &lt;/head&gt;\n",
       "        &lt;body&gt;\n",
       "        &lt;div id=&quot;mynetwork&quot;&gt;&lt;/div&gt;\n",
       "        &lt;div id=&quot;networklegend&quot;&gt;&lt;/div&gt;\n",
       "        &lt;script type=&quot;text/javascript&quot;&gt;\n",
       "            \n",
       "        var ifp, legend, nodes, edges, legend_buttons;\n",
       "        function drawGraph(_id, nodes, edges, options) {\n",
       "            var container = document.getElementById(_id);\n",
       "            nodes = new vis.DataSet(nodes);\n",
       "            edges = new vis.DataSet(edges);\n",
       "            var data = {nodes: nodes, edges: edges};\n",
       "            var network = new vis.Network(container, data, options);\n",
       "            network.on(&quot;stabilizationIterationsDone&quot;, function () {\n",
       "                network.setOptions( { physics: false } );\n",
       "            });\n",
       "            return network;\n",
       "        }\n",
       "        nodes = [{&quot;id&quot;: &quot;ALA325M&quot;, &quot;label&quot;: &quot;ALA325M&quot;, &quot;color&quot;: &quot;#59e382&quot;, &quot;shape&quot;: &quot;box&quot;, &quot;borderWidth&quot;: 0, &quot;physics&quot;: true, &quot;mass&quot;: 2, &quot;group&quot;: &quot;protein&quot;, &quot;residue_type&quot;: &quot;Aliphatic&quot;}, {&quot;id&quot;: &quot;ASP149M&quot;, &quot;label&quot;: &quot;ASP149M&quot;, &quot;color&quot;: &quot;#e35959&quot;, &quot;shape&quot;: &quot;box&quot;, &quot;borderWidth&quot;: 0, &quot;physics&quot;: true, &quot;mass&quot;: 2, &quot;group&quot;: &quot;protein&quot;, &quot;residue_type&quot;: &quot;Acidic&quot;}, {&quot;id&quot;: &quot;ILE148M&quot;, &quot;label&quot;: &quot;ILE148M&quot;, &quot;color&quot;: &quot;#59e382&quot;, &quot;shape&quot;: &quot;box&quot;, &quot;borderWidth&quot;: 0, &quot;physics&quot;: true, &quot;mass&quot;: 2, &quot;group&quot;: &quot;protein&quot;, &quot;residue_type&quot;: &quot;Aliphatic&quot;}, {&quot;id&quot;: &quot;LEU123M&quot;, &quot;label&quot;: &quot;LEU123M&quot;, &quot;color&quot;: &quot;#59e382&quot;, &quot;shape&quot;: &quot;box&quot;, &quot;borderWidth&quot;: 0, &quot;physics&quot;: true, &quot;mass&quot;: 2, &quot;group&quot;: &quot;protein&quot;, &quot;residue_type&quot;: &quot;Aliphatic&quot;}, {&quot;id&quot;: &quot;LEU141M&quot;, &quot;label&quot;: &quot;LEU141M&quot;, &quot;color&quot;: &quot;#59e382&quot;, &quot;shape&quot;: &quot;box&quot;, &quot;borderWidth&quot;: 0, &quot;physics&quot;: true, &quot;mass&quot;: 2, &quot;group&quot;: &quot;protein&quot;, &quot;residue_type&quot;: &quot;Aliphatic&quot;}, {&quot;id&quot;: &quot;LEU326M&quot;, &quot;label&quot;: &quot;LEU326M&quot;, &quot;color&quot;: &quot;#59e382&quot;, &quot;shape&quot;: &quot;box&quot;, &quot;borderWidth&quot;: 0, &quot;physics&quot;: true, &quot;mass&quot;: 2, &quot;group&quot;: &quot;protein&quot;, &quot;residue_type&quot;: &quot;Aliphatic&quot;}, {&quot;id&quot;: &quot;LYS235M&quot;, &quot;label&quot;: &quot;LYS235M&quot;, &quot;color&quot;: &quot;#5979e3&quot;, &quot;shape&quot;: &quot;box&quot;, &quot;borderWidth&quot;: 0, &quot;physics&quot;: true, &quot;mass&quot;: 2, &quot;group&quot;: &quot;protein&quot;, &quot;residue_type&quot;: &quot;Basic&quot;}, {&quot;id&quot;: &quot;PHE243M&quot;, &quot;label&quot;: &quot;PHE243M&quot;, &quot;color&quot;: &quot;#b559e3&quot;, &quot;shape&quot;: &quot;box&quot;, &quot;borderWidth&quot;: 0, &quot;physics&quot;: true, &quot;mass&quot;: 2, &quot;group&quot;: &quot;protein&quot;, &quot;residue_type&quot;: &quot;Aromatic&quot;}, {&quot;id&quot;: &quot;THR220M&quot;, &quot;label&quot;: &quot;THR220M&quot;, &quot;color&quot;: &quot;#59bee3&quot;, &quot;shape&quot;: &quot;box&quot;, &quot;borderWidth&quot;: 0, &quot;physics&quot;: true, &quot;mass&quot;: 2, &quot;group&quot;: &quot;protein&quot;, &quot;residue_type&quot;: &quot;Polar&quot;}, {&quot;id&quot;: &quot;VAL145M&quot;, &quot;label&quot;: &quot;VAL145M&quot;, &quot;color&quot;: &quot;#59e382&quot;, &quot;shape&quot;: &quot;box&quot;, &quot;borderWidth&quot;: 0, &quot;physics&quot;: true, &quot;mass&quot;: 2, &quot;group&quot;: &quot;protein&quot;, &quot;residue_type&quot;: &quot;Aliphatic&quot;}, {&quot;label&quot;: &quot; &quot;, &quot;shape&quot;: &quot;dot&quot;, &quot;color&quot;: &quot;black&quot;, &quot;size&quot;: 5.6000000000000005, &quot;id&quot;: 0, &quot;x&quot;: -17.495716575319808, &quot;y&quot;: -51.720981250514605, &quot;fixed&quot;: true, &quot;group&quot;: &quot;ligand&quot;, &quot;borderWidth&quot;: 0}, {&quot;label&quot;: &quot; &quot;, &quot;shape&quot;: &quot;dot&quot;, &quot;color&quot;: &quot;black&quot;, &quot;size&quot;: 5.6000000000000005, &quot;id&quot;: 1, &quot;x&quot;: -138.2910941975822, &quot;y&quot;: 16.85180303811586, &quot;fixed&quot;: true, &quot;group&quot;: &quot;ligand&quot;, &quot;borderWidth&quot;: 0}, {&quot;label&quot;: &quot; &quot;, &quot;shape&quot;: &quot;dot&quot;, &quot;color&quot;: &quot;black&quot;, &quot;size&quot;: 5.6000000000000005, &quot;id&quot;: 2, &quot;x&quot;: -206.59422740391298, &quot;y&quot;: -43.17679010047296, &quot;fixed&quot;: true, &quot;group&quot;: &quot;ligand&quot;, &quot;borderWidth&quot;: 0}, {&quot;label&quot;: &quot; &quot;, &quot;shape&quot;: &quot;dot&quot;, &quot;color&quot;: &quot;black&quot;, &quot;size&quot;: 5.6000000000000005, &quot;id&quot;: 3, &quot;x&quot;: -292.73208061853654, &quot;y&quot;: -14.038838155012407, &quot;fixed&quot;: true, &quot;group&quot;: &quot;ligand&quot;, &quot;borderWidth&quot;: 0}, {&quot;label&quot;: &quot; &quot;, &quot;shape&quot;: &quot;dot&quot;, &quot;color&quot;: &quot;black&quot;, &quot;size&quot;: 5.6000000000000005, &quot;id&quot;: 4, &quot;x&quot;: 136.94526984563453, &quot;y&quot;: -20.830340057386216, &quot;fixed&quot;: true, &quot;group&quot;: &quot;ligand&quot;, &quot;borderWidth&quot;: 0}, {&quot;label&quot;: &quot; &quot;, &quot;shape&quot;: &quot;dot&quot;, &quot;color&quot;: &quot;black&quot;, &quot;size&quot;: 5.6000000000000005, &quot;id&quot;: 5, &quot;x&quot;: 120.12246544628854, &quot;y&quot;: -70.56205279826565, &quot;fixed&quot;: true, &quot;group&quot;: &quot;ligand&quot;, &quot;borderWidth&quot;: 0}, {&quot;label&quot;: &quot; &quot;, &quot;shape&quot;: &quot;dot&quot;, &quot;color&quot;: &quot;black&quot;, &quot;size&quot;: 5.6000000000000005, &quot;id&quot;: 6, &quot;x&quot;: 154.77998985392742, &quot;y&quot;: -109.99688514143558, &quot;fixed&quot;: true, &quot;group&quot;: &quot;ligand&quot;, &quot;borderWidth&quot;: 0}, {&quot;label&quot;: &quot; &quot;, &quot;shape&quot;: &quot;dot&quot;, &quot;color&quot;: &quot;black&quot;, &quot;size&quot;: 5.6000000000000005, &quot;id&quot;: 7, &quot;x&quot;: 223.08312306025812, &quot;y&quot;: -49.968292002846695, &quot;fixed&quot;: true, &quot;group&quot;: &quot;ligand&quot;, &quot;borderWidth&quot;: 0}, {&quot;label&quot;: &quot; &quot;, &quot;shape&quot;: &quot;dot&quot;, &quot;color&quot;: &quot;black&quot;, &quot;size&quot;: 5.6000000000000005, &quot;id&quot;: 8, &quot;x&quot;: 119.1105498373417, &quot;y&quot;: 68.33620502666312, &quot;fixed&quot;: true, &quot;group&quot;: &quot;ligand&quot;, &quot;borderWidth&quot;: 0}, {&quot;label&quot;: &quot; &quot;, &quot;shape&quot;: &quot;dot&quot;, &quot;color&quot;: &quot;black&quot;, &quot;size&quot;: 5.6000000000000005, &quot;id&quot;: 9, &quot;x&quot;: 170.59087864432647, &quot;y&quot;: 78.6330854243726, &quot;fixed&quot;: true, &quot;group&quot;: &quot;ligand&quot;, &quot;borderWidth&quot;: 0}, {&quot;label&quot;: &quot; &quot;, &quot;shape&quot;: &quot;dot&quot;, &quot;color&quot;: &quot;black&quot;, &quot;size&quot;: 5.6000000000000005, &quot;id&quot;: 10, &quot;x&quot;: 187.41368304367242, &quot;y&quot;: 128.36479816525198, &quot;fixed&quot;: true, &quot;group&quot;: &quot;ligand&quot;, &quot;borderWidth&quot;: 0}, {&quot;label&quot;: &quot; &quot;, &quot;shape&quot;: &quot;dot&quot;, &quot;color&quot;: &quot;black&quot;, &quot;size&quot;: 5.6000000000000005, &quot;id&quot;: 11, &quot;x&quot;: 50.80741663101096, &quot;y&quot;: 8.307611888074241, &quot;fixed&quot;: true, &quot;group&quot;: &quot;ligand&quot;, &quot;borderWidth&quot;: 0}, {&quot;label&quot;: &quot; &quot;, &quot;shape&quot;: &quot;dot&quot;, &quot;color&quot;: &quot;black&quot;, &quot;size&quot;: 5.6000000000000005, &quot;id&quot;: 12, &quot;x&quot;: 16.149892223372166, &quot;y&quot;: 47.74244423124419, &quot;fixed&quot;: true, &quot;group&quot;: &quot;ligand&quot;, &quot;borderWidth&quot;: 0}, {&quot;label&quot;: &quot; &quot;, &quot;shape&quot;: &quot;dot&quot;, &quot;color&quot;: &quot;black&quot;, &quot;size&quot;: 5.6000000000000005, &quot;id&quot;: 13, &quot;x&quot;: -35.33043658361261, &quot;y&quot;: 37.44556383353474, &quot;fixed&quot;: true, &quot;group&quot;: &quot;ligand&quot;, &quot;borderWidth&quot;: 0}, {&quot;label&quot;: &quot; &quot;, &quot;shape&quot;: &quot;dot&quot;, &quot;color&quot;: &quot;black&quot;, &quot;size&quot;: 5.6000000000000005, &quot;id&quot;: 14, &quot;x&quot;: 33.98461223166497, &quot;y&quot;: -41.424100852805154, &quot;fixed&quot;: true, &quot;group&quot;: &quot;ligand&quot;, &quot;borderWidth&quot;: 0}, {&quot;label&quot;: &quot; &quot;, &quot;shape&quot;: &quot;dot&quot;, &quot;color&quot;: &quot;black&quot;, &quot;size&quot;: 5.6000000000000005, &quot;id&quot;: 15, &quot;x&quot;: -103.63356978994344, &quot;y&quot;: -22.583029305054087, &quot;fixed&quot;: true, &quot;group&quot;: &quot;ligand&quot;, &quot;borderWidth&quot;: 0}, {&quot;label&quot;: &quot; &quot;, &quot;shape&quot;: &quot;dot&quot;, &quot;color&quot;: &quot;black&quot;, &quot;size&quot;: 5.6000000000000005, &quot;id&quot;: 16, &quot;x&quot;: -189.771423004567, &quot;y&quot;: 6.554922640406423, &quot;fixed&quot;: true, &quot;group&quot;: &quot;ligand&quot;, &quot;borderWidth&quot;: 0}, {&quot;label&quot;: &quot; &quot;, &quot;shape&quot;: &quot;dot&quot;, &quot;color&quot;: &quot;black&quot;, &quot;size&quot;: 5.6000000000000005, &quot;id&quot;: 17, &quot;x&quot;: -258.0745562108978, &quot;y&quot;: -53.473670498182365, &quot;fixed&quot;: true, &quot;group&quot;: &quot;ligand&quot;, &quot;borderWidth&quot;: 0}, {&quot;label&quot;: &quot; &quot;, &quot;shape&quot;: &quot;dot&quot;, &quot;color&quot;: &quot;black&quot;, &quot;size&quot;: 5.6000000000000005, &quot;id&quot;: 18, &quot;x&quot;: -275.9092762191906, &quot;y&quot;: 35.69287458586695, &quot;fixed&quot;: true, &quot;group&quot;: &quot;ligand&quot;, &quot;borderWidth&quot;: 0}, {&quot;label&quot;: &quot; &quot;, &quot;shape&quot;: &quot;dot&quot;, &quot;color&quot;: &quot;black&quot;, &quot;size&quot;: 5.6000000000000005, &quot;id&quot;: 19, &quot;x&quot;: -224.42894741220573, &quot;y&quot;: 45.989754983576375, &quot;fixed&quot;: true, &quot;group&quot;: &quot;ligand&quot;, &quot;borderWidth&quot;: 0}, {&quot;label&quot;: &quot; &quot;, &quot;shape&quot;: &quot;dot&quot;, &quot;color&quot;: &quot;black&quot;, &quot;size&quot;: 5.6000000000000005, &quot;id&quot;: 20, &quot;x&quot;: 206.26031866091216, &quot;y&quot;: -99.7000047437261, &quot;fixed&quot;: true, &quot;group&quot;: &quot;ligand&quot;, &quot;borderWidth&quot;: 0}, {&quot;label&quot;: &quot; &quot;, &quot;shape&quot;: &quot;dot&quot;, &quot;color&quot;: &quot;black&quot;, &quot;size&quot;: 5.6000000000000005, &quot;id&quot;: 21, &quot;x&quot;: 188.42559865261936, &quot;y&quot;: -10.533459659676785, &quot;fixed&quot;: true, &quot;group&quot;: &quot;ligand&quot;, &quot;borderWidth&quot;: 0}, {&quot;label&quot;: &quot;N&quot;, &quot;shape&quot;: &quot;circle&quot;, &quot;color&quot;: &quot;white&quot;, &quot;font&quot;: {&quot;color&quot;: &quot;blue&quot;}, &quot;id&quot;: 22, &quot;x&quot;: 102.28774543799575, &quot;y&quot;: 18.604492285783707, &quot;fixed&quot;: true, &quot;group&quot;: &quot;ligand&quot;, &quot;borderWidth&quot;: 0}, {&quot;label&quot;: &quot;N&quot;, &quot;shape&quot;: &quot;circle&quot;, &quot;color&quot;: &quot;white&quot;, &quot;font&quot;: {&quot;color&quot;: &quot;blue&quot;}, &quot;id&quot;: 23, &quot;x&quot;: -52.153240982958614, &quot;y&quot;: -12.286148907344629, &quot;fixed&quot;: true, &quot;group&quot;: &quot;ligand&quot;, &quot;borderWidth&quot;: 0}, {&quot;label&quot;: &quot;O&quot;, &quot;shape&quot;: &quot;circle&quot;, &quot;color&quot;: &quot;white&quot;, &quot;font&quot;: {&quot;color&quot;: &quot;red&quot;}, &quot;id&quot;: 24, &quot;x&quot;: 84.45302542970289, &quot;y&quot;: 107.77103736983301, &quot;fixed&quot;: true, &quot;group&quot;: &quot;ligand&quot;, &quot;borderWidth&quot;: 0}, {&quot;id&quot;: -4080347849788213917, &quot;x&quot;: -205.77047697209622, &quot;y&quot;: -47.29521640503174, &quot;shape&quot;: &quot;text&quot;, &quot;label&quot;: &quot; &quot;, &quot;fixed&quot;: true, &quot;physics&quot;: false}, {&quot;id&quot;: 1984544085577056768, &quot;x&quot;: -257.2508057790811, &quot;y&quot;: -57.592096802741146, &quot;shape&quot;: &quot;text&quot;, &quot;label&quot;: &quot; &quot;, &quot;fixed&quot;: true, &quot;physics&quot;: false}, {&quot;id&quot;: 5459467020284077876, &quot;x&quot;: -207.41797783572974, &quot;y&quot;: -39.058363795914175, &quot;shape&quot;: &quot;text&quot;, &quot;label&quot;: &quot; &quot;, &quot;fixed&quot;: true, &quot;physics&quot;: false}, {&quot;id&quot;: 7408959440822581760, &quot;x&quot;: -258.89830664271454, &quot;y&quot;: -49.355244193623584, &quot;shape&quot;: &quot;text&quot;, &quot;label&quot;: &quot; &quot;, &quot;fixed&quot;: true, &quot;physics&quot;: false}, {&quot;id&quot;: -6413278044405811999, &quot;x&quot;: -210.57276442318334, &quot;y&quot;: -41.83096574852528, &quot;shape&quot;: &quot;text&quot;, &quot;label&quot;: &quot; &quot;, &quot;fixed&quot;: true, &quot;physics&quot;: false}, {&quot;id&quot;: -2847135125353757122, &quot;x&quot;: -193.74996002383736, &quot;y&quot;: 7.900746992354103, &quot;shape&quot;: &quot;text&quot;, &quot;label&quot;: &quot; &quot;, &quot;fixed&quot;: true, &quot;physics&quot;: false}, {&quot;id&quot;: 5107964291691196655, &quot;x&quot;: -202.61569038464262, &quot;y&quot;: -44.52261445242063, &quot;shape&quot;: &quot;text&quot;, &quot;label&quot;: &quot; &quot;, &quot;fixed&quot;: true, &quot;physics&quot;: false}, {&quot;id&quot;: 918592201947599807, &quot;x&quot;: -185.79288598529664, &quot;y&quot;: 5.209098288458744, &quot;shape&quot;: &quot;text&quot;, &quot;label&quot;: &quot; &quot;, &quot;fixed&quot;: true, &quot;physics&quot;: false}, {&quot;id&quot;: 2371579290347367776, &quot;x&quot;: -289.57729403108294, &quot;y&quot;: -11.266236202401307, &quot;shape&quot;: &quot;text&quot;, &quot;label&quot;: &quot; &quot;, &quot;fixed&quot;: true, &quot;physics&quot;: false}, {&quot;id&quot;: 8128700253030091193, &quot;x&quot;: -254.9197696234442, &quot;y&quot;: -50.70106854557127, &quot;shape&quot;: &quot;text&quot;, &quot;label&quot;: &quot; &quot;, &quot;fixed&quot;: true, &quot;physics&quot;: false}, {&quot;id&quot;: -6049460033166748693, &quot;x&quot;: -295.88686720599014, &quot;y&quot;: -16.811440107623508, &quot;shape&quot;: &quot;text&quot;, &quot;label&quot;: &quot; &quot;, &quot;fixed&quot;: true, &quot;physics&quot;: false}, {&quot;id&quot;: 7524287142272344394, &quot;x&quot;: -261.2293427983514, &quot;y&quot;: -56.24627245079346, &quot;shape&quot;: &quot;text&quot;, &quot;label&quot;: &quot; &quot;, &quot;fixed&quot;: true, &quot;physics&quot;: false}, {&quot;id&quot;: -467705266041271791, &quot;x&quot;: -296.7106176378069, &quot;y&quot;: -12.69301380306473, &quot;shape&quot;: &quot;text&quot;, &quot;label&quot;: &quot; &quot;, &quot;fixed&quot;: true, &quot;physics&quot;: false}, {&quot;id&quot;: -6031256026777527641, &quot;x&quot;: -279.8878132384609, &quot;y&quot;: 37.03869893781463, &quot;shape&quot;: &quot;text&quot;, &quot;label&quot;: &quot; &quot;, &quot;fixed&quot;: true, &quot;physics&quot;: false}, {&quot;id&quot;: 7695215822736428114, &quot;x&quot;: -288.7535435992662, &quot;y&quot;: -15.384662506960083, &quot;shape&quot;: &quot;text&quot;, &quot;label&quot;: &quot; &quot;, &quot;fixed&quot;: true, &quot;physics&quot;: false}, {&quot;id&quot;: 3929022868040221275, &quot;x&quot;: -271.93073919992025, &quot;y&quot;: 34.347050233919276, &quot;shape&quot;: &quot;text&quot;, &quot;label&quot;: &quot; &quot;, &quot;fixed&quot;: true, &quot;physics&quot;: false}, {&quot;id&quot;: 3840114605605616727, &quot;x&quot;: 140.9238068649049, &quot;y&quot;: -22.176164409333893, &quot;shape&quot;: &quot;text&quot;, &quot;label&quot;: &quot; &quot;, &quot;fixed&quot;: true, &quot;physics&quot;: false}, {&quot;id&quot;: -6063228015892234868, &quot;x&quot;: 124.10100246555889, &quot;y&quot;: -71.90787715021334, &quot;shape&quot;: &quot;text&quot;, &quot;label&quot;: &quot; &quot;, &quot;fixed&quot;: true, &quot;physics&quot;: false}, {&quot;id&quot;: -633357517951662248, &quot;x&quot;: 132.96673282636417, &quot;y&quot;: -19.48451570543854, &quot;shape&quot;: &quot;text&quot;, &quot;label&quot;: &quot; &quot;, &quot;fixed&quot;: true, &quot;physics&quot;: false}, {&quot;id&quot;: -2343151088120859574, &quot;x&quot;: 116.1439284270182, &quot;y&quot;: -69.21622844631797, &quot;shape&quot;: &quot;text&quot;, &quot;label&quot;: &quot; &quot;, &quot;fixed&quot;: true, &quot;physics&quot;: false}, {&quot;id&quot;: -1732836881870683985, &quot;x&quot;: 136.12151941381777, &quot;y&quot;: -16.711913752827435, &quot;shape&quot;: &quot;text&quot;, &quot;label&quot;: &quot; &quot;, &quot;fixed&quot;: true, &quot;physics&quot;: false}, {&quot;id&quot;: 1871302316848313279, &quot;x&quot;: 187.6018482208026, &quot;y&quot;: -6.415033355118002, &quot;shape&quot;: &quot;text&quot;, &quot;label&quot;: &quot; &quot;, &quot;fixed&quot;: true, &quot;physics&quot;: false}, {&quot;id&quot;: -7925642737659245225, &quot;x&quot;: 137.7690202774513, &quot;y&quot;: -24.948766361944998, &quot;shape&quot;: &quot;text&quot;, &quot;label&quot;: &quot; &quot;, &quot;fixed&quot;: true, &quot;physics&quot;: false}, {&quot;id&quot;: 2813493031091650350, &quot;x&quot;: 189.24934908443612, &quot;y&quot;: -14.651885964235568, &quot;shape&quot;: &quot;text&quot;, &quot;label&quot;: &quot; &quot;, &quot;fixed&quot;: true, &quot;physics&quot;: false}, {&quot;id&quot;: -3527628916768477413, &quot;x&quot;: 123.27725203374213, &quot;y&quot;: -67.78945084565454, &quot;shape&quot;: &quot;text&quot;, &quot;label&quot;: &quot; &quot;, &quot;fixed&quot;: true, &quot;physics&quot;: false}, {&quot;id&quot;: 7942900257808921142, &quot;x&quot;: 157.93477644138102, &quot;y&quot;: -107.22428318882447, &quot;shape&quot;: &quot;text&quot;, &quot;label&quot;: &quot; &quot;, &quot;fixed&quot;: true, &quot;physics&quot;: false}, {&quot;id&quot;: 422127195340672034, &quot;x&quot;: 116.96767885883496, &quot;y&quot;: -73.33465475087677, &quot;shape&quot;: &quot;text&quot;, &quot;label&quot;: &quot; &quot;, &quot;fixed&quot;: true, &quot;physics&quot;: false}, {&quot;id&quot;: 3163735080191431770, &quot;x&quot;: 151.62520326647382, &quot;y&quot;: -112.7694870940467, &quot;shape&quot;: &quot;text&quot;, &quot;label&quot;: &quot; &quot;, &quot;fixed&quot;: true, &quot;physics&quot;: false}, {&quot;id&quot;: -4404053251926458990, &quot;x&quot;: 153.95623942211066, &quot;y&quot;: -105.8784588368768, &quot;shape&quot;: &quot;text&quot;, &quot;label&quot;: &quot; &quot;, &quot;fixed&quot;: true, &quot;physics&quot;: false}, {&quot;id&quot;: -6539241075621558378, &quot;x&quot;: 205.4365682290954, &quot;y&quot;: -95.58157843916732, &quot;shape&quot;: &quot;text&quot;, &quot;label&quot;: &quot; &quot;, &quot;fixed&quot;: true, &quot;physics&quot;: false}, {&quot;id&quot;: -6729567510591267447, &quot;x&quot;: 155.60374028574418, &quot;y&quot;: -114.11531144599437, &quot;shape&quot;: &quot;text&quot;, &quot;label&quot;: &quot; &quot;, &quot;fixed&quot;: true, &quot;physics&quot;: false}, {&quot;id&quot;: -2704631127435965838, &quot;x&quot;: 207.08406909272892, &quot;y&quot;: -103.81843104828488, &quot;shape&quot;: &quot;text&quot;, &quot;label&quot;: &quot; &quot;, &quot;fixed&quot;: true, &quot;physics&quot;: false}, {&quot;id&quot;: -6130879513603418992, &quot;x&quot;: 219.92833647280452, &quot;y&quot;: -52.7408939554578, &quot;shape&quot;: &quot;text&quot;, &quot;label&quot;: &quot; &quot;, &quot;fixed&quot;: true, &quot;physics&quot;: false}, {&quot;id&quot;: 2519060742011822217, &quot;x&quot;: 185.27081206516576, &quot;y&quot;: -13.306061612287888, &quot;shape&quot;: &quot;text&quot;, &quot;label&quot;: &quot; &quot;, &quot;fixed&quot;: true, &quot;physics&quot;: false}, {&quot;id&quot;: -5112328991814565986, &quot;x&quot;: 226.23790964771172, &quot;y&quot;: -47.19569005023559, &quot;shape&quot;: &quot;text&quot;, &quot;label&quot;: &quot; &quot;, &quot;fixed&quot;: true, &quot;physics&quot;: false}, {&quot;id&quot;: 3904522118395877921, &quot;x&quot;: 191.58038524007296, &quot;y&quot;: -7.760857707065682, &quot;shape&quot;: &quot;text&quot;, &quot;label&quot;: &quot; &quot;, &quot;fixed&quot;: true, &quot;physics&quot;: false}, {&quot;id&quot;: 9119661076460457666, &quot;x&quot;: 227.06166007952848, &quot;y&quot;: -51.31411635479437, &quot;shape&quot;: &quot;text&quot;, &quot;label&quot;: &quot; &quot;, &quot;fixed&quot;: true, &quot;physics&quot;: false}, {&quot;id&quot;: 7012399126867207665, &quot;x&quot;: 210.23885568018252, &quot;y&quot;: -101.04582909567377, &quot;shape&quot;: &quot;text&quot;, &quot;label&quot;: &quot; &quot;, &quot;fixed&quot;: true, &quot;physics&quot;: false}, {&quot;id&quot;: -5235828878745447377, &quot;x&quot;: 219.10458604098775, &quot;y&quot;: -48.62246765089902, &quot;shape&quot;: &quot;text&quot;, &quot;label&quot;: &quot; &quot;, &quot;fixed&quot;: true, &quot;physics&quot;: false}, {&quot;id&quot;: 4426209745983020456, &quot;x&quot;: 202.2817816416418, &quot;y&quot;: -98.35418039177843, &quot;shape&quot;: &quot;text&quot;, &quot;label&quot;: &quot; &quot;, &quot;fixed&quot;: true, &quot;physics&quot;: false}, {&quot;id&quot;: -5208496226735662428, &quot;x&quot;: 115.9557632498881, &quot;y&quot;: 65.56360307405201, &quot;shape&quot;: &quot;text&quot;, &quot;label&quot;: &quot; &quot;, &quot;fixed&quot;: true, &quot;physics&quot;: false}, {&quot;id&quot;: -2819960408363779422, &quot;x&quot;: 81.2982388422493, &quot;y&quot;: 104.9984354172219, &quot;shape&quot;: &quot;text&quot;, &quot;label&quot;: &quot; &quot;, &quot;fixed&quot;: true, &quot;physics&quot;: false}, {&quot;id&quot;: -686983025780963222, &quot;x&quot;: 122.2653364247953, &quot;y&quot;: 71.10880697927423, &quot;shape&quot;: &quot;text&quot;, &quot;label&quot;: &quot; &quot;, &quot;fixed&quot;: true, &quot;physics&quot;: false}, {&quot;id&quot;: 5654627914520453026, &quot;x&quot;: 87.60781201715648, &quot;y&quot;: 110.54363932244412, &quot;shape&quot;: &quot;text&quot;, &quot;label&quot;: &quot; &quot;, &quot;fixed&quot;: true, &quot;physics&quot;: false}, {&quot;id&quot;: -7066421541415440783, &quot;x&quot;: -192.9262095920206, &quot;y&quot;: 3.7823206877953233, &quot;shape&quot;: &quot;text&quot;, &quot;label&quot;: &quot; &quot;, &quot;fixed&quot;: true, &quot;physics&quot;: false}, {&quot;id&quot;: -1355511112212142489, &quot;x&quot;: -227.58373399965933, &quot;y&quot;: 43.21715303096528, &quot;shape&quot;: &quot;text&quot;, &quot;label&quot;: &quot; &quot;, &quot;fixed&quot;: true, &quot;physics&quot;: false}, {&quot;id&quot;: 6133344677619925814, &quot;x&quot;: -186.6166364171134, &quot;y&quot;: 9.327524593017523, &quot;shape&quot;: &quot;text&quot;, &quot;label&quot;: &quot; &quot;, &quot;fixed&quot;: true, &quot;physics&quot;: false}, {&quot;id&quot;: 3992070839256867579, &quot;x&quot;: -221.27416082475213, &quot;y&quot;: 48.76235693618747, &quot;shape&quot;: &quot;text&quot;, &quot;label&quot;: &quot; &quot;, &quot;fixed&quot;: true, &quot;physics&quot;: false}, {&quot;id&quot;: 6520343341449049318, &quot;x&quot;: -276.7330266510073, &quot;y&quot;: 39.811300890425734, &quot;shape&quot;: &quot;text&quot;, &quot;label&quot;: &quot; &quot;, &quot;fixed&quot;: true, &quot;physics&quot;: false}, {&quot;id&quot;: -3295847913048093117, &quot;x&quot;: -225.2526978440225, &quot;y&quot;: 50.10818128813516, &quot;shape&quot;: &quot;text&quot;, &quot;label&quot;: &quot; &quot;, &quot;fixed&quot;: true, &quot;physics&quot;: false}, {&quot;id&quot;: 940168503989678869, &quot;x&quot;: -275.08552578737385, &quot;y&quot;: 31.57444828130817, &quot;shape&quot;: &quot;text&quot;, &quot;label&quot;: &quot; &quot;, &quot;fixed&quot;: true, &quot;physics&quot;: false}, {&quot;id&quot;: -3562082508887129764, &quot;x&quot;: -223.60519698038897, &quot;y&quot;: 41.871328679017594, &quot;shape&quot;: &quot;text&quot;, &quot;label&quot;: &quot; &quot;, &quot;fixed&quot;: true, &quot;physics&quot;: false}];\n",
       "        edges = [{&quot;from&quot;: 2, &quot;to&quot;: &quot;ALA325M&quot;, &quot;title&quot;: &quot;Shapley Value: 13.54\\u00c5&quot;, &quot;interaction_type&quot;: &quot;Shapley Value&quot;, &quot;color&quot;: &quot;#59e382&quot;, &quot;smooth&quot;: {&quot;type&quot;: &quot;cubicBezier&quot;, &quot;roundness&quot;: 0.2}, &quot;dashes&quot;: [10], &quot;width&quot;: 7.693259954452515, &quot;group&quot;: &quot;interaction&quot;}, {&quot;from&quot;: 12, &quot;to&quot;: &quot;ALA325M&quot;, &quot;title&quot;: &quot;Shapley Value: 10.94\\u00c5&quot;, &quot;interaction_type&quot;: &quot;Shapley Value&quot;, &quot;color&quot;: &quot;#59e382&quot;, &quot;smooth&quot;: {&quot;type&quot;: &quot;cubicBezier&quot;, &quot;roundness&quot;: 0.2}, &quot;dashes&quot;: [10], &quot;width&quot;: 6.733811259269714, &quot;group&quot;: &quot;interaction&quot;}, {&quot;from&quot;: 14, &quot;to&quot;: &quot;ALA325M&quot;, &quot;title&quot;: &quot;Shapley Value: 10.58\\u00c5&quot;, &quot;interaction_type&quot;: &quot;Shapley Value&quot;, &quot;color&quot;: &quot;#59e382&quot;, &quot;smooth&quot;: {&quot;type&quot;: &quot;cubicBezier&quot;, &quot;roundness&quot;: 0.2}, &quot;dashes&quot;: [10], &quot;width&quot;: 3.30553936958313, &quot;group&quot;: &quot;interaction&quot;}, {&quot;from&quot;: 21, &quot;to&quot;: &quot;ALA325M&quot;, &quot;title&quot;: &quot;Shapley Value: 8.12\\u00c5&quot;, &quot;interaction_type&quot;: &quot;Shapley Value&quot;, &quot;color&quot;: &quot;#59e382&quot;, &quot;smooth&quot;: {&quot;type&quot;: &quot;cubicBezier&quot;, &quot;roundness&quot;: 0.2}, &quot;dashes&quot;: [10], &quot;width&quot;: 11.01004958152771, &quot;group&quot;: &quot;interaction&quot;}, {&quot;from&quot;: 21, &quot;to&quot;: &quot;ASP149M&quot;, &quot;title&quot;: &quot;Shapley Value: 5.85\\u00c5&quot;, &quot;interaction_type&quot;: &quot;Shapley Value&quot;, &quot;color&quot;: &quot;#59e382&quot;, &quot;smooth&quot;: {&quot;type&quot;: &quot;cubicBezier&quot;, &quot;roundness&quot;: 0.2}, &quot;dashes&quot;: [10], &quot;width&quot;: 3.255973219871521, &quot;group&quot;: &quot;interaction&quot;}, {&quot;from&quot;: 12, &quot;to&quot;: &quot;ILE148M&quot;, &quot;title&quot;: &quot;Shapley Value: 12.03\\u00c5&quot;, &quot;interaction_type&quot;: &quot;Shapley Value&quot;, &quot;color&quot;: &quot;#59e382&quot;, &quot;smooth&quot;: {&quot;type&quot;: &quot;cubicBezier&quot;, &quot;roundness&quot;: 0.2}, &quot;dashes&quot;: [10], &quot;width&quot;: 5.381862044334412, &quot;group&quot;: &quot;interaction&quot;}, {&quot;from&quot;: 14, &quot;to&quot;: &quot;LEU123M&quot;, &quot;title&quot;: &quot;Shapley Value: 9.84\\u00c5&quot;, &quot;interaction_type&quot;: &quot;Shapley Value&quot;, &quot;color&quot;: &quot;#59e382&quot;, &quot;smooth&quot;: {&quot;type&quot;: &quot;cubicBezier&quot;, &quot;roundness&quot;: 0.2}, &quot;dashes&quot;: [10], &quot;width&quot;: 3.7877967953681946, &quot;group&quot;: &quot;interaction&quot;}, {&quot;from&quot;: 21, &quot;to&quot;: &quot;LEU141M&quot;, &quot;title&quot;: &quot;Shapley Value: 17.97\\u00c5&quot;, &quot;interaction_type&quot;: &quot;Shapley Value&quot;, &quot;color&quot;: &quot;#59e382&quot;, &quot;smooth&quot;: {&quot;type&quot;: &quot;cubicBezier&quot;, &quot;roundness&quot;: 0.2}, &quot;dashes&quot;: [10], &quot;width&quot;: 3.282047778367996, &quot;group&quot;: &quot;interaction&quot;}, {&quot;from&quot;: 2, &quot;to&quot;: &quot;LEU326M&quot;, &quot;title&quot;: &quot;Shapley Value: 16.40\\u00c5&quot;, &quot;interaction_type&quot;: &quot;Shapley Value&quot;, &quot;color&quot;: &quot;#59e382&quot;, &quot;smooth&quot;: {&quot;type&quot;: &quot;cubicBezier&quot;, &quot;roundness&quot;: 0.2}, &quot;dashes&quot;: [10], &quot;width&quot;: 8.727129757404327, &quot;group&quot;: &quot;interaction&quot;}, {&quot;from&quot;: 12, &quot;to&quot;: &quot;LEU326M&quot;, &quot;title&quot;: &quot;Shapley Value: 11.51\\u00c5&quot;, &quot;interaction_type&quot;: &quot;Shapley Value&quot;, &quot;color&quot;: &quot;#59e382&quot;, &quot;smooth&quot;: {&quot;type&quot;: &quot;cubicBezier&quot;, &quot;roundness&quot;: 0.2}, &quot;dashes&quot;: [10], &quot;width&quot;: 5.524165034294128, &quot;group&quot;: &quot;interaction&quot;}, {&quot;from&quot;: 12, &quot;to&quot;: &quot;LYS235M&quot;, &quot;title&quot;: &quot;Shapley Value: 8.23\\u00c5&quot;, &quot;interaction_type&quot;: &quot;Shapley Value&quot;, &quot;color&quot;: &quot;#59e382&quot;, &quot;smooth&quot;: {&quot;type&quot;: &quot;cubicBezier&quot;, &quot;roundness&quot;: 0.2}, &quot;dashes&quot;: [10], &quot;width&quot;: 3.408247321844101, &quot;group&quot;: &quot;interaction&quot;}, {&quot;from&quot;: 14, &quot;to&quot;: &quot;PHE243M&quot;, &quot;title&quot;: &quot;Shapley Value: 15.09\\u00c5&quot;, &quot;interaction_type&quot;: &quot;Shapley Value&quot;, &quot;color&quot;: &quot;#59e382&quot;, &quot;smooth&quot;: {&quot;type&quot;: &quot;cubicBezier&quot;, &quot;roundness&quot;: 0.2}, &quot;dashes&quot;: [10], &quot;width&quot;: 3.805729776620865, &quot;group&quot;: &quot;interaction&quot;}, {&quot;from&quot;: 12, &quot;to&quot;: &quot;THR220M&quot;, &quot;title&quot;: &quot;Shapley Value: 12.68\\u00c5&quot;, &quot;interaction_type&quot;: &quot;Shapley Value&quot;, &quot;color&quot;: &quot;#59e382&quot;, &quot;smooth&quot;: {&quot;type&quot;: &quot;cubicBezier&quot;, &quot;roundness&quot;: 0.2}, &quot;dashes&quot;: [10], &quot;width&quot;: 4.20857048034668, &quot;group&quot;: &quot;interaction&quot;}, {&quot;from&quot;: 2, &quot;to&quot;: &quot;VAL145M&quot;, &quot;title&quot;: &quot;Shapley Value: 6.13\\u00c5&quot;, &quot;interaction_type&quot;: &quot;Shapley Value&quot;, &quot;color&quot;: &quot;#59e382&quot;, &quot;smooth&quot;: {&quot;type&quot;: &quot;cubicBezier&quot;, &quot;roundness&quot;: 0.2}, &quot;dashes&quot;: [10], &quot;width&quot;: 4.1880252957344055, &quot;group&quot;: &quot;interaction&quot;}, {&quot;from&quot;: 0, &quot;to&quot;: 23, &quot;color&quot;: &quot;black&quot;, &quot;physics&quot;: false, &quot;group&quot;: &quot;ligand&quot;, &quot;width&quot;: 4}, {&quot;from&quot;: 0, &quot;to&quot;: 14, &quot;color&quot;: &quot;black&quot;, &quot;physics&quot;: false, &quot;group&quot;: &quot;ligand&quot;, &quot;width&quot;: 4}, {&quot;from&quot;: 1, &quot;to&quot;: 16, &quot;color&quot;: &quot;black&quot;, &quot;physics&quot;: false, &quot;group&quot;: &quot;ligand&quot;, &quot;width&quot;: 4}, {&quot;from&quot;: 1, &quot;to&quot;: 15, &quot;color&quot;: &quot;black&quot;, &quot;physics&quot;: false, &quot;group&quot;: &quot;ligand&quot;, &quot;width&quot;: 4}, {&quot;from&quot;: -4080347849788213917, &quot;to&quot;: 1984544085577056768, &quot;color&quot;: &quot;black&quot;, &quot;physics&quot;: false, &quot;dashes&quot;: [10], &quot;group&quot;: &quot;ligand&quot;, &quot;width&quot;: 4}, {&quot;from&quot;: 5459467020284077876, &quot;to&quot;: 7408959440822581760, &quot;color&quot;: &quot;black&quot;, &quot;physics&quot;: false, &quot;dashes&quot;: [10], &quot;group&quot;: &quot;ligand&quot;, &quot;width&quot;: 4}, {&quot;from&quot;: -6413278044405811999, &quot;to&quot;: -2847135125353757122, &quot;color&quot;: &quot;black&quot;, &quot;physics&quot;: false, &quot;dashes&quot;: [10], &quot;group&quot;: &quot;ligand&quot;, &quot;width&quot;: 4}, {&quot;from&quot;: 5107964291691196655, &quot;to&quot;: 918592201947599807, &quot;color&quot;: &quot;black&quot;, &quot;physics&quot;: false, &quot;dashes&quot;: [10], &quot;group&quot;: &quot;ligand&quot;, &quot;width&quot;: 4}, {&quot;from&quot;: 2371579290347367776, &quot;to&quot;: 8128700253030091193, &quot;color&quot;: &quot;black&quot;, &quot;physics&quot;: false, &quot;dashes&quot;: [10], &quot;group&quot;: &quot;ligand&quot;, &quot;width&quot;: 4}, {&quot;from&quot;: -6049460033166748693, &quot;to&quot;: 7524287142272344394, &quot;color&quot;: &quot;black&quot;, &quot;physics&quot;: false, &quot;dashes&quot;: [10], &quot;group&quot;: &quot;ligand&quot;, &quot;width&quot;: 4}, {&quot;from&quot;: -467705266041271791, &quot;to&quot;: -6031256026777527641, &quot;color&quot;: &quot;black&quot;, &quot;physics&quot;: false, &quot;dashes&quot;: [10], &quot;group&quot;: &quot;ligand&quot;, &quot;width&quot;: 4}, {&quot;from&quot;: 7695215822736428114, &quot;to&quot;: 3929022868040221275, &quot;color&quot;: &quot;black&quot;, &quot;physics&quot;: false, &quot;dashes&quot;: [10], &quot;group&quot;: &quot;ligand&quot;, &quot;width&quot;: 4}, {&quot;from&quot;: 4, &quot;to&quot;: 22, &quot;color&quot;: &quot;black&quot;, &quot;physics&quot;: false, &quot;group&quot;: &quot;ligand&quot;, &quot;width&quot;: 4}, {&quot;from&quot;: 3840114605605616727, &quot;to&quot;: -6063228015892234868, &quot;color&quot;: &quot;black&quot;, &quot;physics&quot;: false, &quot;dashes&quot;: [10], &quot;group&quot;: &quot;ligand&quot;, &quot;width&quot;: 4}, {&quot;from&quot;: -633357517951662248, &quot;to&quot;: -2343151088120859574, &quot;color&quot;: &quot;black&quot;, &quot;physics&quot;: false, &quot;dashes&quot;: [10], &quot;group&quot;: &quot;ligand&quot;, &quot;width&quot;: 4}, {&quot;from&quot;: -1732836881870683985, &quot;to&quot;: 1871302316848313279, &quot;color&quot;: &quot;black&quot;, &quot;physics&quot;: false, &quot;dashes&quot;: [10], &quot;group&quot;: &quot;ligand&quot;, &quot;width&quot;: 4}, {&quot;from&quot;: -7925642737659245225, &quot;to&quot;: 2813493031091650350, &quot;color&quot;: &quot;black&quot;, &quot;physics&quot;: false, &quot;dashes&quot;: [10], &quot;group&quot;: &quot;ligand&quot;, &quot;width&quot;: 4}, {&quot;from&quot;: -3527628916768477413, &quot;to&quot;: 7942900257808921142, &quot;color&quot;: &quot;black&quot;, &quot;physics&quot;: false, &quot;dashes&quot;: [10], &quot;group&quot;: &quot;ligand&quot;, &quot;width&quot;: 4}, {&quot;from&quot;: 422127195340672034, &quot;to&quot;: 3163735080191431770, &quot;color&quot;: &quot;black&quot;, &quot;physics&quot;: false, &quot;dashes&quot;: [10], &quot;group&quot;: &quot;ligand&quot;, &quot;width&quot;: 4}, {&quot;from&quot;: -4404053251926458990, &quot;to&quot;: -6539241075621558378, &quot;color&quot;: &quot;black&quot;, &quot;physics&quot;: false, &quot;dashes&quot;: [10], &quot;group&quot;: &quot;ligand&quot;, &quot;width&quot;: 4}, {&quot;from&quot;: -6729567510591267447, &quot;to&quot;: -2704631127435965838, &quot;color&quot;: &quot;black&quot;, &quot;physics&quot;: false, &quot;dashes&quot;: [10], &quot;group&quot;: &quot;ligand&quot;, &quot;width&quot;: 4}, {&quot;from&quot;: -6130879513603418992, &quot;to&quot;: 2519060742011822217, &quot;color&quot;: &quot;black&quot;, &quot;physics&quot;: false, &quot;dashes&quot;: [10], &quot;group&quot;: &quot;ligand&quot;, &quot;width&quot;: 4}, {&quot;from&quot;: -5112328991814565986, &quot;to&quot;: 3904522118395877921, &quot;color&quot;: &quot;black&quot;, &quot;physics&quot;: false, &quot;dashes&quot;: [10], &quot;group&quot;: &quot;ligand&quot;, &quot;width&quot;: 4}, {&quot;from&quot;: 9119661076460457666, &quot;to&quot;: 7012399126867207665, &quot;color&quot;: &quot;black&quot;, &quot;physics&quot;: false, &quot;dashes&quot;: [10], &quot;group&quot;: &quot;ligand&quot;, &quot;width&quot;: 4}, {&quot;from&quot;: -5235828878745447377, &quot;to&quot;: 4426209745983020456, &quot;color&quot;: &quot;black&quot;, &quot;physics&quot;: false, &quot;dashes&quot;: [10], &quot;group&quot;: &quot;ligand&quot;, &quot;width&quot;: 4}, {&quot;from&quot;: -5208496226735662428, &quot;to&quot;: -2819960408363779422, &quot;color&quot;: &quot;black&quot;, &quot;physics&quot;: false, &quot;dashes&quot;: false, &quot;group&quot;: &quot;ligand&quot;, &quot;width&quot;: 4}, {&quot;from&quot;: -686983025780963222, &quot;to&quot;: 5654627914520453026, &quot;color&quot;: &quot;black&quot;, &quot;physics&quot;: false, &quot;dashes&quot;: false, &quot;group&quot;: &quot;ligand&quot;, &quot;width&quot;: 4}, {&quot;from&quot;: 8, &quot;to&quot;: 22, &quot;color&quot;: &quot;black&quot;, &quot;physics&quot;: false, &quot;group&quot;: &quot;ligand&quot;, &quot;width&quot;: 4}, {&quot;from&quot;: 8, &quot;to&quot;: 9, &quot;color&quot;: &quot;black&quot;, &quot;physics&quot;: false, &quot;group&quot;: &quot;ligand&quot;, &quot;width&quot;: 4}, {&quot;from&quot;: 9, &quot;to&quot;: 10, &quot;color&quot;: &quot;black&quot;, &quot;physics&quot;: false, &quot;group&quot;: &quot;ligand&quot;, &quot;width&quot;: 4}, {&quot;from&quot;: 11, &quot;to&quot;: 12, &quot;color&quot;: &quot;black&quot;, &quot;physics&quot;: false, &quot;group&quot;: &quot;ligand&quot;, &quot;width&quot;: 4}, {&quot;from&quot;: 11, &quot;to&quot;: 14, &quot;color&quot;: &quot;black&quot;, &quot;physics&quot;: false, &quot;group&quot;: &quot;ligand&quot;, &quot;width&quot;: 4}, {&quot;from&quot;: 11, &quot;to&quot;: 22, &quot;color&quot;: &quot;black&quot;, &quot;physics&quot;: false, &quot;group&quot;: &quot;ligand&quot;, &quot;width&quot;: 4}, {&quot;from&quot;: 12, &quot;to&quot;: 13, &quot;color&quot;: &quot;black&quot;, &quot;physics&quot;: false, &quot;group&quot;: &quot;ligand&quot;, &quot;width&quot;: 4}, {&quot;from&quot;: 13, &quot;to&quot;: 23, &quot;color&quot;: &quot;black&quot;, &quot;physics&quot;: false, &quot;group&quot;: &quot;ligand&quot;, &quot;width&quot;: 4}, {&quot;from&quot;: 15, &quot;to&quot;: 23, &quot;color&quot;: &quot;black&quot;, &quot;physics&quot;: false, &quot;group&quot;: &quot;ligand&quot;, &quot;width&quot;: 4}, {&quot;from&quot;: -7066421541415440783, &quot;to&quot;: -1355511112212142489, &quot;color&quot;: &quot;black&quot;, &quot;physics&quot;: false, &quot;dashes&quot;: [10], &quot;group&quot;: &quot;ligand&quot;, &quot;width&quot;: 4}, {&quot;from&quot;: 6133344677619925814, &quot;to&quot;: 3992070839256867579, &quot;color&quot;: &quot;black&quot;, &quot;physics&quot;: false, &quot;dashes&quot;: [10], &quot;group&quot;: &quot;ligand&quot;, &quot;width&quot;: 4}, {&quot;from&quot;: 6520343341449049318, &quot;to&quot;: -3295847913048093117, &quot;color&quot;: &quot;black&quot;, &quot;physics&quot;: false, &quot;dashes&quot;: [10], &quot;group&quot;: &quot;ligand&quot;, &quot;width&quot;: 4}, {&quot;from&quot;: 940168503989678869, &quot;to&quot;: -3562082508887129764, &quot;color&quot;: &quot;black&quot;, &quot;physics&quot;: false, &quot;dashes&quot;: [10], &quot;group&quot;: &quot;ligand&quot;, &quot;width&quot;: 4}];\n",
       "        ifp = drawGraph(&#x27;mynetwork&#x27;, nodes, edges, {&quot;width&quot;: &quot;100%&quot;, &quot;height&quot;: &quot;500px&quot;, &quot;nodes&quot;: {&quot;font&quot;: {&quot;size&quot;: 20}}, &quot;physics&quot;: {&quot;barnesHut&quot;: {&quot;avoidOverlap&quot;: 0.8, &quot;springConstant&quot;: 0.1}}});\n",
       "    \n",
       "        legend_buttons = [{&quot;index&quot;: 0, &quot;label&quot;: &quot;Acidic&quot;, &quot;color&quot;: &quot;#e35959&quot;, &quot;group&quot;: &quot;residues&quot;}, {&quot;index&quot;: 1, &quot;label&quot;: &quot;Aliphatic&quot;, &quot;color&quot;: &quot;#59e382&quot;, &quot;group&quot;: &quot;residues&quot;}, {&quot;index&quot;: 2, &quot;label&quot;: &quot;Aromatic&quot;, &quot;color&quot;: &quot;#b559e3&quot;, &quot;group&quot;: &quot;residues&quot;}, {&quot;index&quot;: 3, &quot;label&quot;: &quot;Basic&quot;, &quot;color&quot;: &quot;#5979e3&quot;, &quot;group&quot;: &quot;residues&quot;}, {&quot;index&quot;: 4, &quot;label&quot;: &quot;Polar&quot;, &quot;color&quot;: &quot;#59bee3&quot;, &quot;group&quot;: &quot;residues&quot;}, {&quot;index&quot;: 0, &quot;label&quot;: &quot;Shapley Value&quot;, &quot;color&quot;: &quot;#59e382&quot;, &quot;group&quot;: &quot;interactions&quot;}];\n",
       "        legend = document.getElementById(&#x27;networklegend&#x27;);\n",
       "        var div_residues = document.createElement(&#x27;div&#x27;);\n",
       "        var div_interactions = document.createElement(&#x27;div&#x27;);\n",
       "        var disabled = [];\n",
       "        var legend_callback = function() {\n",
       "            this.classList.toggle(&quot;disabled&quot;);\n",
       "            var hide = this.classList.contains(&quot;disabled&quot;);\n",
       "            var show = !hide;\n",
       "            var btn_label = this.innerHTML;\n",
       "            if (hide) {\n",
       "                disabled.push(btn_label);\n",
       "            } else {\n",
       "                disabled = disabled.filter(x =&gt; x !== btn_label);\n",
       "            }\n",
       "            var node_update = [],\n",
       "                edge_update = [];\n",
       "            // click on residue type\n",
       "            if (this.classList.contains(&quot;residues&quot;)) {\n",
       "                nodes.forEach((node) =&gt; {\n",
       "                    // find nodes corresponding to this type\n",
       "                    if (node.residue_type === btn_label) {\n",
       "                        // if hiding this type and residue isn&#x27;t already hidden\n",
       "                        if (hide &amp;&amp; !node.hidden) {\n",
       "                            node.hidden = true;\n",
       "                            node_update.push(node);\n",
       "                        // if showing this type and residue isn&#x27;t already visible\n",
       "                        } else if (show &amp;&amp; node.hidden) {\n",
       "                            // display if there&#x27;s at least one of its edge that isn&#x27;t hidden\n",
       "                            num_edges_active = edges.filter(x =&gt; x.to === node.id)\n",
       "                                                    .map(x =&gt; Boolean(x.hidden))\n",
       "                                                    .filter(x =&gt; !x)\n",
       "                                                    .length;\n",
       "                            if (num_edges_active &gt; 0) {\n",
       "                                node.hidden = false;\n",
       "                                node_update.push(node);\n",
       "                            }\n",
       "                        }\n",
       "                    }\n",
       "                });\n",
       "                ifp.body.data.nodes.update(node_update);\n",
       "            // click on interaction type\n",
       "            } else {\n",
       "                edges.forEach((edge) =&gt; {\n",
       "                    // find edges corresponding to this type\n",
       "                    if (edge.interaction_type === btn_label) {\n",
       "                        edge.hidden = !edge.hidden;\n",
       "                        edge_update.push(edge);\n",
       "                        // number of active edges for the corresponding residue\n",
       "                        var num_edges_active = edges.filter(x =&gt; x.to === edge.to)\n",
       "                                               .map(x =&gt; Boolean(x.hidden))\n",
       "                                               .filter(x =&gt; !x)\n",
       "                                               .length;\n",
       "                        // find corresponding residue\n",
       "                        var ix = nodes.findIndex(x =&gt; x.id === edge.to);\n",
       "                        // only change visibility if residue_type not being hidden\n",
       "                        if (!(disabled.includes(nodes[ix].residue_type))) {\n",
       "                            // hide if no edge being shown for this residue\n",
       "                            if (hide &amp;&amp; (num_edges_active === 0)) {\n",
       "                                nodes[ix].hidden = true;\n",
       "                                node_update.push(nodes[ix]);\n",
       "                            // show if edges are being shown\n",
       "                            } else if (show &amp;&amp; (num_edges_active &gt; 0)) {\n",
       "                                nodes[ix].hidden = false;\n",
       "                                node_update.push(nodes[ix]);\n",
       "                            }\n",
       "                        }\n",
       "                    }\n",
       "                });\n",
       "                ifp.body.data.nodes.update(node_update);\n",
       "                ifp.body.data.edges.update(edge_update);\n",
       "            }\n",
       "        };\n",
       "        legend_buttons.forEach(function(v,i) {\n",
       "            if (v.group === &quot;residues&quot;) {\n",
       "                var div = div_residues;\n",
       "                var border = &quot;none&quot;;\n",
       "                var color = v.color;\n",
       "            } else {\n",
       "                var div = div_interactions;\n",
       "                var border = &quot;3px dashed &quot; + v.color;\n",
       "                var color = &quot;white&quot;;\n",
       "            }\n",
       "            var button = div.appendChild(document.createElement(&#x27;button&#x27;));\n",
       "            button.classList.add(&quot;legend-btn&quot;, v.group);\n",
       "            button.innerHTML = v.label;\n",
       "            Object.assign(button.style, {\n",
       "                &quot;cursor&quot;: &quot;pointer&quot;,\n",
       "                &quot;background-color&quot;: color,\n",
       "                &quot;border&quot;: border,\n",
       "                &quot;border-radius&quot;: &quot;5px&quot;,\n",
       "                &quot;padding&quot;: &quot;5px&quot;,\n",
       "                &quot;margin&quot;: &quot;5px&quot;,\n",
       "                &quot;font&quot;: &quot;14px &#x27;Arial&#x27;, sans-serif&quot;,\n",
       "            });\n",
       "            button.onclick = legend_callback;\n",
       "        });\n",
       "        legend.appendChild(div_residues);\n",
       "        legend.appendChild(div_interactions);\n",
       "        \n",
       "        &lt;/script&gt;\n",
       "        &lt;/body&gt;\n",
       "        &lt;/html&gt;\n",
       "    \"></iframe>"
      ],
      "text/plain": [
       "<IPython.core.display.HTML object>"
      ]
     },
     "execution_count": 109,
     "metadata": {},
     "output_type": "execute_result"
    }
   ],
   "source": [
    "# construct prolif network and visualize\n",
    "\n",
    "lg = LigNetwork(df, ligand_mol)\n",
    "# set color for edge\n",
    "lg.COLORS['interactions']['Shapley Value'] = '#59e382'\n",
    "lg.display()"
   ]
  },
  {
   "cell_type": "code",
   "execution_count": null,
   "metadata": {},
   "outputs": [],
   "source": []
  }
 ],
 "metadata": {
  "kernelspec": {
   "display_name": "GET",
   "language": "python",
   "name": "python3"
  },
  "language_info": {
   "codemirror_mode": {
    "name": "ipython",
    "version": 3
   },
   "file_extension": ".py",
   "mimetype": "text/x-python",
   "name": "python",
   "nbconvert_exporter": "python",
   "pygments_lexer": "ipython3",
   "version": "3.9.19"
  }
 },
 "nbformat": 4,
 "nbformat_minor": 2
}
