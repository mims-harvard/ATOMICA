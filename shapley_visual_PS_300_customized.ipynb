{
 "cells": [
  {
   "cell_type": "code",
   "execution_count": 26,
   "metadata": {},
   "outputs": [],
   "source": [
    "import pickle\n",
    "import os\n",
    "from data.pdb_utils import VOCAB\n",
    "import torch\n",
    "from torch_scatter import scatter_mean, scatter_sum\n",
    "from plotly.offline import init_notebook_mode, iplot\n",
    "import numpy as np\n",
    "import networkx as nx\n",
    "import matplotlib.pyplot as plt\n",
    "\n",
    "import lmdb\n",
    "from atom3d.datasets import LMDBDataset\n",
    "\n",
    "from rdkit import Chem\n",
    "from rdkit.Chem import AllChem\n",
    "import pandas as pd\n",
    "\n",
    "import prolif\n",
    "from prolif.plotting.network import LigNetwork"
   ]
  },
  {
   "cell_type": "markdown",
   "metadata": {},
   "source": [
    "# !!!!!!!!!!!\n",
    "# Please run 'pip install -e .' in ProLIF directory to install prolif first (please use -e flag because the original code has been modified)\n",
    "# !!!!!!!!!!!"
   ]
  },
  {
   "cell_type": "markdown",
   "metadata": {},
   "source": [
    "# Specify Your Binding Complex of Interest & Number of Edge to Visualize & Paths"
   ]
  },
  {
   "cell_type": "code",
   "execution_count": 27,
   "metadata": {},
   "outputs": [],
   "source": [
    "data_id = '7t2h'\n",
    "percent_edge = 0.1\n",
    "fragmentation = 'PS_300'\n",
    "\n",
    "# LMDB_path = 'datasets/LBA/split-by-sequence-identity-30/data/test'\n",
    "processed_data_path = 'datasets/customized/customized_LBA.LBADatasetPS_300_processed.pkl'\n",
    "# processed_data_path = 'datasets/LBA/split-by-sequence-identity-30/data/test.LBADataset_processed.pkl'\n",
    "Shapley_value_path = f'output/{data_id}/{data_id}_statistics.txt'"
   ]
  },
  {
   "cell_type": "markdown",
   "metadata": {},
   "source": [
    "# Load Ligand"
   ]
  },
  {
   "cell_type": "code",
   "execution_count": 28,
   "metadata": {},
   "outputs": [
    {
     "name": "stderr",
     "output_type": "stream",
     "text": [
      "[01:56:17] EID: Warning - no explicit hydrogens in mol2 file but needed for formal charge estimation.\n"
     ]
    },
    {
     "data": {
      "image/png": "[encoded data removed]",
      "text/plain": [
       "<rdkit.Chem.rdchem.Mol at 0x7f331ecf8190>"
      ]
     },
     "execution_count": 28,
     "metadata": {},
     "output_type": "execute_result"
    }
   ],
   "source": [
    "# load ligand data from .mol2\n",
    "ligand_path = os.path.join('datasets/customized/customized_LBA/pdb_files', data_id,  data_id + '_ligand.mol2')\n",
    "ligand_mol = Chem.MolFromMol2File(ligand_path, removeHs=False, sanitize=False)\n",
    "ligand_mol"
   ]
  },
  {
   "cell_type": "markdown",
   "metadata": {},
   "source": [
    "# Load Processed Data"
   ]
  },
  {
   "cell_type": "code",
   "execution_count": 29,
   "metadata": {},
   "outputs": [],
   "source": [
    "# load data\n",
    "with open(processed_data_path, 'rb') as f:\n",
    "    data = pickle.load(f)\n",
    "\n",
    "# get index and batch (binding complex) of interest\n",
    "idx = [i for i, d in enumerate(data[1]) if d['id'] == data_id][0]\n",
    "batch = data[2][idx]"
   ]
  },
  {
   "cell_type": "code",
   "execution_count": 30,
   "metadata": {},
   "outputs": [],
   "source": [
    "# get useful data from batch\n",
    "Z = torch.tensor(batch['X'])\n",
    "B = torch.tensor(batch['B'])\n",
    "A = torch.tensor(batch['A'])\n",
    "\n",
    "block_lengths = torch.tensor(batch['block_lengths'])\n",
    "Z = Z.reshape(Z.shape[0], 1, Z.shape[1])\n",
    "\n",
    "# residue indices\n",
    "indices = batch['indices']\n",
    "list_indexes = batch['list_indexes']\n",
    "residue_id = []\n",
    "for b in list_indexes:\n",
    "    residue_id.extend(b)\n",
    "residue_id = [residue_id[i] for i in indices]\n",
    "\n",
    "# chagne format from R_xxx to xxxR\n",
    "residue_id = [f'{r[2:]}{r[0:1]}' for r in residue_id]"
   ]
  },
  {
   "cell_type": "code",
   "execution_count": null,
   "metadata": {},
   "outputs": [],
   "source": []
  },
  {
   "cell_type": "code",
   "execution_count": 31,
   "metadata": {},
   "outputs": [
    {
     "data": {
      "image/png": "[encoded data removed]",
      "text/plain": [
       "<rdkit.Chem.rdchem.Mol at 0x7f31cf302ef0>"
      ]
     },
     "execution_count": 31,
     "metadata": {},
     "output_type": "execute_result"
    }
   ],
   "source": [
    "# get ligand\n",
    "ligand_mol = batch['new_mol']\n",
    "ligand_mol"
   ]
  },
  {
   "cell_type": "code",
   "execution_count": 32,
   "metadata": {},
   "outputs": [],
   "source": [
    "# map fragment to atoms\n",
    "frag_mol = batch['frag_mol']\n",
    "frags = []\n",
    "atom_idxs = []\n",
    "for i in frag_mol:\n",
    "    node = frag_mol.get_node(i)\n",
    "    frags.append(node.smiles)\n",
    "    atom_idxs.append(list(node.atom_mapping.keys()))\n",
    "\n",
    "# for each row in atom_idxs, random choose one\n",
    "atom_idxs_random_choice = [np.random.choice(i) for i in atom_idxs]"
   ]
  },
  {
   "cell_type": "code",
   "execution_count": 33,
   "metadata": {},
   "outputs": [
    {
     "data": {
      "text/plain": [
       "(['c1ccccc1', 'c1ccccc1', 'CCNC', 'CCC', 'COC=O', 'CCNC(=O)CC'],\n",
       " [[8, 7, 6, 5, 4, 3],\n",
       "  [19, 18, 17, 16, 15, 14],\n",
       "  [26, 13, 12, 11],\n",
       "  [22, 21, 20],\n",
       "  [29, 24, 28, 23],\n",
       "  [27, 25, 10, 9, 2, 1, 0]])"
      ]
     },
     "execution_count": 33,
     "metadata": {},
     "output_type": "execute_result"
    }
   ],
   "source": [
    "frags, atom_idxs"
   ]
  },
  {
   "cell_type": "code",
   "execution_count": 34,
   "metadata": {},
   "outputs": [
    {
     "data": {
      "text/plain": [
       "torch.Size([45, 3])"
      ]
     },
     "execution_count": 34,
     "metadata": {},
     "output_type": "execute_result"
    }
   ],
   "source": [
    "# get coords of each amino acid and ligand atoms\n",
    "with torch.no_grad():\n",
    "    block_id = torch.zeros_like(A) # [Nu]\n",
    "    block_id[torch.cumsum(block_lengths, dim=0)[:-1]] = 1\n",
    "    block_id.cumsum_(dim=0)  # [Nu], block (residue) id of each unit (atom)\n",
    "    \n",
    "    assert Z.shape[1] == 1, \"n_channel must be 1\"\n",
    "    top_Z = scatter_mean(Z, block_id, dim=0)  # [Nb, n_channel, 3]\n",
    "B_coords = top_Z.reshape(top_Z.shape[0], top_Z.shape[2])\n",
    "\n",
    "# coords of each amino acid and ligand atoms\n",
    "B_coords.shape"
   ]
  },
  {
   "cell_type": "code",
   "execution_count": 35,
   "metadata": {},
   "outputs": [
    {
     "data": {
      "text/plain": [
       "'CCC(=O)N(c1ccccc1)C1(C(=O)OC)CCN(CCc2ccccc2)CC1C'"
      ]
     },
     "execution_count": 35,
     "metadata": {},
     "output_type": "execute_result"
    }
   ],
   "source": [
    "# mol to smile\n",
    "Chem.MolToSmiles(ligand_mol)"
   ]
  },
  {
   "cell_type": "code",
   "execution_count": 36,
   "metadata": {},
   "outputs": [],
   "source": [
    "# convert indexed data to name of amino acid and ligand atoms\n",
    "VOCAB.load_tokenizer(fragmentation)\n",
    "B_abrv = [VOCAB.symbol_to_abrv(VOCAB.idx_to_symbol(i)) for i in B]\n",
    "# replace <G> with Global\n",
    "B_abrv = ['Global' if abrv == '<G>' else abrv for abrv in B_abrv]\n",
    "B_abrv\n",
    "\n",
    "# start index in B_abrv of protein and ligand atoms\n",
    "protein_start_idx = 1\n",
    "ligand_start_idx = B_abrv.index('Global', 1)"
   ]
  },
  {
   "cell_type": "code",
   "execution_count": 37,
   "metadata": {},
   "outputs": [
    {
     "data": {
      "text/plain": [
       "['Global',\n",
       " 'ALA',\n",
       " 'THR',\n",
       " 'LEU',\n",
       " 'PRO',\n",
       " 'PHE',\n",
       " 'GLN',\n",
       " 'SER',\n",
       " 'ASN',\n",
       " 'TYR',\n",
       " 'LEU',\n",
       " 'CYS',\n",
       " 'VAL',\n",
       " 'ILE',\n",
       " 'ASP',\n",
       " 'TYR',\n",
       " 'TYR',\n",
       " 'MET',\n",
       " 'PHE',\n",
       " 'ASP',\n",
       " 'CYS',\n",
       " 'THR',\n",
       " 'LYS',\n",
       " 'VAL',\n",
       " 'PHE',\n",
       " 'ALA',\n",
       " 'CYS',\n",
       " 'TRP',\n",
       " 'ILE',\n",
       " 'HIS',\n",
       " 'VAL',\n",
       " 'TRP',\n",
       " 'CYS',\n",
       " 'ILE',\n",
       " 'ALA',\n",
       " 'LEU',\n",
       " 'GLY',\n",
       " 'TYR',\n",
       " 'Global',\n",
       " 'c1ccccc1',\n",
       " 'c1ccccc1',\n",
       " 'CCNC',\n",
       " 'CCC',\n",
       " 'COC=O',\n",
       " 'CCNC(=O)CC']"
      ]
     },
     "execution_count": 37,
     "metadata": {},
     "output_type": "execute_result"
    }
   ],
   "source": [
    "B_abrv"
   ]
  },
  {
   "cell_type": "code",
   "execution_count": 38,
   "metadata": {},
   "outputs": [],
   "source": [
    "# the amino acid start index is 1 and ligand_start_idx-1 because of the Global at begaining of amino acid and ligand"
   ]
  },
  {
   "cell_type": "markdown",
   "metadata": {},
   "source": [
    "# Load Shapley Value"
   ]
  },
  {
   "cell_type": "code",
   "execution_count": 39,
   "metadata": {},
   "outputs": [],
   "source": [
    "with open(Shapley_value_path, 'r') as f:\n",
    "    lines = f.readlines()\n",
    "    shapley_dict = {}\n",
    "    for line in lines[8:]:\n",
    "        node_idx1 = int(line.split(',')[0].split('(')[1])\n",
    "        node_idx2 = int(line.split(',')[1].split(')')[0])\n",
    "        shapley_val = float(line.split(':')[-1])\n",
    "        shapley_dict[(node_idx1, node_idx2)] = shapley_val\n",
    "\n",
    "# descending sort the shapley_dict based on shapley_val\n",
    "shapley_dict = dict(sorted(shapley_dict.items(), key=lambda item: item[1], reverse=True))"
   ]
  },
  {
   "cell_type": "code",
   "execution_count": 40,
   "metadata": {},
   "outputs": [],
   "source": [
    "# the amino acid start index is 1 and ligand_start_idx-1 because of the Global at begaining of amino acid and ligand\n",
    "# \n",
    "# filter only edge where node1 is amino acid and node2 is ligand atoms or vice versa\n",
    "shapley_dict_bridge_edge = {k: v for k, v in shapley_dict.items() if (k[0] in range(1, ligand_start_idx-1) and k[1] in range(ligand_start_idx, len(B_abrv)+1)) or (k[0] in range(ligand_start_idx, len(B_abrv)+1) and k[1] in range(1, ligand_start_idx-1))}\n",
    "\n",
    "# Min-Max normalize shapley_dict_bridge_edge from 0 to 1\n",
    "shapley_dict_bridge_edge_normalized = {k: (v - min(shapley_dict_bridge_edge.values()))/(max(shapley_dict_bridge_edge.values())-min(shapley_dict_bridge_edge.values())) for k, v in shapley_dict_bridge_edge.items()}"
   ]
  },
  {
   "cell_type": "code",
   "execution_count": 41,
   "metadata": {},
   "outputs": [
    {
     "data": {
      "text/plain": [
       "21"
      ]
     },
     "execution_count": 41,
     "metadata": {},
     "output_type": "execute_result"
    }
   ],
   "source": [
    "# choose top k% of the edges\n",
    "num_edge = int(len(shapley_dict_bridge_edge) * percent_edge)\n",
    "num_edge"
   ]
  },
  {
   "cell_type": "code",
   "execution_count": 42,
   "metadata": {},
   "outputs": [
    {
     "data": {
      "text/plain": [
       "([(21, 39),\n",
       "  (21, 40),\n",
       "  (23, 42),\n",
       "  (24, 39),\n",
       "  (22, 39),\n",
       "  (31, 44),\n",
       "  (21, 43),\n",
       "  (23, 40),\n",
       "  (31, 43),\n",
       "  (23, 41),\n",
       "  (27, 39),\n",
       "  (31, 39),\n",
       "  (21, 41),\n",
       "  (27, 44),\n",
       "  (15, 42),\n",
       "  (4, 44),\n",
       "  (5, 40),\n",
       "  (3, 40),\n",
       "  (30, 43),\n",
       "  (14, 44),\n",
       "  (33, 39)],\n",
       " [0.10398333072662354,\n",
       "  0.07741718292236328,\n",
       "  0.06720048189163208,\n",
       "  0.06645195484161377,\n",
       "  0.06110183000564575,\n",
       "  0.042460542917251584,\n",
       "  0.03966591954231262,\n",
       "  0.03934963941574097,\n",
       "  0.03669137954711914,\n",
       "  0.034870976209640504,\n",
       "  0.034014588594436644,\n",
       "  0.03342305421829224,\n",
       "  0.03213561177253723,\n",
       "  0.028667518496513368,\n",
       "  0.028261551260948183,\n",
       "  0.024959418177604675,\n",
       "  0.02377140522003174,\n",
       "  0.02318512499332428,\n",
       "  0.022542712092399598,\n",
       "  0.02144572287797928,\n",
       "  0.021426939964294435],\n",
       " torch.Size([45, 3]),\n",
       " 21)"
      ]
     },
     "execution_count": 42,
     "metadata": {},
     "output_type": "execute_result"
    }
   ],
   "source": [
    "# get top edges with highest shapley value\n",
    "top_edges = list(shapley_dict_bridge_edge.keys())[:num_edge]\n",
    "top_edges_shapley = list(shapley_dict_bridge_edge.values())[:num_edge]\n",
    "\n",
    "# reorder each edge in top_edges, where small index is node1 and large index is node2\n",
    "top_edges = [edge if edge[0] < edge[1] else (edge[1], edge[0]) for edge in top_edges]\n",
    "top_edges, top_edges_shapley, B_coords.shape, len(top_edges)"
   ]
  },
  {
   "cell_type": "markdown",
   "metadata": {},
   "source": [
    "# Visualize Using prolif"
   ]
  },
  {
   "cell_type": "code",
   "execution_count": 43,
   "metadata": {},
   "outputs": [],
   "source": [
    "# a function to calculate distance between two atoms\n",
    "def calc_distance(node1, node2):\n",
    "    # just use euclidean distance\n",
    "    return np.linalg.norm(B_coords[node1] - B_coords[node2])"
   ]
  },
  {
   "cell_type": "code",
   "execution_count": 44,
   "metadata": {},
   "outputs": [
    {
     "name": "stderr",
     "output_type": "stream",
     "text": [
      "/tmp/ipykernel_268577/3211182182.py:20: FutureWarning:\n",
      "\n",
      "The behavior of DataFrame concatenation with empty or all-NA entries is deprecated. In a future version, this will no longer exclude empty or all-NA columns when determining the result dtypes. To retain the old behavior, exclude the relevant entries before the concat operation.\n",
      "\n"
     ]
    },
    {
     "data": {
      "text/html": [
       "<div>\n",
       "<style scoped>\n",
       "    .dataframe tbody tr th:only-of-type {\n",
       "        vertical-align: middle;\n",
       "    }\n",
       "\n",
       "    .dataframe tbody tr th {\n",
       "        vertical-align: top;\n",
       "    }\n",
       "\n",
       "    .dataframe thead th {\n",
       "        text-align: right;\n",
       "    }\n",
       "</style>\n",
       "<table border=\"1\" class=\"dataframe\">\n",
       "  <thead>\n",
       "    <tr style=\"text-align: right;\">\n",
       "      <th></th>\n",
       "      <th></th>\n",
       "      <th></th>\n",
       "      <th></th>\n",
       "      <th>weight</th>\n",
       "      <th>distance</th>\n",
       "    </tr>\n",
       "    <tr>\n",
       "      <th>ligand</th>\n",
       "      <th>protein</th>\n",
       "      <th>interaction</th>\n",
       "      <th>atoms</th>\n",
       "      <th></th>\n",
       "      <th></th>\n",
       "    </tr>\n",
       "  </thead>\n",
       "  <tbody>\n",
       "    <tr>\n",
       "      <th rowspan=\"21\" valign=\"top\">7t2h</th>\n",
       "      <th>ASP147D</th>\n",
       "      <th>Shapley Value</th>\n",
       "      <th>(2,)</th>\n",
       "      <td>0.643372</td>\n",
       "      <td>7.555810</td>\n",
       "    </tr>\n",
       "    <tr>\n",
       "      <th>ILE322D</th>\n",
       "      <th>Shapley Value</th>\n",
       "      <th>(5,)</th>\n",
       "      <td>0.642808</td>\n",
       "      <td>5.612205</td>\n",
       "    </tr>\n",
       "    <tr>\n",
       "      <th>LEU121D</th>\n",
       "      <th>Shapley Value</th>\n",
       "      <th>(16,)</th>\n",
       "      <td>0.695554</td>\n",
       "      <td>8.833912</td>\n",
       "    </tr>\n",
       "    <tr>\n",
       "      <th>LYS233D</th>\n",
       "      <th>Shapley Value</th>\n",
       "      <th>(5,)</th>\n",
       "      <td>1.833055</td>\n",
       "      <td>11.788715</td>\n",
       "    </tr>\n",
       "    <tr>\n",
       "      <th>PHE123D</th>\n",
       "      <th>Shapley Value</th>\n",
       "      <th>(16,)</th>\n",
       "      <td>0.713142</td>\n",
       "      <td>7.336211</td>\n",
       "    </tr>\n",
       "    <tr>\n",
       "      <th>PHE237D</th>\n",
       "      <th>Shapley Value</th>\n",
       "      <th>(5,)</th>\n",
       "      <td>1.993559</td>\n",
       "      <td>12.376028</td>\n",
       "    </tr>\n",
       "    <tr>\n",
       "      <th>PRO122D</th>\n",
       "      <th>Shapley Value</th>\n",
       "      <th>(2,)</th>\n",
       "      <td>0.748783</td>\n",
       "      <td>15.773339</td>\n",
       "    </tr>\n",
       "    <tr>\n",
       "      <th rowspan=\"4\" valign=\"top\">THR218D</th>\n",
       "      <th rowspan=\"4\" valign=\"top\">Shapley Value</th>\n",
       "      <th>(5,)</th>\n",
       "      <td>3.119500</td>\n",
       "      <td>15.112391</td>\n",
       "    </tr>\n",
       "    <tr>\n",
       "      <th>(11,)</th>\n",
       "      <td>0.964068</td>\n",
       "      <td>9.118918</td>\n",
       "    </tr>\n",
       "    <tr>\n",
       "      <th>(16,)</th>\n",
       "      <td>2.322515</td>\n",
       "      <td>7.750083</td>\n",
       "    </tr>\n",
       "    <tr>\n",
       "      <th>(29,)</th>\n",
       "      <td>1.189978</td>\n",
       "      <td>10.984107</td>\n",
       "    </tr>\n",
       "    <tr>\n",
       "      <th rowspan=\"2\" valign=\"top\">TRP293D</th>\n",
       "      <th rowspan=\"2\" valign=\"top\">Shapley Value</th>\n",
       "      <th>(2,)</th>\n",
       "      <td>0.860026</td>\n",
       "      <td>8.304258</td>\n",
       "    </tr>\n",
       "    <tr>\n",
       "      <th>(5,)</th>\n",
       "      <td>1.020438</td>\n",
       "      <td>6.556646</td>\n",
       "    </tr>\n",
       "    <tr>\n",
       "      <th rowspan=\"3\" valign=\"top\">TRP318D</th>\n",
       "      <th rowspan=\"3\" valign=\"top\">Shapley Value</th>\n",
       "      <th>(2,)</th>\n",
       "      <td>1.273816</td>\n",
       "      <td>8.598182</td>\n",
       "    </tr>\n",
       "    <tr>\n",
       "      <th>(5,)</th>\n",
       "      <td>1.002692</td>\n",
       "      <td>9.693690</td>\n",
       "    </tr>\n",
       "    <tr>\n",
       "      <th>(29,)</th>\n",
       "      <td>1.100741</td>\n",
       "      <td>6.610874</td>\n",
       "    </tr>\n",
       "    <tr>\n",
       "      <th>TYR148D</th>\n",
       "      <th>Shapley Value</th>\n",
       "      <th>(21,)</th>\n",
       "      <td>0.847847</td>\n",
       "      <td>4.585152</td>\n",
       "    </tr>\n",
       "    <tr>\n",
       "      <th rowspan=\"3\" valign=\"top\">VAL236D</th>\n",
       "      <th rowspan=\"3\" valign=\"top\">Shapley Value</th>\n",
       "      <th>(11,)</th>\n",
       "      <td>1.046129</td>\n",
       "      <td>11.741708</td>\n",
       "    </tr>\n",
       "    <tr>\n",
       "      <th>(16,)</th>\n",
       "      <td>1.180489</td>\n",
       "      <td>15.649026</td>\n",
       "    </tr>\n",
       "    <tr>\n",
       "      <th>(21,)</th>\n",
       "      <td>2.016014</td>\n",
       "      <td>8.795728</td>\n",
       "    </tr>\n",
       "    <tr>\n",
       "      <th>VAL300D</th>\n",
       "      <th>Shapley Value</th>\n",
       "      <th>(29,)</th>\n",
       "      <td>0.676281</td>\n",
       "      <td>6.924714</td>\n",
       "    </tr>\n",
       "  </tbody>\n",
       "</table>\n",
       "</div>"
      ],
      "text/plain": [
       "                                      weight   distance\n",
       "ligand protein interaction   atoms                     \n",
       "7t2h   ASP147D Shapley Value (2,)   0.643372   7.555810\n",
       "       ILE322D Shapley Value (5,)   0.642808   5.612205\n",
       "       LEU121D Shapley Value (16,)  0.695554   8.833912\n",
       "       LYS233D Shapley Value (5,)   1.833055  11.788715\n",
       "       PHE123D Shapley Value (16,)  0.713142   7.336211\n",
       "       PHE237D Shapley Value (5,)   1.993559  12.376028\n",
       "       PRO122D Shapley Value (2,)   0.748783  15.773339\n",
       "       THR218D Shapley Value (5,)   3.119500  15.112391\n",
       "                             (11,)  0.964068   9.118918\n",
       "                             (16,)  2.322515   7.750083\n",
       "                             (29,)  1.189978  10.984107\n",
       "       TRP293D Shapley Value (2,)   0.860026   8.304258\n",
       "                             (5,)   1.020438   6.556646\n",
       "       TRP318D Shapley Value (2,)   1.273816   8.598182\n",
       "                             (5,)   1.002692   9.693690\n",
       "                             (29,)  1.100741   6.610874\n",
       "       TYR148D Shapley Value (21,)  0.847847   4.585152\n",
       "       VAL236D Shapley Value (11,)  1.046129  11.741708\n",
       "                             (16,)  1.180489  15.649026\n",
       "                             (21,)  2.016014   8.795728\n",
       "       VAL300D Shapley Value (29,)  0.676281   6.924714"
      ]
     },
     "execution_count": 44,
     "metadata": {},
     "output_type": "execute_result"
    }
   ],
   "source": [
    "# construct dataframe for prolif\n",
    "df = pd.DataFrame(columns=[\"ligand\", \"protein\", \"interaction\", \"atoms\", \"weight\", \"distance\"])\n",
    "\n",
    "VOCAB.load_tokenizer(fragmentation)\n",
    "B_abrv = [VOCAB.symbol_to_abrv(VOCAB.idx_to_symbol(i)) for i in B]\n",
    "# iterate through top_20_edges. for each edge, store ligand as 1c86; then map node1 to VOCAB, store as protein; store node2 as atoms; store shapley value as weight; then using calc_distance to calculate distance, and store distance \n",
    "for i, edge in enumerate(top_edges):\n",
    "    if edge[0] == ligand_start_idx-1:\n",
    "        continue\n",
    "    ligand = data_id\n",
    "    # idx here is the idx in the B, use B[idx] to map back to amino acid or atom number\n",
    "    protein = VOCAB.symbol_to_abrv(VOCAB.idx_to_symbol(B[edge[0]])) + str(residue_id[edge[0]-1])\n",
    "    # atom_idx = int(edge[1]-ligand_start_idx)\n",
    "    atom_idx = atom_idxs_random_choice[edge[1]-ligand_start_idx-1]\n",
    "    # create a tuple with only 1 element\n",
    "    atoms = (atom_idx,)\n",
    "    interaction = \"Shapley Value\"\n",
    "    weight = top_edges_shapley[i] * 30\n",
    "    distance = calc_distance(edge[0], edge[1])\n",
    "    df = pd.concat([df, pd.DataFrame({\"ligand\": ligand, \"protein\": protein, \"interaction\": interaction, \"atoms\": atoms, \"weight\": weight, \"distance\": distance})], ignore_index=True)\n",
    "\n",
    "# set atoms type to tuple\n",
    "df.atoms = df.atoms.apply(lambda x: (x,))\n",
    "\n",
    "# order by protein, interaction, atoms\n",
    "df.sort_values(by=[\"ligand\", \"protein\", \"interaction\", \"atoms\"], inplace=True)\n",
    "df.set_index([\"ligand\", \"protein\", \"interaction\", \"atoms\"], inplace=True)\n",
    "df"
   ]
  },
  {
   "cell_type": "markdown",
   "metadata": {},
   "source": [
    "# If edges clustered together, run the below code block again to generate another plot\n",
    "\n",
    "# Please Ignore the Hydrophobic in the bottom left, this is WRONG information "
   ]
  },
  {
   "cell_type": "code",
   "execution_count": 45,
   "metadata": {},
   "outputs": [
    {
     "data": {
      "text/html": [
       "<iframe width=\"100%\" height=\"590px\" frameborder=\"0\" srcdoc=\"\n",
       "        &lt;html&gt;\n",
       "        &lt;head&gt;\n",
       "        &lt;script type=&quot;text/javascript&quot; src=&quot;https://unpkg.com/vis-network@9.0.4/dist/vis-network.min.js&quot;&gt;&lt;/script&gt;\n",
       "        &lt;link href=&quot;https://unpkg.com/vis-network@9.0.4/dist/dist/vis-network.min.css&quot; rel=&quot;stylesheet&quot; type=&quot;text/css&quot; /&gt;\n",
       "        &lt;style type=&quot;text/css&quot;&gt;\n",
       "            body {\n",
       "                padding: 0;\n",
       "                margin: 0;\n",
       "                background: #fff;\n",
       "            }\n",
       "            .legend-btn.residues.disabled {\n",
       "                background: #b4b4b4 !important;\n",
       "                color: #555 !important;\n",
       "            }\n",
       "            .legend-btn.interactions.disabled {\n",
       "                border-color: #b4b4b4 !important;\n",
       "                color: #555 !important;\n",
       "            }\n",
       "        &lt;/style&gt;\n",
       "        &lt;/head&gt;\n",
       "        &lt;body&gt;\n",
       "        &lt;div id=&quot;mynetwork&quot;&gt;&lt;/div&gt;\n",
       "        &lt;div id=&quot;networklegend&quot;&gt;&lt;/div&gt;\n",
       "        &lt;script type=&quot;text/javascript&quot;&gt;\n",
       "            \n",
       "        var ifp, legend, nodes, edges, legend_buttons;\n",
       "        function drawGraph(_id, nodes, edges, options) {\n",
       "            var container = document.getElementById(_id);\n",
       "            nodes = new vis.DataSet(nodes);\n",
       "            edges = new vis.DataSet(edges);\n",
       "            var data = {nodes: nodes, edges: edges};\n",
       "            var network = new vis.Network(container, data, options);\n",
       "            network.on(&quot;stabilizationIterationsDone&quot;, function () {\n",
       "                network.setOptions( { physics: false } );\n",
       "            });\n",
       "            return network;\n",
       "        }\n",
       "        nodes = [{&quot;id&quot;: &quot;ASP147D&quot;, &quot;label&quot;: &quot;ASP147D&quot;, &quot;color&quot;: &quot;#e35959&quot;, &quot;shape&quot;: &quot;box&quot;, &quot;borderWidth&quot;: 0, &quot;physics&quot;: true, &quot;mass&quot;: 2, &quot;group&quot;: &quot;protein&quot;, &quot;residue_type&quot;: &quot;Acidic&quot;}, {&quot;id&quot;: &quot;ILE322D&quot;, &quot;label&quot;: &quot;ILE322D&quot;, &quot;color&quot;: &quot;#59e382&quot;, &quot;shape&quot;: &quot;box&quot;, &quot;borderWidth&quot;: 0, &quot;physics&quot;: true, &quot;mass&quot;: 2, &quot;group&quot;: &quot;protein&quot;, &quot;residue_type&quot;: &quot;Aliphatic&quot;}, {&quot;id&quot;: &quot;LEU121D&quot;, &quot;label&quot;: &quot;LEU121D&quot;, &quot;color&quot;: &quot;#59e382&quot;, &quot;shape&quot;: &quot;box&quot;, &quot;borderWidth&quot;: 0, &quot;physics&quot;: true, &quot;mass&quot;: 2, &quot;group&quot;: &quot;protein&quot;, &quot;residue_type&quot;: &quot;Aliphatic&quot;}, {&quot;id&quot;: &quot;LYS233D&quot;, &quot;label&quot;: &quot;LYS233D&quot;, &quot;color&quot;: &quot;#5979e3&quot;, &quot;shape&quot;: &quot;box&quot;, &quot;borderWidth&quot;: 0, &quot;physics&quot;: true, &quot;mass&quot;: 2, &quot;group&quot;: &quot;protein&quot;, &quot;residue_type&quot;: &quot;Basic&quot;}, {&quot;id&quot;: &quot;PHE123D&quot;, &quot;label&quot;: &quot;PHE123D&quot;, &quot;color&quot;: &quot;#b559e3&quot;, &quot;shape&quot;: &quot;box&quot;, &quot;borderWidth&quot;: 0, &quot;physics&quot;: true, &quot;mass&quot;: 2, &quot;group&quot;: &quot;protein&quot;, &quot;residue_type&quot;: &quot;Aromatic&quot;}, {&quot;id&quot;: &quot;PHE237D&quot;, &quot;label&quot;: &quot;PHE237D&quot;, &quot;color&quot;: &quot;#b559e3&quot;, &quot;shape&quot;: &quot;box&quot;, &quot;borderWidth&quot;: 0, &quot;physics&quot;: true, &quot;mass&quot;: 2, &quot;group&quot;: &quot;protein&quot;, &quot;residue_type&quot;: &quot;Aromatic&quot;}, {&quot;id&quot;: &quot;PRO122D&quot;, &quot;label&quot;: &quot;PRO122D&quot;, &quot;color&quot;: &quot;#59e382&quot;, &quot;shape&quot;: &quot;box&quot;, &quot;borderWidth&quot;: 0, &quot;physics&quot;: true, &quot;mass&quot;: 2, &quot;group&quot;: &quot;protein&quot;, &quot;residue_type&quot;: &quot;Aliphatic&quot;}, {&quot;id&quot;: &quot;THR218D&quot;, &quot;label&quot;: &quot;THR218D&quot;, &quot;color&quot;: &quot;#59bee3&quot;, &quot;shape&quot;: &quot;box&quot;, &quot;borderWidth&quot;: 0, &quot;physics&quot;: true, &quot;mass&quot;: 2, &quot;group&quot;: &quot;protein&quot;, &quot;residue_type&quot;: &quot;Polar&quot;}, {&quot;id&quot;: &quot;TRP293D&quot;, &quot;label&quot;: &quot;TRP293D&quot;, &quot;color&quot;: &quot;#b559e3&quot;, &quot;shape&quot;: &quot;box&quot;, &quot;borderWidth&quot;: 0, &quot;physics&quot;: true, &quot;mass&quot;: 2, &quot;group&quot;: &quot;protein&quot;, &quot;residue_type&quot;: &quot;Aromatic&quot;}, {&quot;id&quot;: &quot;TRP318D&quot;, &quot;label&quot;: &quot;TRP318D&quot;, &quot;color&quot;: &quot;#b559e3&quot;, &quot;shape&quot;: &quot;box&quot;, &quot;borderWidth&quot;: 0, &quot;physics&quot;: true, &quot;mass&quot;: 2, &quot;group&quot;: &quot;protein&quot;, &quot;residue_type&quot;: &quot;Aromatic&quot;}, {&quot;id&quot;: &quot;TYR148D&quot;, &quot;label&quot;: &quot;TYR148D&quot;, &quot;color&quot;: &quot;#b559e3&quot;, &quot;shape&quot;: &quot;box&quot;, &quot;borderWidth&quot;: 0, &quot;physics&quot;: true, &quot;mass&quot;: 2, &quot;group&quot;: &quot;protein&quot;, &quot;residue_type&quot;: &quot;Aromatic&quot;}, {&quot;id&quot;: &quot;VAL236D&quot;, &quot;label&quot;: &quot;VAL236D&quot;, &quot;color&quot;: &quot;#59e382&quot;, &quot;shape&quot;: &quot;box&quot;, &quot;borderWidth&quot;: 0, &quot;physics&quot;: true, &quot;mass&quot;: 2, &quot;group&quot;: &quot;protein&quot;, &quot;residue_type&quot;: &quot;Aliphatic&quot;}, {&quot;id&quot;: &quot;VAL300D&quot;, &quot;label&quot;: &quot;VAL300D&quot;, &quot;color&quot;: &quot;#59e382&quot;, &quot;shape&quot;: &quot;box&quot;, &quot;borderWidth&quot;: 0, &quot;physics&quot;: true, &quot;mass&quot;: 2, &quot;group&quot;: &quot;protein&quot;, &quot;residue_type&quot;: &quot;Aliphatic&quot;}, {&quot;label&quot;: &quot; &quot;, &quot;shape&quot;: &quot;dot&quot;, &quot;color&quot;: &quot;black&quot;, &quot;size&quot;: 5.6000000000000005, &quot;id&quot;: 0, &quot;x&quot;: 229.04109683894612, &quot;y&quot;: 13.783627225186077, &quot;fixed&quot;: true, &quot;group&quot;: &quot;ligand&quot;, &quot;borderWidth&quot;: 0}, {&quot;label&quot;: &quot; &quot;, &quot;shape&quot;: &quot;dot&quot;, &quot;color&quot;: &quot;black&quot;, &quot;size&quot;: 5.6000000000000005, &quot;id&quot;: 1, &quot;x&quot;: 178.8127345155088, &quot;y&quot;: 29.05980535669185, &quot;fixed&quot;: true, &quot;group&quot;: &quot;ligand&quot;, &quot;borderWidth&quot;: 0}, {&quot;label&quot;: &quot; &quot;, &quot;shape&quot;: &quot;dot&quot;, &quot;color&quot;: &quot;black&quot;, &quot;size&quot;: 5.6000000000000005, &quot;id&quot;: 2, &quot;x&quot;: 140.4689950191698, &quot;y&quot;: -6.8011433401411665, &quot;fixed&quot;: true, &quot;group&quot;: &quot;ligand&quot;, &quot;borderWidth&quot;: 0}, {&quot;label&quot;: &quot; &quot;, &quot;shape&quot;: &quot;dot&quot;, &quot;color&quot;: &quot;black&quot;, &quot;size&quot;: 5.6000000000000005, &quot;id&quot;: 3, &quot;x&quot;: 78.35600986863399, &quot;y&quot;: 59.61216161970344, &quot;fixed&quot;: true, &quot;group&quot;: &quot;ligand&quot;, &quot;borderWidth&quot;: 0}, {&quot;label&quot;: &quot; &quot;, &quot;shape&quot;: &quot;dot&quot;, &quot;color&quot;: &quot;black&quot;, &quot;size&quot;: 5.6000000000000005, &quot;id&quot;: 4, &quot;x&quot;: 28.127647545196584, &quot;y&quot;: 74.88833975120922, &quot;fixed&quot;: true, &quot;group&quot;: &quot;ligand&quot;, &quot;borderWidth&quot;: 0}, {&quot;label&quot;: &quot; &quot;, &quot;shape&quot;: &quot;dot&quot;, &quot;color&quot;: &quot;black&quot;, &quot;size&quot;: 5.6000000000000005, &quot;id&quot;: 5, &quot;x&quot;: 16.243024718098223, &quot;y&quot;: 126.02546657954807, &quot;fixed&quot;: true, &quot;group&quot;: &quot;ligand&quot;, &quot;borderWidth&quot;: 0}, {&quot;label&quot;: &quot; &quot;, &quot;shape&quot;: &quot;dot&quot;, &quot;color&quot;: &quot;black&quot;, &quot;size&quot;: 5.6000000000000005, &quot;id&quot;: 6, &quot;x&quot;: 54.58676421443719, &quot;y&quot;: 161.8864152763812, &quot;fixed&quot;: true, &quot;group&quot;: &quot;ligand&quot;, &quot;borderWidth&quot;: 0}, {&quot;label&quot;: &quot; &quot;, &quot;shape&quot;: &quot;dot&quot;, &quot;color&quot;: &quot;black&quot;, &quot;size&quot;: 5.6000000000000005, &quot;id&quot;: 7, &quot;x&quot;: 104.81512653787458, &quot;y&quot;: 146.61023714487533, &quot;fixed&quot;: true, &quot;group&quot;: &quot;ligand&quot;, &quot;borderWidth&quot;: 0}, {&quot;label&quot;: &quot; &quot;, &quot;shape&quot;: &quot;dot&quot;, &quot;color&quot;: &quot;black&quot;, &quot;size&quot;: 5.6000000000000005, &quot;id&quot;: 8, &quot;x&quot;: 116.69974936497299, &quot;y&quot;: 95.47311031653655, &quot;fixed&quot;: true, &quot;group&quot;: &quot;ligand&quot;, &quot;borderWidth&quot;: 0}, {&quot;label&quot;: &quot; &quot;, &quot;shape&quot;: &quot;dot&quot;, &quot;color&quot;: &quot;black&quot;, &quot;size&quot;: 5.6000000000000005, &quot;id&quot;: 9, &quot;x&quot;: 51.89689319939343, &quot;y&quot;: -27.385913905468453, &quot;fixed&quot;: true, &quot;group&quot;: &quot;ligand&quot;, &quot;borderWidth&quot;: 0}, {&quot;label&quot;: &quot; &quot;, &quot;shape&quot;: &quot;dot&quot;, &quot;color&quot;: &quot;black&quot;, &quot;size&quot;: 5.6000000000000005, &quot;id&quot;: 10, &quot;x&quot;: 23.23907338085395, &quot;y&quot;: 16.602486420618966, &quot;fixed&quot;: true, &quot;group&quot;: &quot;ligand&quot;, &quot;borderWidth&quot;: 0}, {&quot;label&quot;: &quot; &quot;, &quot;shape&quot;: &quot;dot&quot;, &quot;color&quot;: &quot;black&quot;, &quot;size&quot;: 5.6000000000000005, &quot;id&quot;: 11, &quot;x&quot;: -29.18490868264717, &quot;y&quot;: 13.77828660373039, &quot;fixed&quot;: true, &quot;group&quot;: &quot;ligand&quot;, &quot;borderWidth&quot;: 0}, {&quot;label&quot;: &quot; &quot;, &quot;shape&quot;: &quot;dot&quot;, &quot;color&quot;: &quot;black&quot;, &quot;size&quot;: 5.6000000000000005, &quot;id&quot;: 12, &quot;x&quot;: -105.37505299111004, &quot;y&quot;: -35.85851335613424, &quot;fixed&quot;: true, &quot;group&quot;: &quot;ligand&quot;, &quot;borderWidth&quot;: 0}, {&quot;label&quot;: &quot; &quot;, &quot;shape&quot;: &quot;dot&quot;, &quot;color&quot;: &quot;black&quot;, &quot;size&quot;: 5.6000000000000005, &quot;id&quot;: 13, &quot;x&quot;: -134.0328728096495, &quot;y&quot;: 8.129886969953166, &quot;fixed&quot;: true, &quot;group&quot;: &quot;ligand&quot;, &quot;borderWidth&quot;: 0}, {&quot;label&quot;: &quot; &quot;, &quot;shape&quot;: &quot;dot&quot;, &quot;color&quot;: &quot;black&quot;, &quot;size&quot;: 5.6000000000000005, &quot;id&quot;: 14, &quot;x&quot;: -186.45685487315058, &quot;y&quot;: 5.305687153064557, &quot;fixed&quot;: true, &quot;group&quot;: &quot;ligand&quot;, &quot;borderWidth&quot;: 0}, {&quot;label&quot;: &quot; &quot;, &quot;shape&quot;: &quot;dot&quot;, &quot;color&quot;: &quot;black&quot;, &quot;size&quot;: 5.6000000000000005, &quot;id&quot;: 15, &quot;x&quot;: -215.11467469169008, &quot;y&quot;: 49.29408747915194, &quot;fixed&quot;: true, &quot;group&quot;: &quot;ligand&quot;, &quot;borderWidth&quot;: 0}, {&quot;label&quot;: &quot; &quot;, &quot;shape&quot;: &quot;dot&quot;, &quot;color&quot;: &quot;black&quot;, &quot;size&quot;: 5.6000000000000005, &quot;id&quot;: 16, &quot;x&quot;: -267.5386567551912, &quot;y&quot;: 46.469887662263325, &quot;fixed&quot;: true, &quot;group&quot;: &quot;ligand&quot;, &quot;borderWidth&quot;: 0}, {&quot;label&quot;: &quot; &quot;, &quot;shape&quot;: &quot;dot&quot;, &quot;color&quot;: &quot;black&quot;, &quot;size&quot;: 5.6000000000000005, &quot;id&quot;: 17, &quot;x&quot;: -291.30481900015286, &quot;y&quot;: -0.3427124807127502, &quot;fixed&quot;: true, &quot;group&quot;: &quot;ligand&quot;, &quot;borderWidth&quot;: 0}, {&quot;label&quot;: &quot; &quot;, &quot;shape&quot;: &quot;dot&quot;, &quot;color&quot;: &quot;black&quot;, &quot;size&quot;: 5.6000000000000005, &quot;id&quot;: 18, &quot;x&quot;: -262.64699918161335, &quot;y&quot;: -44.3311128068001, &quot;fixed&quot;: true, &quot;group&quot;: &quot;ligand&quot;, &quot;borderWidth&quot;: 0}, {&quot;label&quot;: &quot; &quot;, &quot;shape&quot;: &quot;dot&quot;, &quot;color&quot;: &quot;black&quot;, &quot;size&quot;: 5.6000000000000005, &quot;id&quot;: 19, &quot;x&quot;: -210.22301711811232, &quot;y&quot;: -41.5069129899115, &quot;fixed&quot;: true, &quot;group&quot;: &quot;ligand&quot;, &quot;borderWidth&quot;: 0}, {&quot;label&quot;: &quot; &quot;, &quot;shape&quot;: &quot;dot&quot;, &quot;color&quot;: &quot;black&quot;, &quot;size&quot;: 5.6000000000000005, &quot;id&quot;: 20, &quot;x&quot;: -24.293251109069416, &quot;y&quot;: -77.02271386533306, &quot;fixed&quot;: true, &quot;group&quot;: &quot;ligand&quot;, &quot;borderWidth&quot;: 0}, {&quot;label&quot;: &quot; &quot;, &quot;shape&quot;: &quot;dot&quot;, &quot;color&quot;: &quot;black&quot;, &quot;size&quot;: 5.6000000000000005, &quot;id&quot;: 21, &quot;x&quot;: 28.130730954431673, &quot;y&quot;: -74.19851404844452, &quot;fixed&quot;: true, &quot;group&quot;: &quot;ligand&quot;, &quot;borderWidth&quot;: 0}, {&quot;label&quot;: &quot; &quot;, &quot;shape&quot;: &quot;dot&quot;, &quot;color&quot;: &quot;black&quot;, &quot;size&quot;: 5.6000000000000005, &quot;id&quot;: 22, &quot;x&quot;: 56.788550772971135, &quot;y&quot;: -118.18691437453198, &quot;fixed&quot;: true, &quot;group&quot;: &quot;ligand&quot;, &quot;borderWidth&quot;: 0}, {&quot;label&quot;: &quot; &quot;, &quot;shape&quot;: &quot;dot&quot;, &quot;color&quot;: &quot;black&quot;, &quot;size&quot;: 5.6000000000000005, &quot;id&quot;: 23, &quot;x&quot;: 93.8713539948824, &quot;y&quot;: -58.9199374503312, &quot;fixed&quot;: true, &quot;group&quot;: &quot;ligand&quot;, &quot;borderWidth&quot;: 0}, {&quot;label&quot;: &quot; &quot;, &quot;shape&quot;: &quot;dot&quot;, &quot;color&quot;: &quot;black&quot;, &quot;size&quot;: 5.6000000000000005, &quot;id&quot;: 24, &quot;x&quot;: 129.52377971472816, &quot;y&quot;: -142.57192212667277, &quot;fixed&quot;: true, &quot;group&quot;: &quot;ligand&quot;, &quot;borderWidth&quot;: 0}, {&quot;label&quot;: &quot;N&quot;, &quot;shape&quot;: &quot;circle&quot;, &quot;color&quot;: &quot;white&quot;, &quot;font&quot;: {&quot;color&quot;: &quot;blue&quot;}, &quot;id&quot;: 25, &quot;x&quot;: 90.24063269573243, &quot;y&quot;: 8.47503479136456, &quot;fixed&quot;: true, &quot;group&quot;: &quot;ligand&quot;, &quot;borderWidth&quot;: 0}, {&quot;label&quot;: &quot;N&quot;, &quot;shape&quot;: &quot;circle&quot;, &quot;color&quot;: &quot;white&quot;, &quot;font&quot;: {&quot;color&quot;: &quot;blue&quot;}, &quot;id&quot;: 26, &quot;x&quot;: -52.95107092760886, &quot;y&quot;: -33.03431353924561, &quot;fixed&quot;: true, &quot;group&quot;: &quot;ligand&quot;, &quot;borderWidth&quot;: 0}, {&quot;label&quot;: &quot;O&quot;, &quot;shape&quot;: &quot;circle&quot;, &quot;color&quot;: &quot;white&quot;, &quot;font&quot;: {&quot;color&quot;: &quot;red&quot;}, &quot;id&quot;: 27, &quot;x&quot;: 150.05056464950349, &quot;y&quot;: -33.00495858420103, &quot;fixed&quot;: true, &quot;group&quot;: &quot;ligand&quot;, &quot;borderWidth&quot;: 0}, {&quot;label&quot;: &quot;O&quot;, &quot;shape&quot;: &quot;circle&quot;, &quot;color&quot;: &quot;white&quot;, &quot;font&quot;: {&quot;color&quot;: &quot;red&quot;}, &quot;id&quot;: 28, &quot;x&quot;: 120.68013123542033, &quot;y&quot;: -51.19103890053947, &quot;fixed&quot;: true, &quot;group&quot;: &quot;ligand&quot;, &quot;borderWidth&quot;: 0}, {&quot;label&quot;: &quot;O&quot;, &quot;shape&quot;: &quot;circle&quot;, &quot;color&quot;: &quot;white&quot;, &quot;font&quot;: {&quot;color&quot;: &quot;red&quot;}, &quot;id&quot;: 29, &quot;x&quot;: 87.54931891923916, &quot;y&quot;: -111.03789858181003, &quot;fixed&quot;: true, &quot;group&quot;: &quot;ligand&quot;, &quot;borderWidth&quot;: 0}, {&quot;id&quot;: -350027506568553638, &quot;x&quot;: 144.41356312649458, &quot;y&quot;: -5.358790246520812, &quot;shape&quot;: &quot;text&quot;, &quot;label&quot;: &quot; &quot;, &quot;fixed&quot;: true, &quot;physics&quot;: false}, {&quot;id&quot;: 819705583235002354, &quot;x&quot;: 153.99513275682827, &quot;y&quot;: -31.562605490580673, &quot;shape&quot;: &quot;text&quot;, &quot;label&quot;: &quot; &quot;, &quot;fixed&quot;: true, &quot;physics&quot;: false}, {&quot;id&quot;: 6385179788729436204, &quot;x&quot;: 136.524426911845, &quot;y&quot;: -8.243496433761521, &quot;shape&quot;: &quot;text&quot;, &quot;label&quot;: &quot; &quot;, &quot;fixed&quot;: true, &quot;physics&quot;: false}, {&quot;id&quot;: 3595777156378770463, &quot;x&quot;: 146.1059965421787, &quot;y&quot;: -34.44731167782138, &quot;shape&quot;: &quot;text&quot;, &quot;label&quot;: &quot; &quot;, &quot;fixed&quot;: true, &quot;physics&quot;: false}, {&quot;id&quot;: -2744686054792710232, &quot;x&quot;: 77.13391561811353, &quot;y&quot;: 55.59389263382845, &quot;shape&quot;: &quot;text&quot;, &quot;label&quot;: &quot; &quot;, &quot;fixed&quot;: true, &quot;physics&quot;: false}, {&quot;id&quot;: -6558695168346357341, &quot;x&quot;: 26.905553294676125, &quot;y&quot;: 70.87007076533422, &quot;shape&quot;: &quot;text&quot;, &quot;label&quot;: &quot; &quot;, &quot;fixed&quot;: true, &quot;physics&quot;: false}, {&quot;id&quot;: -891356583078850510, &quot;x&quot;: 79.57810411915445, &quot;y&quot;: 63.63043060557843, &quot;shape&quot;: &quot;text&quot;, &quot;label&quot;: &quot; &quot;, &quot;fixed&quot;: true, &quot;physics&quot;: false}, {&quot;id&quot;: 2722413111022037924, &quot;x&quot;: 29.349741795717044, &quot;y&quot;: 78.90660873708421, &quot;shape&quot;: &quot;text&quot;, &quot;label&quot;: &quot; &quot;, &quot;fixed&quot;: true, &quot;physics&quot;: false}, {&quot;id&quot;: -2062033589131301869, &quot;x&quot;: 75.48713397288735, &quot;y&quot;: 62.67966077941056, &quot;shape&quot;: &quot;text&quot;, &quot;label&quot;: &quot; &quot;, &quot;fixed&quot;: true, &quot;physics&quot;: false}, {&quot;id&quot;: -1714675328652643760, &quot;x&quot;: 113.83087346922635, &quot;y&quot;: 98.54060947624366, &quot;shape&quot;: &quot;text&quot;, &quot;label&quot;: &quot; &quot;, &quot;fixed&quot;: true, &quot;physics&quot;: false}, {&quot;id&quot;: -8645686107007764892, &quot;x&quot;: 81.22488576438063, &quot;y&quot;: 56.544662459996324, &quot;shape&quot;: &quot;text&quot;, &quot;label&quot;: &quot; &quot;, &quot;fixed&quot;: true, &quot;physics&quot;: false}, {&quot;id&quot;: 8979411788435344028, &quot;x&quot;: 119.56862526071963, &quot;y&quot;: 92.40561115682944, &quot;shape&quot;: &quot;text&quot;, &quot;label&quot;: &quot; &quot;, &quot;fixed&quot;: true, &quot;physics&quot;: false}, {&quot;id&quot;: 6069867965151226021, &quot;x&quot;: 24.036677398929477, &quot;y&quot;: 73.93756992504134, &quot;shape&quot;: &quot;text&quot;, &quot;label&quot;: &quot; &quot;, &quot;fixed&quot;: true, &quot;physics&quot;: false}, {&quot;id&quot;: -4690812222622658188, &quot;x&quot;: 12.152054571831115, &quot;y&quot;: 125.0746967533802, &quot;shape&quot;: &quot;text&quot;, &quot;label&quot;: &quot; &quot;, &quot;fixed&quot;: true, &quot;physics&quot;: false}, {&quot;id&quot;: -7187532448688458167, &quot;x&quot;: 32.21861769146369, &quot;y&quot;: 75.83910957737709, &quot;shape&quot;: &quot;text&quot;, &quot;label&quot;: &quot; &quot;, &quot;fixed&quot;: true, &quot;physics&quot;: false}, {&quot;id&quot;: 1252078232120583094, &quot;x&quot;: 20.33399486436533, &quot;y&quot;: 126.97623640571594, &quot;shape&quot;: &quot;text&quot;, &quot;label&quot;: &quot; &quot;, &quot;fixed&quot;: true, &quot;physics&quot;: false}, {&quot;id&quot;: 3001007155167390267, &quot;x&quot;: 13.374148822351573, &quot;y&quot;: 129.0929657392552, &quot;shape&quot;: &quot;text&quot;, &quot;label&quot;: &quot; &quot;, &quot;fixed&quot;: true, &quot;physics&quot;: false}, {&quot;id&quot;: 102171723897580578, &quot;x&quot;: 51.71788831869054, &quot;y&quot;: 164.95391443608833, &quot;shape&quot;: &quot;text&quot;, &quot;label&quot;: &quot; &quot;, &quot;fixed&quot;: true, &quot;physics&quot;: false}, {&quot;id&quot;: 7377567787248650700, &quot;x&quot;: 19.111900613844874, &quot;y&quot;: 122.95796741984095, &quot;shape&quot;: &quot;text&quot;, &quot;label&quot;: &quot; &quot;, &quot;fixed&quot;: true, &quot;physics&quot;: false}, {&quot;id&quot;: -1520741568554937472, &quot;x&quot;: 57.455640110183836, &quot;y&quot;: 158.81891611667407, &quot;shape&quot;: &quot;text&quot;, &quot;label&quot;: &quot; &quot;, &quot;fixed&quot;: true, &quot;physics&quot;: false}, {&quot;id&quot;: -3359897795911382243, &quot;x&quot;: 55.80885846495766, &quot;y&quot;: 165.90468426225618, &quot;shape&quot;: &quot;text&quot;, &quot;label&quot;: &quot; &quot;, &quot;fixed&quot;: true, &quot;physics&quot;: false}, {&quot;id&quot;: 2432549608996161545, &quot;x&quot;: 106.03722078839505, &quot;y&quot;: 150.6285061307503, &quot;shape&quot;: &quot;text&quot;, &quot;label&quot;: &quot; &quot;, &quot;fixed&quot;: true, &quot;physics&quot;: false}, {&quot;id&quot;: -5990131087188133342, &quot;x&quot;: 53.36466996391672, &quot;y&quot;: 157.86814629050622, &quot;shape&quot;: &quot;text&quot;, &quot;label&quot;: &quot; &quot;, &quot;fixed&quot;: true, &quot;physics&quot;: false}, {&quot;id&quot;: -4623176686944542509, &quot;x&quot;: 103.5930322873541, &quot;y&quot;: 142.59196815900034, &quot;shape&quot;: &quot;text&quot;, &quot;label&quot;: &quot; &quot;, &quot;fixed&quot;: true, &quot;physics&quot;: false}, {&quot;id&quot;: -4248146567559689546, &quot;x&quot;: 108.90609668414169, &quot;y&quot;: 147.5610069710432, &quot;shape&quot;: &quot;text&quot;, &quot;label&quot;: &quot; &quot;, &quot;fixed&quot;: true, &quot;physics&quot;: false}, {&quot;id&quot;: 8905744184112090265, &quot;x&quot;: 120.7907195112401, &quot;y&quot;: 96.42388014270442, &quot;shape&quot;: &quot;text&quot;, &quot;label&quot;: &quot; &quot;, &quot;fixed&quot;: true, &quot;physics&quot;: false}, {&quot;id&quot;: -1880811056740787962, &quot;x&quot;: 100.72415639160747, &quot;y&quot;: 145.65946731870744, &quot;shape&quot;: &quot;text&quot;, &quot;label&quot;: &quot; &quot;, &quot;fixed&quot;: true, &quot;physics&quot;: false}, {&quot;id&quot;: 5834248568740258740, &quot;x&quot;: 112.60877921870588, &quot;y&quot;: 94.52234049036868, &quot;shape&quot;: &quot;text&quot;, &quot;label&quot;: &quot; &quot;, &quot;fixed&quot;: true, &quot;physics&quot;: false}, {&quot;id&quot;: -5430563644841041041, &quot;x&quot;: -182.7118468617125, &quot;y&quot;: 3.4043941734676197, &quot;shape&quot;: &quot;text&quot;, &quot;label&quot;: &quot; &quot;, &quot;fixed&quot;: true, &quot;physics&quot;: false}, {&quot;id&quot;: -348176998899574402, &quot;x&quot;: -206.47800910667425, &quot;y&quot;: -43.40820596950844, &quot;shape&quot;: &quot;text&quot;, &quot;label&quot;: &quot; &quot;, &quot;fixed&quot;: true, &quot;physics&quot;: false}, {&quot;id&quot;: 6704547750420693255, &quot;x&quot;: -190.20186288458865, &quot;y&quot;: 7.206980132661495, &quot;shape&quot;: &quot;text&quot;, &quot;label&quot;: &quot; &quot;, &quot;fixed&quot;: true, &quot;physics&quot;: false}, {&quot;id&quot;: 495759824936951691, &quot;x&quot;: -213.9680251295504, &quot;y&quot;: -39.60562001031456, &quot;shape&quot;: &quot;text&quot;, &quot;label&quot;: &quot; &quot;, &quot;fixed&quot;: true, &quot;physics&quot;: false}, {&quot;id&quot;: -8008077348343284573, &quot;x&quot;: -189.97592689923758, &quot;y&quot;: 3.013061567581397, &quot;shape&quot;: &quot;text&quot;, &quot;label&quot;: &quot; &quot;, &quot;fixed&quot;: true, &quot;physics&quot;: false}, {&quot;id&quot;: -5206851575650968929, &quot;x&quot;: -218.6337467177771, &quot;y&quot;: 47.00146189366878, &quot;shape&quot;: &quot;text&quot;, &quot;label&quot;: &quot; &quot;, &quot;fixed&quot;: true, &quot;physics&quot;: false}, {&quot;id&quot;: -7246514559496120482, &quot;x&quot;: -182.93778284706357, &quot;y&quot;: 7.598312738547717, &quot;shape&quot;: &quot;text&quot;, &quot;label&quot;: &quot; &quot;, &quot;fixed&quot;: true, &quot;physics&quot;: false}, {&quot;id&quot;: -519172896023294665, &quot;x&quot;: -211.59560266560308, &quot;y&quot;: 51.5867130646351, &quot;shape&quot;: &quot;text&quot;, &quot;label&quot;: &quot; &quot;, &quot;fixed&quot;: true, &quot;physics&quot;: false}, {&quot;id&quot;: 8918146353728780593, &quot;x&quot;: -214.88873870633898, &quot;y&quot;: 45.10016891407185, &quot;shape&quot;: &quot;text&quot;, &quot;label&quot;: &quot; &quot;, &quot;fixed&quot;: true, &quot;physics&quot;: false}, {&quot;id&quot;: 6789011923772856891, &quot;x&quot;: -267.3127207698401, &quot;y&quot;: 42.275969097183236, &quot;shape&quot;: &quot;text&quot;, &quot;label&quot;: &quot; &quot;, &quot;fixed&quot;: true, &quot;physics&quot;: false}, {&quot;id&quot;: -1909560367826057640, &quot;x&quot;: -215.34061067704118, &quot;y&quot;: 53.48800604423203, &quot;shape&quot;: &quot;text&quot;, &quot;label&quot;: &quot; &quot;, &quot;fixed&quot;: true, &quot;physics&quot;: false}, {&quot;id&quot;: 7614507982659377371, &quot;x&quot;: -267.7645927405423, &quot;y&quot;: 50.663806227343414, &quot;shape&quot;: &quot;text&quot;, &quot;label&quot;: &quot; &quot;, &quot;fixed&quot;: true, &quot;physics&quot;: false}, {&quot;id&quot;: 7442726738300558522, &quot;x&quot;: -263.7936487437531, &quot;y&quot;: 44.568594682666394, &quot;shape&quot;: &quot;text&quot;, &quot;label&quot;: &quot; &quot;, &quot;fixed&quot;: true, &quot;physics&quot;: false}, {&quot;id&quot;: 7644746465352470648, &quot;x&quot;: -287.5598109887148, &quot;y&quot;: -2.2440054603096815, &quot;shape&quot;: &quot;text&quot;, &quot;label&quot;: &quot; &quot;, &quot;fixed&quot;: true, &quot;physics&quot;: false}, {&quot;id&quot;: -5381530866212300484, &quot;x&quot;: -271.2836647666293, &quot;y&quot;: 48.371180641860256, &quot;shape&quot;: &quot;text&quot;, &quot;label&quot;: &quot; &quot;, &quot;fixed&quot;: true, &quot;physics&quot;: false}, {&quot;id&quot;: 7337616497327120567, &quot;x&quot;: -295.04982701159093, &quot;y&quot;: 1.5585804988841814, &quot;shape&quot;: &quot;text&quot;, &quot;label&quot;: &quot; &quot;, &quot;fixed&quot;: true, &quot;physics&quot;: false}, {&quot;id&quot;: -8168812286538831200, &quot;x&quot;: -287.7857469740659, &quot;y&quot;: 1.9499131047704115, &quot;shape&quot;: &quot;text&quot;, &quot;label&quot;: &quot; &quot;, &quot;fixed&quot;: true, &quot;physics&quot;: false}, {&quot;id&quot;: -1479046485922931148, &quot;x&quot;: -259.1279271555264, &quot;y&quot;: -42.03848722131694, &quot;shape&quot;: &quot;text&quot;, &quot;label&quot;: &quot; &quot;, &quot;fixed&quot;: true, &quot;physics&quot;: false}, {&quot;id&quot;: 2507770737521545486, &quot;x&quot;: -294.82389102623983, &quot;y&quot;: -2.635338066195912, &quot;shape&quot;: &quot;text&quot;, &quot;label&quot;: &quot; &quot;, &quot;fixed&quot;: true, &quot;physics&quot;: false}, {&quot;id&quot;: -7208410391837756354, &quot;x&quot;: -266.1660712077003, &quot;y&quot;: -46.62373839228326, &quot;shape&quot;: &quot;text&quot;, &quot;label&quot;: &quot; &quot;, &quot;fixed&quot;: true, &quot;physics&quot;: false}, {&quot;id&quot;: 3178712188005397017, &quot;x&quot;: -262.87293516696445, &quot;y&quot;: -40.13719424172001, &quot;shape&quot;: &quot;text&quot;, &quot;label&quot;: &quot; &quot;, &quot;fixed&quot;: true, &quot;physics&quot;: false}, {&quot;id&quot;: -4049317841856489451, &quot;x&quot;: -210.44895310346342, &quot;y&quot;: -37.31299442483141, &quot;shape&quot;: &quot;text&quot;, &quot;label&quot;: &quot; &quot;, &quot;fixed&quot;: true, &quot;physics&quot;: false}, {&quot;id&quot;: -243155200278655026, &quot;x&quot;: -262.42106319626225, &quot;y&quot;: -48.52503137188019, &quot;shape&quot;: &quot;text&quot;, &quot;label&quot;: &quot; &quot;, &quot;fixed&quot;: true, &quot;physics&quot;: false}, {&quot;id&quot;: -1072816754680532076, &quot;x&quot;: -209.99708113276122, &quot;y&quot;: -45.70083155499159, &quot;shape&quot;: &quot;text&quot;, &quot;label&quot;: &quot; &quot;, &quot;fixed&quot;: true, &quot;physics&quot;: false}, {&quot;id&quot;: -8817885546533767816, &quot;x&quot;: 92.70789110063198, &quot;y&quot;: -54.88430192495203, &quot;shape&quot;: &quot;text&quot;, &quot;label&quot;: &quot; &quot;, &quot;fixed&quot;: true, &quot;physics&quot;: false}, {&quot;id&quot;: -3486334822642916941, &quot;x&quot;: 119.51666834116992, &quot;y&quot;: -47.1554033751603, &quot;shape&quot;: &quot;text&quot;, &quot;label&quot;: &quot; &quot;, &quot;fixed&quot;: true, &quot;physics&quot;: false}, {&quot;id&quot;: 2751827427035078133, &quot;x&quot;: 95.03481688913281, &quot;y&quot;: -62.95557297571037, &quot;shape&quot;: &quot;text&quot;, &quot;label&quot;: &quot; &quot;, &quot;fixed&quot;: true, &quot;physics&quot;: false}, {&quot;id&quot;: -6003102865826460743, &quot;x&quot;: 121.84359412967075, &quot;y&quot;: -55.22667442591864, &quot;shape&quot;: &quot;text&quot;, &quot;label&quot;: &quot; &quot;, &quot;fixed&quot;: true, &quot;physics&quot;: false}];\n",
       "        edges = [{&quot;from&quot;: 2, &quot;to&quot;: &quot;ASP147D&quot;, &quot;title&quot;: &quot;Shapley Value: 7.56\\u00c5&quot;, &quot;interaction_type&quot;: &quot;Shapley Value&quot;, &quot;color&quot;: &quot;#59e382&quot;, &quot;smooth&quot;: {&quot;type&quot;: &quot;cubicBezier&quot;, &quot;roundness&quot;: 0.2}, &quot;dashes&quot;: [10], &quot;width&quot;: 3.86023011803627, &quot;group&quot;: &quot;interaction&quot;}, {&quot;from&quot;: 5, &quot;to&quot;: &quot;ILE322D&quot;, &quot;title&quot;: &quot;Shapley Value: 5.61\\u00c5&quot;, &quot;interaction_type&quot;: &quot;Shapley Value&quot;, &quot;color&quot;: &quot;#59e382&quot;, &quot;smooth&quot;: {&quot;type&quot;: &quot;cubicBezier&quot;, &quot;roundness&quot;: 0.2}, &quot;dashes&quot;: [10], &quot;width&quot;: 3.856849193572998, &quot;group&quot;: &quot;interaction&quot;}, {&quot;from&quot;: 16, &quot;to&quot;: &quot;LEU121D&quot;, &quot;title&quot;: &quot;Shapley Value: 8.83\\u00c5&quot;, &quot;interaction_type&quot;: &quot;Shapley Value&quot;, &quot;color&quot;: &quot;#59e382&quot;, &quot;smooth&quot;: {&quot;type&quot;: &quot;cubicBezier&quot;, &quot;roundness&quot;: 0.2}, &quot;dashes&quot;: [10], &quot;width&quot;: 4.17332249879837, &quot;group&quot;: &quot;interaction&quot;}, {&quot;from&quot;: 5, &quot;to&quot;: &quot;LYS233D&quot;, &quot;title&quot;: &quot;Shapley Value: 11.79\\u00c5&quot;, &quot;interaction_type&quot;: &quot;Shapley Value&quot;, &quot;color&quot;: &quot;#59e382&quot;, &quot;smooth&quot;: {&quot;type&quot;: &quot;cubicBezier&quot;, &quot;roundness&quot;: 0.2}, &quot;dashes&quot;: [10], &quot;width&quot;: 10.998329401016235, &quot;group&quot;: &quot;interaction&quot;}, {&quot;from&quot;: 16, &quot;to&quot;: &quot;PHE123D&quot;, &quot;title&quot;: &quot;Shapley Value: 7.34\\u00c5&quot;, &quot;interaction_type&quot;: &quot;Shapley Value&quot;, &quot;color&quot;: &quot;#59e382&quot;, &quot;smooth&quot;: {&quot;type&quot;: &quot;cubicBezier&quot;, &quot;roundness&quot;: 0.2}, &quot;dashes&quot;: [10], &quot;width&quot;: 4.278852939605713, &quot;group&quot;: &quot;interaction&quot;}, {&quot;from&quot;: 5, &quot;to&quot;: &quot;PHE237D&quot;, &quot;title&quot;: &quot;Shapley Value: 12.38\\u00c5&quot;, &quot;interaction_type&quot;: &quot;Shapley Value&quot;, &quot;color&quot;: &quot;#59e382&quot;, &quot;smooth&quot;: {&quot;type&quot;: &quot;cubicBezier&quot;, &quot;roundness&quot;: 0.2}, &quot;dashes&quot;: [10], &quot;width&quot;: 11.961351871490479, &quot;group&quot;: &quot;interaction&quot;}, {&quot;from&quot;: 2, &quot;to&quot;: &quot;PRO122D&quot;, &quot;title&quot;: &quot;Shapley Value: 15.77\\u00c5&quot;, &quot;interaction_type&quot;: &quot;Shapley Value&quot;, &quot;color&quot;: &quot;#59e382&quot;, &quot;smooth&quot;: {&quot;type&quot;: &quot;cubicBezier&quot;, &quot;roundness&quot;: 0.2}, &quot;dashes&quot;: [10], &quot;width&quot;: 4.4926952719688416, &quot;group&quot;: &quot;interaction&quot;}, {&quot;from&quot;: 5, &quot;to&quot;: &quot;THR218D&quot;, &quot;title&quot;: &quot;Shapley Value: 15.11\\u00c5&quot;, &quot;interaction_type&quot;: &quot;Shapley Value&quot;, &quot;color&quot;: &quot;#59e382&quot;, &quot;smooth&quot;: {&quot;type&quot;: &quot;cubicBezier&quot;, &quot;roundness&quot;: 0.2}, &quot;dashes&quot;: [10], &quot;width&quot;: 18.716999530792236, &quot;group&quot;: &quot;interaction&quot;}, {&quot;from&quot;: 11, &quot;to&quot;: &quot;THR218D&quot;, &quot;title&quot;: &quot;Shapley Value: 9.12\\u00c5&quot;, &quot;interaction_type&quot;: &quot;Shapley Value&quot;, &quot;color&quot;: &quot;#59e382&quot;, &quot;smooth&quot;: {&quot;type&quot;: &quot;cubicBezier&quot;, &quot;roundness&quot;: 0.2}, &quot;dashes&quot;: [10], &quot;width&quot;: 5.784410119056702, &quot;group&quot;: &quot;interaction&quot;}, {&quot;from&quot;: 16, &quot;to&quot;: &quot;THR218D&quot;, &quot;title&quot;: &quot;Shapley Value: 7.75\\u00c5&quot;, &quot;interaction_type&quot;: &quot;Shapley Value&quot;, &quot;color&quot;: &quot;#59e382&quot;, &quot;smooth&quot;: {&quot;type&quot;: &quot;cubicBezier&quot;, &quot;roundness&quot;: 0.2}, &quot;dashes&quot;: [10], &quot;width&quot;: 13.93509292602539, &quot;group&quot;: &quot;interaction&quot;}, {&quot;from&quot;: 29, &quot;to&quot;: &quot;THR218D&quot;, &quot;title&quot;: &quot;Shapley Value: 10.98\\u00c5&quot;, &quot;interaction_type&quot;: &quot;Shapley Value&quot;, &quot;color&quot;: &quot;#59e382&quot;, &quot;smooth&quot;: {&quot;type&quot;: &quot;cubicBezier&quot;, &quot;roundness&quot;: 0.2}, &quot;dashes&quot;: [10], &quot;width&quot;: 7.139865517616272, &quot;group&quot;: &quot;interaction&quot;}, {&quot;from&quot;: 2, &quot;to&quot;: &quot;TRP293D&quot;, &quot;title&quot;: &quot;Shapley Value: 8.30\\u00c5&quot;, &quot;interaction_type&quot;: &quot;Shapley Value&quot;, &quot;color&quot;: &quot;#59e382&quot;, &quot;smooth&quot;: {&quot;type&quot;: &quot;cubicBezier&quot;, &quot;roundness&quot;: 0.2}, &quot;dashes&quot;: [10], &quot;width&quot;: 5.160153329372406, &quot;group&quot;: &quot;interaction&quot;}, {&quot;from&quot;: 5, &quot;to&quot;: &quot;TRP293D&quot;, &quot;title&quot;: &quot;Shapley Value: 6.56\\u00c5&quot;, &quot;interaction_type&quot;: &quot;Shapley Value&quot;, &quot;color&quot;: &quot;#59e382&quot;, &quot;smooth&quot;: {&quot;type&quot;: &quot;cubicBezier&quot;, &quot;roundness&quot;: 0.2}, &quot;dashes&quot;: [10], &quot;width&quot;: 6.122625946998596, &quot;group&quot;: &quot;interaction&quot;}, {&quot;from&quot;: 2, &quot;to&quot;: &quot;TRP318D&quot;, &quot;title&quot;: &quot;Shapley Value: 8.60\\u00c5&quot;, &quot;interaction_type&quot;: &quot;Shapley Value&quot;, &quot;color&quot;: &quot;#59e382&quot;, &quot;smooth&quot;: {&quot;type&quot;: &quot;cubicBezier&quot;, &quot;roundness&quot;: 0.2}, &quot;dashes&quot;: [10], &quot;width&quot;: 7.642897725105286, &quot;group&quot;: &quot;interaction&quot;}, {&quot;from&quot;: 5, &quot;to&quot;: &quot;TRP318D&quot;, &quot;title&quot;: &quot;Shapley Value: 9.69\\u00c5&quot;, &quot;interaction_type&quot;: &quot;Shapley Value&quot;, &quot;color&quot;: &quot;#59e382&quot;, &quot;smooth&quot;: {&quot;type&quot;: &quot;cubicBezier&quot;, &quot;roundness&quot;: 0.2}, &quot;dashes&quot;: [10], &quot;width&quot;: 6.0161497592926025, &quot;group&quot;: &quot;interaction&quot;}, {&quot;from&quot;: 29, &quot;to&quot;: &quot;TRP318D&quot;, &quot;title&quot;: &quot;Shapley Value: 6.61\\u00c5&quot;, &quot;interaction_type&quot;: &quot;Shapley Value&quot;, &quot;color&quot;: &quot;#59e382&quot;, &quot;smooth&quot;: {&quot;type&quot;: &quot;cubicBezier&quot;, &quot;roundness&quot;: 0.2}, &quot;dashes&quot;: [10], &quot;width&quot;: 6.604448318481445, &quot;group&quot;: &quot;interaction&quot;}, {&quot;from&quot;: 21, &quot;to&quot;: &quot;TYR148D&quot;, &quot;title&quot;: &quot;Shapley Value: 4.59\\u00c5&quot;, &quot;interaction_type&quot;: &quot;Shapley Value&quot;, &quot;color&quot;: &quot;#59e382&quot;, &quot;smooth&quot;: {&quot;type&quot;: &quot;cubicBezier&quot;, &quot;roundness&quot;: 0.2}, &quot;dashes&quot;: [10], &quot;width&quot;: 5.087079226970673, &quot;group&quot;: &quot;interaction&quot;}, {&quot;from&quot;: 11, &quot;to&quot;: &quot;VAL236D&quot;, &quot;title&quot;: &quot;Shapley Value: 11.74\\u00c5&quot;, &quot;interaction_type&quot;: &quot;Shapley Value&quot;, &quot;color&quot;: &quot;#59e382&quot;, &quot;smooth&quot;: {&quot;type&quot;: &quot;cubicBezier&quot;, &quot;roundness&quot;: 0.2}, &quot;dashes&quot;: [10], &quot;width&quot;: 6.2767757177352905, &quot;group&quot;: &quot;interaction&quot;}, {&quot;from&quot;: 16, &quot;to&quot;: &quot;VAL236D&quot;, &quot;title&quot;: &quot;Shapley Value: 15.65\\u00c5&quot;, &quot;interaction_type&quot;: &quot;Shapley Value&quot;, &quot;color&quot;: &quot;#59e382&quot;, &quot;smooth&quot;: {&quot;type&quot;: &quot;cubicBezier&quot;, &quot;roundness&quot;: 0.2}, &quot;dashes&quot;: [10], &quot;width&quot;: 7.082935094833374, &quot;group&quot;: &quot;interaction&quot;}, {&quot;from&quot;: 21, &quot;to&quot;: &quot;VAL236D&quot;, &quot;title&quot;: &quot;Shapley Value: 8.80\\u00c5&quot;, &quot;interaction_type&quot;: &quot;Shapley Value&quot;, &quot;color&quot;: &quot;#59e382&quot;, &quot;smooth&quot;: {&quot;type&quot;: &quot;cubicBezier&quot;, &quot;roundness&quot;: 0.2}, &quot;dashes&quot;: [10], &quot;width&quot;: 12.096086740493774, &quot;group&quot;: &quot;interaction&quot;}, {&quot;from&quot;: 29, &quot;to&quot;: &quot;VAL300D&quot;, &quot;title&quot;: &quot;Shapley Value: 6.92\\u00c5&quot;, &quot;interaction_type&quot;: &quot;Shapley Value&quot;, &quot;color&quot;: &quot;#59e382&quot;, &quot;smooth&quot;: {&quot;type&quot;: &quot;cubicBezier&quot;, &quot;roundness&quot;: 0.2}, &quot;dashes&quot;: [10], &quot;width&quot;: 4.0576881766319275, &quot;group&quot;: &quot;interaction&quot;}, {&quot;from&quot;: 0, &quot;to&quot;: 1, &quot;color&quot;: &quot;black&quot;, &quot;physics&quot;: false, &quot;group&quot;: &quot;ligand&quot;, &quot;width&quot;: 4}, {&quot;from&quot;: 1, &quot;to&quot;: 2, &quot;color&quot;: &quot;black&quot;, &quot;physics&quot;: false, &quot;group&quot;: &quot;ligand&quot;, &quot;width&quot;: 4}, {&quot;from&quot;: 2, &quot;to&quot;: 25, &quot;color&quot;: &quot;black&quot;, &quot;physics&quot;: false, &quot;group&quot;: &quot;ligand&quot;, &quot;width&quot;: 4}, {&quot;from&quot;: -350027506568553638, &quot;to&quot;: 819705583235002354, &quot;color&quot;: &quot;black&quot;, &quot;physics&quot;: false, &quot;dashes&quot;: false, &quot;group&quot;: &quot;ligand&quot;, &quot;width&quot;: 4}, {&quot;from&quot;: 6385179788729436204, &quot;to&quot;: 3595777156378770463, &quot;color&quot;: &quot;black&quot;, &quot;physics&quot;: false, &quot;dashes&quot;: false, &quot;group&quot;: &quot;ligand&quot;, &quot;width&quot;: 4}, {&quot;from&quot;: -2744686054792710232, &quot;to&quot;: -6558695168346357341, &quot;color&quot;: &quot;black&quot;, &quot;physics&quot;: false, &quot;dashes&quot;: [10], &quot;group&quot;: &quot;ligand&quot;, &quot;width&quot;: 4}, {&quot;from&quot;: -891356583078850510, &quot;to&quot;: 2722413111022037924, &quot;color&quot;: &quot;black&quot;, &quot;physics&quot;: false, &quot;dashes&quot;: [10], &quot;group&quot;: &quot;ligand&quot;, &quot;width&quot;: 4}, {&quot;from&quot;: -2062033589131301869, &quot;to&quot;: -1714675328652643760, &quot;color&quot;: &quot;black&quot;, &quot;physics&quot;: false, &quot;dashes&quot;: [10], &quot;group&quot;: &quot;ligand&quot;, &quot;width&quot;: 4}, {&quot;from&quot;: -8645686107007764892, &quot;to&quot;: 8979411788435344028, &quot;color&quot;: &quot;black&quot;, &quot;physics&quot;: false, &quot;dashes&quot;: [10], &quot;group&quot;: &quot;ligand&quot;, &quot;width&quot;: 4}, {&quot;from&quot;: 3, &quot;to&quot;: 25, &quot;color&quot;: &quot;black&quot;, &quot;physics&quot;: false, &quot;group&quot;: &quot;ligand&quot;, &quot;width&quot;: 4}, {&quot;from&quot;: 6069867965151226021, &quot;to&quot;: -4690812222622658188, &quot;color&quot;: &quot;black&quot;, &quot;physics&quot;: false, &quot;dashes&quot;: [10], &quot;group&quot;: &quot;ligand&quot;, &quot;width&quot;: 4}, {&quot;from&quot;: -7187532448688458167, &quot;to&quot;: 1252078232120583094, &quot;color&quot;: &quot;black&quot;, &quot;physics&quot;: false, &quot;dashes&quot;: [10], &quot;group&quot;: &quot;ligand&quot;, &quot;width&quot;: 4}, {&quot;from&quot;: 3001007155167390267, &quot;to&quot;: 102171723897580578, &quot;color&quot;: &quot;black&quot;, &quot;physics&quot;: false, &quot;dashes&quot;: [10], &quot;group&quot;: &quot;ligand&quot;, &quot;width&quot;: 4}, {&quot;from&quot;: 7377567787248650700, &quot;to&quot;: -1520741568554937472, &quot;color&quot;: &quot;black&quot;, &quot;physics&quot;: false, &quot;dashes&quot;: [10], &quot;group&quot;: &quot;ligand&quot;, &quot;width&quot;: 4}, {&quot;from&quot;: -3359897795911382243, &quot;to&quot;: 2432549608996161545, &quot;color&quot;: &quot;black&quot;, &quot;physics&quot;: false, &quot;dashes&quot;: [10], &quot;group&quot;: &quot;ligand&quot;, &quot;width&quot;: 4}, {&quot;from&quot;: -5990131087188133342, &quot;to&quot;: -4623176686944542509, &quot;color&quot;: &quot;black&quot;, &quot;physics&quot;: false, &quot;dashes&quot;: [10], &quot;group&quot;: &quot;ligand&quot;, &quot;width&quot;: 4}, {&quot;from&quot;: -4248146567559689546, &quot;to&quot;: 8905744184112090265, &quot;color&quot;: &quot;black&quot;, &quot;physics&quot;: false, &quot;dashes&quot;: [10], &quot;group&quot;: &quot;ligand&quot;, &quot;width&quot;: 4}, {&quot;from&quot;: -1880811056740787962, &quot;to&quot;: 5834248568740258740, &quot;color&quot;: &quot;black&quot;, &quot;physics&quot;: false, &quot;dashes&quot;: [10], &quot;group&quot;: &quot;ligand&quot;, &quot;width&quot;: 4}, {&quot;from&quot;: 9, &quot;to&quot;: 25, &quot;color&quot;: &quot;black&quot;, &quot;physics&quot;: false, &quot;group&quot;: &quot;ligand&quot;, &quot;width&quot;: 4}, {&quot;from&quot;: 9, &quot;to&quot;: 10, &quot;color&quot;: &quot;black&quot;, &quot;physics&quot;: false, &quot;group&quot;: &quot;ligand&quot;, &quot;width&quot;: 4}, {&quot;from&quot;: 9, &quot;to&quot;: 23, &quot;color&quot;: &quot;black&quot;, &quot;physics&quot;: false, &quot;group&quot;: &quot;ligand&quot;, &quot;width&quot;: 4}, {&quot;from&quot;: 9, &quot;to&quot;: 21, &quot;color&quot;: &quot;black&quot;, &quot;physics&quot;: false, &quot;group&quot;: &quot;ligand&quot;, &quot;width&quot;: 4}, {&quot;from&quot;: 10, &quot;to&quot;: 11, &quot;color&quot;: &quot;black&quot;, &quot;physics&quot;: false, &quot;group&quot;: &quot;ligand&quot;, &quot;width&quot;: 4}, {&quot;from&quot;: 11, &quot;to&quot;: 26, &quot;color&quot;: &quot;black&quot;, &quot;physics&quot;: false, &quot;group&quot;: &quot;ligand&quot;, &quot;width&quot;: 4}, {&quot;from&quot;: 12, &quot;to&quot;: 26, &quot;color&quot;: &quot;black&quot;, &quot;physics&quot;: false, &quot;group&quot;: &quot;ligand&quot;, &quot;width&quot;: 4}, {&quot;from&quot;: 12, &quot;to&quot;: 13, &quot;color&quot;: &quot;black&quot;, &quot;physics&quot;: false, &quot;group&quot;: &quot;ligand&quot;, &quot;width&quot;: 4}, {&quot;from&quot;: 13, &quot;to&quot;: 14, &quot;color&quot;: &quot;black&quot;, &quot;physics&quot;: false, &quot;group&quot;: &quot;ligand&quot;, &quot;width&quot;: 4}, {&quot;from&quot;: -5430563644841041041, &quot;to&quot;: -348176998899574402, &quot;color&quot;: &quot;black&quot;, &quot;physics&quot;: false, &quot;dashes&quot;: [10], &quot;group&quot;: &quot;ligand&quot;, &quot;width&quot;: 4}, {&quot;from&quot;: 6704547750420693255, &quot;to&quot;: 495759824936951691, &quot;color&quot;: &quot;black&quot;, &quot;physics&quot;: false, &quot;dashes&quot;: [10], &quot;group&quot;: &quot;ligand&quot;, &quot;width&quot;: 4}, {&quot;from&quot;: -8008077348343284573, &quot;to&quot;: -5206851575650968929, &quot;color&quot;: &quot;black&quot;, &quot;physics&quot;: false, &quot;dashes&quot;: [10], &quot;group&quot;: &quot;ligand&quot;, &quot;width&quot;: 4}, {&quot;from&quot;: -7246514559496120482, &quot;to&quot;: -519172896023294665, &quot;color&quot;: &quot;black&quot;, &quot;physics&quot;: false, &quot;dashes&quot;: [10], &quot;group&quot;: &quot;ligand&quot;, &quot;width&quot;: 4}, {&quot;from&quot;: 8918146353728780593, &quot;to&quot;: 6789011923772856891, &quot;color&quot;: &quot;black&quot;, &quot;physics&quot;: false, &quot;dashes&quot;: [10], &quot;group&quot;: &quot;ligand&quot;, &quot;width&quot;: 4}, {&quot;from&quot;: -1909560367826057640, &quot;to&quot;: 7614507982659377371, &quot;color&quot;: &quot;black&quot;, &quot;physics&quot;: false, &quot;dashes&quot;: [10], &quot;group&quot;: &quot;ligand&quot;, &quot;width&quot;: 4}, {&quot;from&quot;: 7442726738300558522, &quot;to&quot;: 7644746465352470648, &quot;color&quot;: &quot;black&quot;, &quot;physics&quot;: false, &quot;dashes&quot;: [10], &quot;group&quot;: &quot;ligand&quot;, &quot;width&quot;: 4}, {&quot;from&quot;: -5381530866212300484, &quot;to&quot;: 7337616497327120567, &quot;color&quot;: &quot;black&quot;, &quot;physics&quot;: false, &quot;dashes&quot;: [10], &quot;group&quot;: &quot;ligand&quot;, &quot;width&quot;: 4}, {&quot;from&quot;: -8168812286538831200, &quot;to&quot;: -1479046485922931148, &quot;color&quot;: &quot;black&quot;, &quot;physics&quot;: false, &quot;dashes&quot;: [10], &quot;group&quot;: &quot;ligand&quot;, &quot;width&quot;: 4}, {&quot;from&quot;: 2507770737521545486, &quot;to&quot;: -7208410391837756354, &quot;color&quot;: &quot;black&quot;, &quot;physics&quot;: false, &quot;dashes&quot;: [10], &quot;group&quot;: &quot;ligand&quot;, &quot;width&quot;: 4}, {&quot;from&quot;: 3178712188005397017, &quot;to&quot;: -4049317841856489451, &quot;color&quot;: &quot;black&quot;, &quot;physics&quot;: false, &quot;dashes&quot;: [10], &quot;group&quot;: &quot;ligand&quot;, &quot;width&quot;: 4}, {&quot;from&quot;: -243155200278655026, &quot;to&quot;: -1072816754680532076, &quot;color&quot;: &quot;black&quot;, &quot;physics&quot;: false, &quot;dashes&quot;: [10], &quot;group&quot;: &quot;ligand&quot;, &quot;width&quot;: 4}, {&quot;from&quot;: 20, &quot;to&quot;: 21, &quot;color&quot;: &quot;black&quot;, &quot;physics&quot;: false, &quot;group&quot;: &quot;ligand&quot;, &quot;width&quot;: 4}, {&quot;from&quot;: 20, &quot;to&quot;: 26, &quot;color&quot;: &quot;black&quot;, &quot;physics&quot;: false, &quot;group&quot;: &quot;ligand&quot;, &quot;width&quot;: 4}, {&quot;from&quot;: 21, &quot;to&quot;: 22, &quot;color&quot;: &quot;black&quot;, &quot;physics&quot;: false, &quot;group&quot;: &quot;ligand&quot;, &quot;width&quot;: 4}, {&quot;from&quot;: -8817885546533767816, &quot;to&quot;: -3486334822642916941, &quot;color&quot;: &quot;black&quot;, &quot;physics&quot;: false, &quot;dashes&quot;: false, &quot;group&quot;: &quot;ligand&quot;, &quot;width&quot;: 4}, {&quot;from&quot;: 2751827427035078133, &quot;to&quot;: -6003102865826460743, &quot;color&quot;: &quot;black&quot;, &quot;physics&quot;: false, &quot;dashes&quot;: false, &quot;group&quot;: &quot;ligand&quot;, &quot;width&quot;: 4}, {&quot;from&quot;: 23, &quot;to&quot;: 29, &quot;color&quot;: &quot;black&quot;, &quot;physics&quot;: false, &quot;group&quot;: &quot;ligand&quot;, &quot;width&quot;: 4}, {&quot;from&quot;: 24, &quot;to&quot;: 29, &quot;color&quot;: &quot;black&quot;, &quot;physics&quot;: false, &quot;group&quot;: &quot;ligand&quot;, &quot;width&quot;: 4}];\n",
       "        ifp = drawGraph(&#x27;mynetwork&#x27;, nodes, edges, {&quot;width&quot;: &quot;100%&quot;, &quot;height&quot;: &quot;500px&quot;, &quot;nodes&quot;: {&quot;font&quot;: {&quot;size&quot;: 20}}, &quot;physics&quot;: {&quot;barnesHut&quot;: {&quot;avoidOverlap&quot;: 0.8, &quot;springConstant&quot;: 0.1}}});\n",
       "    \n",
       "        legend_buttons = [{&quot;index&quot;: 0, &quot;label&quot;: &quot;Acidic&quot;, &quot;color&quot;: &quot;#e35959&quot;, &quot;group&quot;: &quot;residues&quot;}, {&quot;index&quot;: 1, &quot;label&quot;: &quot;Aliphatic&quot;, &quot;color&quot;: &quot;#59e382&quot;, &quot;group&quot;: &quot;residues&quot;}, {&quot;index&quot;: 2, &quot;label&quot;: &quot;Aromatic&quot;, &quot;color&quot;: &quot;#b559e3&quot;, &quot;group&quot;: &quot;residues&quot;}, {&quot;index&quot;: 3, &quot;label&quot;: &quot;Basic&quot;, &quot;color&quot;: &quot;#5979e3&quot;, &quot;group&quot;: &quot;residues&quot;}, {&quot;index&quot;: 4, &quot;label&quot;: &quot;Polar&quot;, &quot;color&quot;: &quot;#59bee3&quot;, &quot;group&quot;: &quot;residues&quot;}, {&quot;index&quot;: 0, &quot;label&quot;: &quot;Shapley Value&quot;, &quot;color&quot;: &quot;#59e382&quot;, &quot;group&quot;: &quot;interactions&quot;}];\n",
       "        legend = document.getElementById(&#x27;networklegend&#x27;);\n",
       "        var div_residues = document.createElement(&#x27;div&#x27;);\n",
       "        var div_interactions = document.createElement(&#x27;div&#x27;);\n",
       "        var disabled = [];\n",
       "        var legend_callback = function() {\n",
       "            this.classList.toggle(&quot;disabled&quot;);\n",
       "            var hide = this.classList.contains(&quot;disabled&quot;);\n",
       "            var show = !hide;\n",
       "            var btn_label = this.innerHTML;\n",
       "            if (hide) {\n",
       "                disabled.push(btn_label);\n",
       "            } else {\n",
       "                disabled = disabled.filter(x =&gt; x !== btn_label);\n",
       "            }\n",
       "            var node_update = [],\n",
       "                edge_update = [];\n",
       "            // click on residue type\n",
       "            if (this.classList.contains(&quot;residues&quot;)) {\n",
       "                nodes.forEach((node) =&gt; {\n",
       "                    // find nodes corresponding to this type\n",
       "                    if (node.residue_type === btn_label) {\n",
       "                        // if hiding this type and residue isn&#x27;t already hidden\n",
       "                        if (hide &amp;&amp; !node.hidden) {\n",
       "                            node.hidden = true;\n",
       "                            node_update.push(node);\n",
       "                        // if showing this type and residue isn&#x27;t already visible\n",
       "                        } else if (show &amp;&amp; node.hidden) {\n",
       "                            // display if there&#x27;s at least one of its edge that isn&#x27;t hidden\n",
       "                            num_edges_active = edges.filter(x =&gt; x.to === node.id)\n",
       "                                                    .map(x =&gt; Boolean(x.hidden))\n",
       "                                                    .filter(x =&gt; !x)\n",
       "                                                    .length;\n",
       "                            if (num_edges_active &gt; 0) {\n",
       "                                node.hidden = false;\n",
       "                                node_update.push(node);\n",
       "                            }\n",
       "                        }\n",
       "                    }\n",
       "                });\n",
       "                ifp.body.data.nodes.update(node_update);\n",
       "            // click on interaction type\n",
       "            } else {\n",
       "                edges.forEach((edge) =&gt; {\n",
       "                    // find edges corresponding to this type\n",
       "                    if (edge.interaction_type === btn_label) {\n",
       "                        edge.hidden = !edge.hidden;\n",
       "                        edge_update.push(edge);\n",
       "                        // number of active edges for the corresponding residue\n",
       "                        var num_edges_active = edges.filter(x =&gt; x.to === edge.to)\n",
       "                                               .map(x =&gt; Boolean(x.hidden))\n",
       "                                               .filter(x =&gt; !x)\n",
       "                                               .length;\n",
       "                        // find corresponding residue\n",
       "                        var ix = nodes.findIndex(x =&gt; x.id === edge.to);\n",
       "                        // only change visibility if residue_type not being hidden\n",
       "                        if (!(disabled.includes(nodes[ix].residue_type))) {\n",
       "                            // hide if no edge being shown for this residue\n",
       "                            if (hide &amp;&amp; (num_edges_active === 0)) {\n",
       "                                nodes[ix].hidden = true;\n",
       "                                node_update.push(nodes[ix]);\n",
       "                            // show if edges are being shown\n",
       "                            } else if (show &amp;&amp; (num_edges_active &gt; 0)) {\n",
       "                                nodes[ix].hidden = false;\n",
       "                                node_update.push(nodes[ix]);\n",
       "                            }\n",
       "                        }\n",
       "                    }\n",
       "                });\n",
       "                ifp.body.data.nodes.update(node_update);\n",
       "                ifp.body.data.edges.update(edge_update);\n",
       "            }\n",
       "        };\n",
       "        legend_buttons.forEach(function(v,i) {\n",
       "            if (v.group === &quot;residues&quot;) {\n",
       "                var div = div_residues;\n",
       "                var border = &quot;none&quot;;\n",
       "                var color = v.color;\n",
       "            } else {\n",
       "                var div = div_interactions;\n",
       "                var border = &quot;3px dashed &quot; + v.color;\n",
       "                var color = &quot;white&quot;;\n",
       "            }\n",
       "            var button = div.appendChild(document.createElement(&#x27;button&#x27;));\n",
       "            button.classList.add(&quot;legend-btn&quot;, v.group);\n",
       "            button.innerHTML = v.label;\n",
       "            Object.assign(button.style, {\n",
       "                &quot;cursor&quot;: &quot;pointer&quot;,\n",
       "                &quot;background-color&quot;: color,\n",
       "                &quot;border&quot;: border,\n",
       "                &quot;border-radius&quot;: &quot;5px&quot;,\n",
       "                &quot;padding&quot;: &quot;5px&quot;,\n",
       "                &quot;margin&quot;: &quot;5px&quot;,\n",
       "                &quot;font&quot;: &quot;14px &#x27;Arial&#x27;, sans-serif&quot;,\n",
       "            });\n",
       "            button.onclick = legend_callback;\n",
       "        });\n",
       "        legend.appendChild(div_residues);\n",
       "        legend.appendChild(div_interactions);\n",
       "        \n",
       "        &lt;/script&gt;\n",
       "        &lt;/body&gt;\n",
       "        &lt;/html&gt;\n",
       "    \"></iframe>"
      ],
      "text/plain": [
       "<IPython.core.display.HTML object>"
      ]
     },
     "execution_count": 45,
     "metadata": {},
     "output_type": "execute_result"
    }
   ],
   "source": [
    "# construct prolif network and visualize\n",
    "\n",
    "lg = LigNetwork(df, ligand_mol)\n",
    "# set color for edge\n",
    "lg.COLORS['interactions']['Shapley Value'] = '#59e382'\n",
    "lg.display()"
   ]
  },
  {
   "cell_type": "code",
   "execution_count": null,
   "metadata": {},
   "outputs": [],
   "source": []
  }
 ],
 "metadata": {
  "kernelspec": {
   "display_name": "GET",
   "language": "python",
   "name": "python3"
  },
  "language_info": {
   "codemirror_mode": {
    "name": "ipython",
    "version": 3
   },
   "file_extension": ".py",
   "mimetype": "text/x-python",
   "name": "python",
   "nbconvert_exporter": "python",
   "pygments_lexer": "ipython3",
   "version": "3.9.19"
  }
 },
 "nbformat": 4,
 "nbformat_minor": 2
}
