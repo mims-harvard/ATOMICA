{
 "cells": [
  {
   "cell_type": "markdown",
   "metadata": {},
   "source": [
    "Given the same ligand, can you do arithmetic \n",
    "(protein-ligand complex embedding) - (protein embedding) + (new protein embedding) = (new protein-ligand complex embedding) ?"
   ]
  },
  {
   "cell_type": "code",
   "execution_count": 11,
   "metadata": {},
   "outputs": [
    {
     "name": "stdout",
     "output_type": "stream",
     "text": [
      "/n/holylabs/LABS/mzitnik_lab/Users/afang/GET\n"
     ]
    }
   ],
   "source": [
    "import os\n",
    "import sys\n",
    "\n",
    "# Get the current notebook's directory\n",
    "current_directory = os.getcwd()\n",
    "\n",
    "# Get the parent directory\n",
    "parent_directory = os.path.dirname(os.path.dirname(current_directory))\n",
    "\n",
    "# Add the parent directory to the module search path\n",
    "sys.path.insert(0, parent_directory)\n",
    "print(parent_directory)"
   ]
  },
  {
   "cell_type": "code",
   "execution_count": 1,
   "metadata": {},
   "outputs": [],
   "source": [
    "import pandas as pd\n",
    "df = pd.read_csv(\"/n/holyscratch01/mzitnik_lab/afang/data/qbiolip/PL/PL_nonredund.txt\")"
   ]
  },
  {
   "cell_type": "code",
   "execution_count": 7,
   "metadata": {},
   "outputs": [
    {
     "data": {
      "text/plain": [
       "Ligand_ID\n",
       "CLA     16530\n",
       "kmer     7880\n",
       "ADP      3819\n",
       "HEM      2610\n",
       "ATP      2527\n",
       "        ...  \n",
       "3IV         1\n",
       "3IY         1\n",
       "AN6         1\n",
       "UMK         1\n",
       "3GG         1\n",
       "Name: count, Length: 7638, dtype: int64"
      ]
     },
     "execution_count": 7,
     "metadata": {},
     "output_type": "execute_result"
    }
   ],
   "source": [
    "df[\"Ligand_ID\"].value_counts()"
   ]
  },
  {
   "cell_type": "code",
   "execution_count": 12,
   "metadata": {},
   "outputs": [
    {
     "name": "stderr",
     "output_type": "stream",
     "text": [
      "/n/home13/afang/.conda/envs/interactenv1/lib/python3.9/site-packages/tqdm/auto.py:21: TqdmWarning: IProgress not found. Please update jupyter and ipywidgets. See https://ipywidgets.readthedocs.io/en/stable/user_install.html\n",
      "  from .autonotebook import tqdm as notebook_tqdm\n"
     ]
    }
   ],
   "source": [
    "from data.converter.pdb_to_list_blocks import pdb_to_list_blocks\n",
    "from data.converter.sm_pdb_to_blocks import sm_pdb_to_blocks\n",
    "import data.dataset\n",
    "from data.atom3d_dataset import LBADataset\n",
    "import models\n",
    "import torch\n",
    "from trainers.abs_trainer import Trainer\n",
    "import importlib\n",
    "import matplotlib.pyplot as plt\n",
    "from torch.utils.data import DataLoader\n",
    "from tqdm import tqdm\n",
    "import numpy as np\n",
    "from models import DenoisePretrainModel, AffinityPredictor\n",
    "from rdkit import Chem\n",
    "from rdkit.Chem import AllChem, DataStructs\n",
    "import itertools\n",
    "import random\n",
    "import scipy\n",
    "from torch_scatter import scatter_sum"
   ]
  },
  {
   "cell_type": "code",
   "execution_count": 13,
   "metadata": {},
   "outputs": [],
   "source": [
    "import importlib\n",
    "importlib.reload(data.dataset)\n",
    "from data.dataset import VOCAB\n",
    "from data.dataset import blocks_interface, blocks_to_data\n",
    "from data.dataset import BlockGeoAffDataset, PDBBindBenchmark, DynamicBatchWrapper"
   ]
  },
  {
   "cell_type": "markdown",
   "metadata": {},
   "source": [
    "Finetuned model"
   ]
  },
  {
   "cell_type": "code",
   "execution_count": 3,
   "metadata": {},
   "outputs": [],
   "source": [
    "# pretrain_ckpt = \"/n/holyscratch01/mzitnik_lab/afang/GET/datasets/LBA/split-by-sequence-identity-30/models/InteractNN/version_112/checkpoint/epoch144_step61190.ckpt\"\n",
    "# model = torch.load(pretrain_ckpt, map_location='cpu')\n",
    "# model = model.to(\"cuda\")"
   ]
  },
  {
   "cell_type": "markdown",
   "metadata": {},
   "source": [
    "Pretrained model"
   ]
  },
  {
   "cell_type": "code",
   "execution_count": 27,
   "metadata": {},
   "outputs": [
    {
     "name": "stderr",
     "output_type": "stream",
     "text": [
      "/n/home13/afang/.conda/envs/interactenv1/lib/python3.9/site-packages/torch/overrides.py:110: UserWarning: 'has_cuda' is deprecated, please use 'torch.backends.cuda.is_built()'\n",
      "  torch.has_cuda,\n",
      "/n/home13/afang/.conda/envs/interactenv1/lib/python3.9/site-packages/torch/overrides.py:111: UserWarning: 'has_cudnn' is deprecated, please use 'torch.backends.cudnn.is_available()'\n",
      "  torch.has_cudnn,\n",
      "/n/home13/afang/.conda/envs/interactenv1/lib/python3.9/site-packages/torch/overrides.py:117: UserWarning: 'has_mps' is deprecated, please use 'torch.backends.mps.is_built()'\n",
      "  torch.has_mps,\n",
      "/n/home13/afang/.conda/envs/interactenv1/lib/python3.9/site-packages/torch/overrides.py:118: UserWarning: 'has_mkldnn' is deprecated, please use 'torch.backends.mkldnn.is_available()'\n",
      "  torch.has_mkldnn,\n",
      "/n/home13/afang/.conda/envs/interactenv1/lib/python3.9/site-packages/torch/jit/_check.py:178: UserWarning: The TorchScript type system doesn't support instance-level annotations on empty non-base types in `__init__`. Instead, either 1) use a type annotation in the class body, or 2) wrap the type in `torch.jit.Attribute`.\n",
      "  warnings.warn(\n"
     ]
    }
   ],
   "source": [
    "# pretrain_ckpt = \"/n/holyscratch01/mzitnik_lab/afang/GET/pretrain/models/InteractNN-global/version_76/checkpoint/epoch8_step690593.ckpt\" # pretrained only\n",
    "pretrain_ckpt = \"/n/holyscratch01/mzitnik_lab/afang/GET/pretrain/models/InteractNN-torsion/version_1/checkpoint/epoch47_step797222.ckpt\"\n",
    "# pretrain_ckpt = \"/n/holyscratch01/mzitnik_lab/afang/GET/pretrain/models/InteractNN-gaussian/version_0/checkpoint/epoch35_step597506.ckpt\"\n",
    "\n",
    "model = AffinityPredictor.load_from_pretrained(pretrain_ckpt)\n",
    "model = model.to(\"cuda\")"
   ]
  },
  {
   "cell_type": "code",
   "execution_count": 14,
   "metadata": {},
   "outputs": [],
   "source": [
    "dataset = PDBBindBenchmark(\"/n/holylabs/LABS/mzitnik_lab/Users/afang/GET/datasets/BioLiP/processed-QBioLiP/QBioLiP_PL_PS_300_valid.pkl\")"
   ]
  },
  {
   "cell_type": "code",
   "execution_count": 22,
   "metadata": {},
   "outputs": [
    {
     "data": {
      "text/plain": [
       "Counter({'CLA': 1422,\n",
       "         'ADP': 320,\n",
       "         'NAD': 213,\n",
       "         'ATP': 206,\n",
       "         'HEM': 205,\n",
       "         'SO4': 195,\n",
       "         'FAD': 178,\n",
       "         'SF4': 176,\n",
       "         'HEC': 145,\n",
       "         'PO4': 135,\n",
       "         'NAP': 128,\n",
       "         'FMN': 121,\n",
       "         'CHL': 120,\n",
       "         'BCL': 111,\n",
       "         'GOL': 111,\n",
       "         'PLP': 86,\n",
       "         'GDP': 83,\n",
       "         'ANP': 79,\n",
       "         'SAH': 77,\n",
       "         'FES': 67,\n",
       "         'CL': 65,\n",
       "         'MAN': 63,\n",
       "         'AMP': 62,\n",
       "         'COA': 61,\n",
       "         'CLR': 60,\n",
       "         'GLC': 60,\n",
       "         'NAG': 58,\n",
       "         'GTP': 57,\n",
       "         'C8E': 54,\n",
       "         'NDP': 51,\n",
       "         'Y01': 49,\n",
       "         'AGS': 48,\n",
       "         'BCR': 44,\n",
       "         'SAM': 43,\n",
       "         'UDP': 40,\n",
       "         'GSH': 40,\n",
       "         'A86': 39,\n",
       "         'GLY': 37,\n",
       "         'P8E': 37,\n",
       "         'UNK': 37,\n",
       "         'CL7': 37,\n",
       "         'BGC': 36,\n",
       "         'IOD': 31,\n",
       "         'GLU': 30,\n",
       "         'ACT': 30,\n",
       "         'PEB': 29,\n",
       "         'BCT': 29,\n",
       "         'TPP': 29,\n",
       "         'AF3': 27,\n",
       "         'ACO': 26,\n",
       "         'NAI': 25,\n",
       "         'PGW': 24,\n",
       "         '6OU': 23,\n",
       "         'PYR': 22,\n",
       "         'EDO': 22,\n",
       "         'GNP': 20,\n",
       "         'CO3': 20,\n",
       "         'DTP': 20,\n",
       "         'IMP': 19,\n",
       "         '5GP': 18,\n",
       "         'AZI': 18,\n",
       "         'LYS': 18,\n",
       "         'OXY': 18,\n",
       "         'CIT': 17,\n",
       "         'AKG': 17,\n",
       "         'PLX': 17,\n",
       "         'O': 17,\n",
       "         'SIA': 17,\n",
       "         'BMA': 16,\n",
       "         'NH2': 16,\n",
       "         'ARG': 16,\n",
       "         'ADN': 15,\n",
       "         'TYD': 15,\n",
       "         'MPD': 15,\n",
       "         'GLN': 15,\n",
       "         'PHO': 15,\n",
       "         'RET': 15,\n",
       "         'XE': 15,\n",
       "         'IHP': 14,\n",
       "         'FMT': 14,\n",
       "         'POP': 14,\n",
       "         'CYS': 14,\n",
       "         'PQN': 14,\n",
       "         'TRP': 14,\n",
       "         'UPG': 13,\n",
       "         'SPO': 13,\n",
       "         '2AN': 13,\n",
       "         'ASP': 13,\n",
       "         'F3S': 13,\n",
       "         'CVM': 13,\n",
       "         'ALF': 13,\n",
       "         'UNL': 13,\n",
       "         'PEG': 12,\n",
       "         'PCA': 12,\n",
       "         'TYR': 12,\n",
       "         'ADE': 12,\n",
       "         'KC1': 12,\n",
       "         'CYC': 12,\n",
       "         'LBN': 12,\n",
       "         'ALA': 11,\n",
       "         'OXL': 11,\n",
       "         'CMP': 11,\n",
       "         'GSP': 11,\n",
       "         'F6C': 10,\n",
       "         'DMU': 10,\n",
       "         'UD1': 10,\n",
       "         'CDL': 10,\n",
       "         'CAP': 10,\n",
       "         '8CT': 10,\n",
       "         'B12': 10,\n",
       "         'LEU': 10,\n",
       "         'II0': 10,\n",
       "         'C2E': 9,\n",
       "         'UMP': 9,\n",
       "         'OCA': 9,\n",
       "         'PEP': 9,\n",
       "         'ACE': 9,\n",
       "         'FRU': 9,\n",
       "         'BU3': 9,\n",
       "         'POL': 9,\n",
       "         'DUP': 9,\n",
       "         'PRO': 9,\n",
       "         'ACP': 9,\n",
       "         'CRT': 9,\n",
       "         'MPG': 9,\n",
       "         'U5P': 9,\n",
       "         'U': 9,\n",
       "         'NO2': 9,\n",
       "         'GAL': 9,\n",
       "         'DFP': 9,\n",
       "         'HIS': 8,\n",
       "         'R5P': 8,\n",
       "         'PHE': 8,\n",
       "         'FEO': 8,\n",
       "         'BLA': 8,\n",
       "         'INI': 8,\n",
       "         'ASN': 8,\n",
       "         'LMT': 8,\n",
       "         'PNS': 8,\n",
       "         '975': 8,\n",
       "         'WO4': 8,\n",
       "         'SO3': 8,\n",
       "         'A3P': 8,\n",
       "         '1PS': 8,\n",
       "         'MQ9': 7,\n",
       "         'CHT': 7,\n",
       "         'BCB': 7,\n",
       "         'PIO': 7,\n",
       "         'CUA': 7,\n",
       "         'XYP': 7,\n",
       "         'MET': 7,\n",
       "         'G4P': 7,\n",
       "         '07D': 7,\n",
       "         'ARF': 7,\n",
       "         'LMN': 7,\n",
       "         'AP5': 7,\n",
       "         'MCT': 7,\n",
       "         'ZEX': 7,\n",
       "         'VAL': 7,\n",
       "         'FK5': 7,\n",
       "         'FUC': 7,\n",
       "         'CTP': 7,\n",
       "         'MGD': 6,\n",
       "         '5LD': 6,\n",
       "         'LPE': 6,\n",
       "         'KCX': 6,\n",
       "         'Q6L': 6,\n",
       "         'CAO': 6,\n",
       "         'CHO': 6,\n",
       "         'P3S': 6,\n",
       "         'AHR': 6,\n",
       "         'THR': 6,\n",
       "         'BPH': 6,\n",
       "         'OPE': 6,\n",
       "         'SEP': 6,\n",
       "         'SER': 6,\n",
       "         'DXC': 6,\n",
       "         '78M': 6,\n",
       "         '3PE': 5,\n",
       "         'BTI': 5,\n",
       "         'BB2': 5,\n",
       "         'SCN': 5,\n",
       "         'RP5': 5,\n",
       "         'TBR': 5,\n",
       "         'SVR': 5,\n",
       "         'COD': 5,\n",
       "         'SRO': 5,\n",
       "         'DAN': 5,\n",
       "         'MEN': 5,\n",
       "         'G6P': 5,\n",
       "         'ERG': 5,\n",
       "         'ECH': 5,\n",
       "         'UPL': 5,\n",
       "         'CDP': 5,\n",
       "         'DAL': 5,\n",
       "         'FME': 5,\n",
       "         'G2P': 5,\n",
       "         'TMO': 5,\n",
       "         'BR': 5,\n",
       "         'MTX': 5,\n",
       "         'CPL': 5,\n",
       "         'IMD': 5,\n",
       "         'PEF': 5,\n",
       "         '13P': 5,\n",
       "         'FDA': 5,\n",
       "         'PQJ': 5,\n",
       "         'APC': 5,\n",
       "         'XYS': 5,\n",
       "         'DAO': 5,\n",
       "         'PTD': 5,\n",
       "         'FLC': 5,\n",
       "         'NEX': 5,\n",
       "         'PID': 5,\n",
       "         'GBF': 5,\n",
       "         'BTN': 4,\n",
       "         'SPD': 4,\n",
       "         '3MG': 4,\n",
       "         'CAC': 4,\n",
       "         '9Y0': 4,\n",
       "         'PGO': 4,\n",
       "         'MTA': 4,\n",
       "         'FBP': 4,\n",
       "         'SSA': 4,\n",
       "         'TFA': 4,\n",
       "         'BDF': 4,\n",
       "         'CYT': 4,\n",
       "         'O4B': 4,\n",
       "         '89P': 4,\n",
       "         'ETF': 4,\n",
       "         'GLA': 4,\n",
       "         'EMO': 4,\n",
       "         'KC2': 4,\n",
       "         'H3L': 4,\n",
       "         'FER': 4,\n",
       "         'PXG': 4,\n",
       "         'ASC': 4,\n",
       "         'C15': 4,\n",
       "         'CL0': 4,\n",
       "         'PMP': 4,\n",
       "         'IPE': 4,\n",
       "         'TTP': 4,\n",
       "         'CTN': 4,\n",
       "         'OHT': 4,\n",
       "         'VO4': 4,\n",
       "         'MBN': 4,\n",
       "         'TMP': 4,\n",
       "         'C5P': 4,\n",
       "         'PDO': 4,\n",
       "         'DGL': 4,\n",
       "         'A': 4,\n",
       "         '2HP': 4,\n",
       "         'CLF': 4,\n",
       "         'G6Q': 4,\n",
       "         'Y9H': 4,\n",
       "         'AJP': 4,\n",
       "         'BDP': 4,\n",
       "         'I3C': 4,\n",
       "         'FUL': 4,\n",
       "         'BME': 4,\n",
       "         'ILE': 4,\n",
       "         'GCO': 4,\n",
       "         'IAC': 4,\n",
       "         'NO3': 4,\n",
       "         'PIS': 4,\n",
       "         'BU2': 4,\n",
       "         'XIB': 4,\n",
       "         'SF3': 4,\n",
       "         'HEA': 4,\n",
       "         'XMP': 4,\n",
       "         '3PO': 4,\n",
       "         'ETA': 4,\n",
       "         'PG4': 4,\n",
       "         'UTP': 4,\n",
       "         '1N7': 4,\n",
       "         'MOO': 4,\n",
       "         'BG6': 4,\n",
       "         'FAH': 4,\n",
       "         'AYE': 4,\n",
       "         '6NT': 4,\n",
       "         'OAA': 4,\n",
       "         'PAU': 3,\n",
       "         'NTA': 3,\n",
       "         'NCA': 3,\n",
       "         'LB6': 3,\n",
       "         'HEB': 3,\n",
       "         '3PG': 3,\n",
       "         'F': 3,\n",
       "         '48F': 3,\n",
       "         'HDD': 3,\n",
       "         '1M3': 3,\n",
       "         'RHR': 3,\n",
       "         'RHE': 3,\n",
       "         '210': 3,\n",
       "         'MLI': 3,\n",
       "         'HXJ': 3,\n",
       "         'COM': 3,\n",
       "         'NPO': 3,\n",
       "         'BUA': 3,\n",
       "         'BIO': 3,\n",
       "         'GMP': 3,\n",
       "         'BOG': 3,\n",
       "         'TCH': 3,\n",
       "         'MYC': 3,\n",
       "         'AGP': 3,\n",
       "         'IWJ': 3,\n",
       "         'PRP': 3,\n",
       "         'E7U': 3,\n",
       "         'PP9': 3,\n",
       "         'VIV': 3,\n",
       "         'BU4': 3,\n",
       "         'PQQ': 3,\n",
       "         'MLT': 3,\n",
       "         '6PC': 3,\n",
       "         'FFQ': 3,\n",
       "         'SKM': 3,\n",
       "         'XAT': 3,\n",
       "         'HXG': 3,\n",
       "         'IPA': 3,\n",
       "         'B3O': 3,\n",
       "         'MLY': 3,\n",
       "         '289': 3,\n",
       "         '5RP': 3,\n",
       "         'OOY': 3,\n",
       "         'DST': 3,\n",
       "         'DHL': 3,\n",
       "         'BXX': 3,\n",
       "         'GBM': 3,\n",
       "         'G3P': 3,\n",
       "         'G39': 3,\n",
       "         'URE': 3,\n",
       "         'SHM': 3,\n",
       "         'CR2': 3,\n",
       "         'KNA': 3,\n",
       "         'RIB': 3,\n",
       "         'CLM': 3,\n",
       "         'I3P': 3,\n",
       "         'UQ1': 3,\n",
       "         'PCP': 3,\n",
       "         'CW2': 3,\n",
       "         'APR': 3,\n",
       "         'SC4': 3,\n",
       "         'MXE': 3,\n",
       "         'P5S': 3,\n",
       "         '8K6': 3,\n",
       "         'NRQ': 3,\n",
       "         'HFG': 3,\n",
       "         'W71': 3,\n",
       "         'DUT': 3,\n",
       "         'F6R': 3,\n",
       "         'CDC': 3,\n",
       "         'LLH': 3,\n",
       "         'PKZ': 3,\n",
       "         'PAL': 3,\n",
       "         'GTR': 3,\n",
       "         'DLY': 3,\n",
       "         'JDP': 3,\n",
       "         'FPS': 3,\n",
       "         'FUM': 3,\n",
       "         'GLV': 3,\n",
       "         'PBG': 3,\n",
       "         'HCB': 3,\n",
       "         'COO': 3,\n",
       "         '1GP': 3,\n",
       "         'SBT': 3,\n",
       "         'DOA': 3,\n",
       "         'MFX': 3,\n",
       "         'OAE': 3,\n",
       "         '9ZR': 3,\n",
       "         'ICB': 3,\n",
       "         'GN1': 3,\n",
       "         'A2G': 3,\n",
       "         'Z99': 3,\n",
       "         'AQH': 3,\n",
       "         'FNR': 3,\n",
       "         '2PG': 3,\n",
       "         'AR6': 3,\n",
       "         'UGA': 3,\n",
       "         'HBI': 3,\n",
       "         'DMA': 3,\n",
       "         'NGA': 3,\n",
       "         'TSS': 3,\n",
       "         'GFB': 3,\n",
       "         '9TL': 2,\n",
       "         'G3D': 2,\n",
       "         'G2F': 2,\n",
       "         'NEH': 2,\n",
       "         'HHR': 2,\n",
       "         'URI': 2,\n",
       "         '85I': 2,\n",
       "         'JGR': 2,\n",
       "         'PLM': 2,\n",
       "         '0XW': 2,\n",
       "         'CRO': 2,\n",
       "         'H4B': 2,\n",
       "         'TOY': 2,\n",
       "         'PGA': 2,\n",
       "         'FEA': 2,\n",
       "         '5DL': 2,\n",
       "         '6PN': 2,\n",
       "         'PH2': 2,\n",
       "         'PO3': 2,\n",
       "         'MMA': 2,\n",
       "         'CAQ': 2,\n",
       "         'TCE': 2,\n",
       "         '1VU': 2,\n",
       "         'JPI': 2,\n",
       "         'H4X': 2,\n",
       "         'SD4': 2,\n",
       "         'XCC': 2,\n",
       "         'PLG': 2,\n",
       "         'LOP': 2,\n",
       "         'DR6': 2,\n",
       "         'ICT': 2,\n",
       "         '9JE': 2,\n",
       "         'C6P': 2,\n",
       "         'TSC': 2,\n",
       "         'X3D': 2,\n",
       "         'PXP': 2,\n",
       "         'TRH': 2,\n",
       "         '9CS': 2,\n",
       "         'QEI': 2,\n",
       "         'US9': 2,\n",
       "         'FAR': 2,\n",
       "         'EL5': 2,\n",
       "         'CO8': 2,\n",
       "         'MGC': 2,\n",
       "         'LOC': 2,\n",
       "         'NO': 2,\n",
       "         'STU': 2,\n",
       "         'PGU': 2,\n",
       "         '9Z9': 2,\n",
       "         '2HC': 2,\n",
       "         '9RN': 2,\n",
       "         'EGY': 2,\n",
       "         '7YN': 2,\n",
       "         'VFV': 2,\n",
       "         'BEM': 2,\n",
       "         'DCP': 2,\n",
       "         'ZZ7': 2,\n",
       "         'OZT': 2,\n",
       "         'HZZ': 2,\n",
       "         'SFG': 2,\n",
       "         '4UO': 2,\n",
       "         'CNR': 2,\n",
       "         'SLB': 2,\n",
       "         'YJ0': 2,\n",
       "         'JAA': 2,\n",
       "         'HXC': 2,\n",
       "         '6EU': 2,\n",
       "         '58H': 2,\n",
       "         'NOS': 2,\n",
       "         'C2R': 2,\n",
       "         'MVN': 2,\n",
       "         'GUA': 2,\n",
       "         'GTS': 2,\n",
       "         '3ZQ': 2,\n",
       "         'X5M': 2,\n",
       "         'P4I': 2,\n",
       "         'HDS': 2,\n",
       "         'PYC': 2,\n",
       "         'AEN': 2,\n",
       "         'FPP': 2,\n",
       "         'EDT': 2,\n",
       "         'EPJ': 2,\n",
       "         'DPM': 2,\n",
       "         'CRS': 2,\n",
       "         'DNF': 2,\n",
       "         'IPM': 2,\n",
       "         'PIE': 2,\n",
       "         'MFU': 2,\n",
       "         '72I': 2,\n",
       "         'DD6': 2,\n",
       "         'I5P': 2,\n",
       "         'UD7': 2,\n",
       "         'I7D': 2,\n",
       "         '1N1': 2,\n",
       "         'WVH': 2,\n",
       "         'GG6': 2,\n",
       "         'AV0': 2,\n",
       "         'SI3': 2,\n",
       "         'TFP': 2,\n",
       "         'LBV': 2,\n",
       "         'RIP': 2,\n",
       "         'RAP': 2,\n",
       "         '7MT': 2,\n",
       "         'SIR': 2,\n",
       "         'GEM': 2,\n",
       "         'IVF': 2,\n",
       "         '1Q0': 2,\n",
       "         'PDA': 2,\n",
       "         'AQN': 2,\n",
       "         'NSN': 2,\n",
       "         '046': 2,\n",
       "         'IND': 2,\n",
       "         'O01': 2,\n",
       "         'MFN': 2,\n",
       "         '48Y': 2,\n",
       "         '2BA': 2,\n",
       "         'G5A': 2,\n",
       "         'BMG': 2,\n",
       "         'PIM': 2,\n",
       "         'DDZ': 2,\n",
       "         'YNP': 2,\n",
       "         'DCM': 2,\n",
       "         'U51': 2,\n",
       "         '6FA': 2,\n",
       "         'RHB': 2,\n",
       "         'PSJ': 2,\n",
       "         'RPA': 2,\n",
       "         'LGT': 2,\n",
       "         'RIS': 2,\n",
       "         'X0Y': 2,\n",
       "         'B4P': 2,\n",
       "         'MGF': 2,\n",
       "         'NGS': 2,\n",
       "         'XLN': 2,\n",
       "         'QN8': 2,\n",
       "         '97N': 2,\n",
       "         'PDN': 2,\n",
       "         '8PP': 2,\n",
       "         '37X': 2,\n",
       "         'ALS': 2,\n",
       "         'CSS': 2,\n",
       "         'MRY': 2,\n",
       "         'GPS': 2,\n",
       "         '7ID': 2,\n",
       "         'REO': 2,\n",
       "         'D5M': 2,\n",
       "         'IMH': 2,\n",
       "         'VCA': 2,\n",
       "         'ZOL': 2,\n",
       "         '03S': 2,\n",
       "         '8RE': 2,\n",
       "         'DXX': 2,\n",
       "         '16D': 2,\n",
       "         'LVJ': 2,\n",
       "         'DEF': 2,\n",
       "         'HAS': 2,\n",
       "         'YFP': 2,\n",
       "         'TPO': 2,\n",
       "         '0JO': 2,\n",
       "         'NS0': 2,\n",
       "         'ZEA': 2,\n",
       "         '9CR': 2,\n",
       "         'GDL': 2,\n",
       "         'TCL': 2,\n",
       "         'ADX': 2,\n",
       "         'FON': 2,\n",
       "         'IPH': 2,\n",
       "         'AMR': 2,\n",
       "         'NH3': 2,\n",
       "         'DCQ': 2,\n",
       "         'TP7': 2,\n",
       "         '65I': 2,\n",
       "         '79M': 2,\n",
       "         'KIV': 2,\n",
       "         'HO6': 2,\n",
       "         'DA': 2,\n",
       "         '0HZ': 2,\n",
       "         '9S8': 2,\n",
       "         'PE4': 2,\n",
       "         'U52': 2,\n",
       "         'E9E': 2,\n",
       "         'DG': 2,\n",
       "         'N2P': 2,\n",
       "         '2IT': 2,\n",
       "         'J3U': 2,\n",
       "         'AZM': 2,\n",
       "         'MLD': 2,\n",
       "         '3BV': 2,\n",
       "         'RRX': 2,\n",
       "         'TRT': 2,\n",
       "         'QQ7': 2,\n",
       "         'OCH': 2,\n",
       "         'EPU': 2,\n",
       "         'QUS': 2,\n",
       "         'PDC': 2,\n",
       "         'PMM': 2,\n",
       "         'OSM': 2,\n",
       "         'TUD': 2,\n",
       "         'PV9': 2,\n",
       "         '0MV': 2,\n",
       "         'REA': 2,\n",
       "         'LYC': 2,\n",
       "         'M6P': 2,\n",
       "         'IMO': 2,\n",
       "         'PC1': 2,\n",
       "         'ZK1': 2,\n",
       "         'PS9': 2,\n",
       "         '0HK': 2,\n",
       "         'PTO': 2,\n",
       "         'A5A': 2,\n",
       "         'CIR': 2,\n",
       "         'FYJ': 2,\n",
       "         'COI': 2,\n",
       "         'K36': 2,\n",
       "         'MUN': 2,\n",
       "         'RUU': 2,\n",
       "         'DYU': 2,\n",
       "         'GDD': 2,\n",
       "         'P8K': 2,\n",
       "         'COS': 2,\n",
       "         'ZMP': 2,\n",
       "         'TYE': 2,\n",
       "         '1AC': 2,\n",
       "         'NMN': 2,\n",
       "         'NAR': 2,\n",
       "         'DQA': 2,\n",
       "         'DHY': 2,\n",
       "         'P4K': 2,\n",
       "         'KGD': 2,\n",
       "         'INS': 2,\n",
       "         '2KH': 2,\n",
       "         '2PN': 2,\n",
       "         'AAE': 2,\n",
       "         'HQO': 2,\n",
       "         '9YM': 2,\n",
       "         'EQ3': 2,\n",
       "         'PRE': 2,\n",
       "         '402': 2,\n",
       "         'GGC': 2,\n",
       "         'DIU': 2,\n",
       "         'MA4': 2,\n",
       "         'CSO': 2,\n",
       "         '1O4': 2,\n",
       "         '4NB': 2,\n",
       "         'BCA': 2,\n",
       "         '16G': 2,\n",
       "         'PN7': 2,\n",
       "         'PUB': 2,\n",
       "         'DND': 2,\n",
       "         '6DR': 2,\n",
       "         'C2F': 2,\n",
       "         'DTH': 2,\n",
       "         'SDT': 2,\n",
       "         'FOC': 2,\n",
       "         'FEC': 2,\n",
       "         'IPT': 2,\n",
       "         'PLR': 2,\n",
       "         'EPH': 2,\n",
       "         '1HC': 2,\n",
       "         'SLA': 2,\n",
       "         'H2S': 2,\n",
       "         'HG3': 2,\n",
       "         'CAA': 2,\n",
       "         '1R2': 2,\n",
       "         'TRI': 2,\n",
       "         'PEO': 2,\n",
       "         'XCP': 2,\n",
       "         'GUN': 2,\n",
       "         'F1G': 1,\n",
       "         'NFU': 1,\n",
       "         'RXY': 1,\n",
       "         'NRF': 1,\n",
       "         'F7N': 1,\n",
       "         'PT5': 1,\n",
       "         '85R': 1,\n",
       "         'URP': 1,\n",
       "         'PGT': 1,\n",
       "         'LPK': 1,\n",
       "         'QXH': 1,\n",
       "         'FOU': 1,\n",
       "         'WHS': 1,\n",
       "         '9YF': 1,\n",
       "         '1YJ': 1,\n",
       "         'C5J': 1,\n",
       "         'R1P': 1,\n",
       "         'RCJ': 1,\n",
       "         '2AS': 1,\n",
       "         'N2O': 1,\n",
       "         'FCO': 1,\n",
       "         'GWM': 1,\n",
       "         'OUO': 1,\n",
       "         'SY8': 1,\n",
       "         'WTT': 1,\n",
       "         'ET': 1,\n",
       "         '8HG': 1,\n",
       "         'MO': 1,\n",
       "         'KTA': 1,\n",
       "         'PNY': 1,\n",
       "         'R52': 1,\n",
       "         '44E': 1,\n",
       "         'AO6': 1,\n",
       "         'URA': 1,\n",
       "         'RZP': 1,\n",
       "         'ONM': 1,\n",
       "         'CFE': 1,\n",
       "         'E64': 1,\n",
       "         'AWI': 1,\n",
       "         'CXY': 1,\n",
       "         'TZD': 1,\n",
       "         'SFE': 1,\n",
       "         'JUT': 1,\n",
       "         '7D2': 1,\n",
       "         'FUQ': 1,\n",
       "         'KJG': 1,\n",
       "         'GCU': 1,\n",
       "         '3OH': 1,\n",
       "         '8KY': 1,\n",
       "         'BQ9': 1,\n",
       "         'DGN': 1,\n",
       "         'BNI': 1,\n",
       "         'HCI': 1,\n",
       "         '8IE': 1,\n",
       "         '1GZ': 1,\n",
       "         'DZA': 1,\n",
       "         'CHD': 1,\n",
       "         '8Z5': 1,\n",
       "         'NQR': 1,\n",
       "         'ONA': 1,\n",
       "         'QA7': 1,\n",
       "         'SLX': 1,\n",
       "         'AYI': 1,\n",
       "         'DU': 1,\n",
       "         'NB3': 1,\n",
       "         'RCO': 1,\n",
       "         'PAR': 1,\n",
       "         'PTE': 1,\n",
       "         'NH4': 1,\n",
       "         'QJB': 1,\n",
       "         'U40': 1,\n",
       "         '2FP': 1,\n",
       "         'RXT': 1,\n",
       "         'P30': 1,\n",
       "         'PT1': 1,\n",
       "         '6CR': 1,\n",
       "         'Q3V': 1,\n",
       "         'DCA': 1,\n",
       "         '3NG': 1,\n",
       "         'PED': 1,\n",
       "         'I3A': 1,\n",
       "         'XYL': 1,\n",
       "         '76L': 1,\n",
       "         'R9Q': 1,\n",
       "         'MB5': 1,\n",
       "         '9FH': 1,\n",
       "         'FVR': 1,\n",
       "         'HH2': 1,\n",
       "         'G3H': 1,\n",
       "         'NAB': 1,\n",
       "         '4KZ': 1,\n",
       "         'RBF': 1,\n",
       "         'KFV': 1,\n",
       "         'FDS': 1,\n",
       "         'OHN': 1,\n",
       "         '3ZM': 1,\n",
       "         'MMC': 1,\n",
       "         'SQL': 1,\n",
       "         'SMI': 1,\n",
       "         'ZFP': 1,\n",
       "         'HBX': 1,\n",
       "         'EUA': 1,\n",
       "         'EPZ': 1,\n",
       "         'NEO': 1,\n",
       "         'MDC': 1,\n",
       "         'JPO': 1,\n",
       "         '45D': 1,\n",
       "         'PUY': 1,\n",
       "         'OXD': 1,\n",
       "         'OAH': 1,\n",
       "         'NBZ': 1,\n",
       "         'BAT': 1,\n",
       "         'PA6': 1,\n",
       "         'LZR': 1,\n",
       "         'TRS': 1,\n",
       "         'LMR': 1,\n",
       "         'CP': 1,\n",
       "         '9QM': 1,\n",
       "         'TDC': 1,\n",
       "         'DU0': 1,\n",
       "         'CNC': 1,\n",
       "         'W2X': 1,\n",
       "         '33O': 1,\n",
       "         'SC2': 1,\n",
       "         'CYH': 1,\n",
       "         'BYC': 1,\n",
       "         'DZ4': 1,\n",
       "         '906': 1,\n",
       "         'FAY': 1,\n",
       "         'FMC': 1,\n",
       "         'HSO': 1,\n",
       "         '16A': 1,\n",
       "         'KMT': 1,\n",
       "         'YVR': 1,\n",
       "         'V8Z': 1,\n",
       "         '8AC': 1,\n",
       "         'KKF': 1,\n",
       "         'ACJ': 1,\n",
       "         '0UR': 1,\n",
       "         '3PK': 1,\n",
       "         'CEF': 1,\n",
       "         '2SQ': 1,\n",
       "         'CAX': 1,\n",
       "         'FZL': 1,\n",
       "         '4IR': 1,\n",
       "         'QWP': 1,\n",
       "         'GL0': 1,\n",
       "         '6KL': 1,\n",
       "         '3LM': 1,\n",
       "         'J2U': 1,\n",
       "         'U5J': 1,\n",
       "         '5D3': 1,\n",
       "         'LA6': 1,\n",
       "         'PM7': 1,\n",
       "         'JFR': 1,\n",
       "         'SPL': 1,\n",
       "         'TYS': 1,\n",
       "         '10F': 1,\n",
       "         'JOR': 1,\n",
       "         'QY9': 1,\n",
       "         '6GJ': 1,\n",
       "         'SBF': 1,\n",
       "         'RPI': 1,\n",
       "         'CNL': 1,\n",
       "         'S9U': 1,\n",
       "         'KKK': 1,\n",
       "         '0RI': 1,\n",
       "         'EAE': 1,\n",
       "         '1TJ': 1,\n",
       "         'CV2': 1,\n",
       "         'NJT': 1,\n",
       "         'DE3': 1,\n",
       "         'HCC': 1,\n",
       "         'YWX': 1,\n",
       "         '3CN': 1,\n",
       "         '4SD': 1,\n",
       "         'ZQW': 1,\n",
       "         'ZR5': 1,\n",
       "         'FX1': 1,\n",
       "         'MYN': 1,\n",
       "         'HC3': 1,\n",
       "         '1N5': 1,\n",
       "         'BI8': 1,\n",
       "         '5PA': 1,\n",
       "         'GTA': 1,\n",
       "         '2NV': 1,\n",
       "         'SOR': 1,\n",
       "         'BGI': 1,\n",
       "         'P0G': 1,\n",
       "         'FUA': 1,\n",
       "         'ZOV': 1,\n",
       "         'LUX': 1,\n",
       "         'DP6': 1,\n",
       "         'DLU': 1,\n",
       "         'EUJ': 1,\n",
       "         'LMZ': 1,\n",
       "         'IBQ': 1,\n",
       "         'T99': 1,\n",
       "         '0WE': 1,\n",
       "         'UD2': 1,\n",
       "         'UQ': 1,\n",
       "         '11O': 1,\n",
       "         'WHL': 1,\n",
       "         'DR9': 1,\n",
       "         'FGA': 1,\n",
       "         'UB7': 1,\n",
       "         'MOI': 1,\n",
       "         'OJ5': 1,\n",
       "         'OA7': 1,\n",
       "         '5M5': 1,\n",
       "         'TS5': 1,\n",
       "         'CB4': 1,\n",
       "         '1W6': 1,\n",
       "         '6OE': 1,\n",
       "         'N65': 1,\n",
       "         'PPY': 1,\n",
       "         'VL5': 1,\n",
       "         '0LI': 1,\n",
       "         'FNX': 1,\n",
       "         'MZD': 1,\n",
       "         'NJP': 1,\n",
       "         'IZ8': 1,\n",
       "         'F42': 1,\n",
       "         'FK2': 1,\n",
       "         'G2Q': 1,\n",
       "         'BXO': 1,\n",
       "         'K3Z': 1,\n",
       "         '3QZ': 1,\n",
       "         'LMV': 1,\n",
       "         'MLC': 1,\n",
       "         'TM1': 1,\n",
       "         'K8P': 1,\n",
       "         'D84': 1,\n",
       "         'KUJ': 1,\n",
       "         'T44': 1,\n",
       "         'S6Y': 1,\n",
       "         'OSF': 1,\n",
       "         'M43': 1,\n",
       "         'NCD': 1,\n",
       "         'NCN': 1,\n",
       "         'ANR': 1,\n",
       "         'Y5V': 1,\n",
       "         'CJX': 1,\n",
       "         'TBU': 1,\n",
       "         '7VR': 1,\n",
       "         'H8L': 1,\n",
       "         'RAM': 1,\n",
       "         'AHN': 1,\n",
       "         'HY3': 1,\n",
       "         'TAG': 1,\n",
       "         'O6F': 1,\n",
       "         'CG7': 1,\n",
       "         'T4L': 1,\n",
       "         'MIE': 1,\n",
       "         'HDG': 1,\n",
       "         'PD2': 1,\n",
       "         'BU9': 1,\n",
       "         '54B': 1,\n",
       "         '5VO': 1,\n",
       "         '37R': 1,\n",
       "         'Z80': 1,\n",
       "         'L53': 1,\n",
       "         'SJT': 1,\n",
       "         'LXV': 1,\n",
       "         'E9D': 1,\n",
       "         'P23': 1,\n",
       "         'UGY': 1,\n",
       "         'NTN': 1,\n",
       "         '4NC': 1,\n",
       "         '5CR': 1,\n",
       "         'J7N': 1,\n",
       "         '1NB': 1,\n",
       "         'S0N': 1,\n",
       "         'ZYC': 1,\n",
       "         'GDS': 1,\n",
       "         'AFP': 1,\n",
       "         'CA1': 1,\n",
       "         'FDM': 1,\n",
       "         'PE0': 1,\n",
       "         'CUN': 1,\n",
       "         'XMM': 1,\n",
       "         'TON': 1,\n",
       "         'OTP': 1,\n",
       "         'GB': 1,\n",
       "         'SRP': 1,\n",
       "         'OMT': 1,\n",
       "         'KQV': 1,\n",
       "         '115': 1,\n",
       "         'TET': 1,\n",
       "         'RBY': 1,\n",
       "         'DAC': 1,\n",
       "         'HOA': 1,\n",
       "         'CS2': 1,\n",
       "         '21H': 1,\n",
       "         'LEA': 1,\n",
       "         '11A': 1,\n",
       "         'ONT': 1,\n",
       "         'CN9': 1,\n",
       "         'CUZ': 1,\n",
       "         '98R': 1,\n",
       "         'BT8': 1,\n",
       "         'LV5': 1,\n",
       "         '0SM': 1,\n",
       "         'LUB': 1,\n",
       "         'GFR': 1,\n",
       "         '4MV': 1,\n",
       "         'GDU': 1,\n",
       "         'NGT': 1,\n",
       "         '3UC': 1,\n",
       "         'DON': 1,\n",
       "         'PMR': 1,\n",
       "         '093': 1,\n",
       "         'OEX': 1,\n",
       "         '7UK': 1,\n",
       "         'ASD': 1,\n",
       "         'LGC': 1,\n",
       "         'LP4': 1,\n",
       "         'L2J': 1,\n",
       "         'OZ2': 1,\n",
       "         'NCR': 1,\n",
       "         'YCE': 1,\n",
       "         'KZB': 1,\n",
       "         'RAT': 1,\n",
       "         'I0J': 1,\n",
       "         'D15': 1,\n",
       "         'U2F': 1,\n",
       "         'ABY': 1,\n",
       "         'COB': 1,\n",
       "         '78N': 1,\n",
       "         'VRB': 1,\n",
       "         'VYQ': 1,\n",
       "         'SH0': 1,\n",
       "         'P3B': 1,\n",
       "         'DAU': 1,\n",
       "         'H95': 1,\n",
       "         'T8T': 1,\n",
       "         'SJ5': 1,\n",
       "         'GBI': 1,\n",
       "         '81E': 1,\n",
       "         'C0R': 1,\n",
       "         '144': 1,\n",
       "         'OO9': 1,\n",
       "         'D4R': 1,\n",
       "         'QGD': 1,\n",
       "         'HEE': 1,\n",
       "         'K95': 1,\n",
       "         '6OI': 1,\n",
       "         'T7X': 1,\n",
       "         'PFN': 1,\n",
       "         'UDH': 1,\n",
       "         ...})"
      ]
     },
     "execution_count": 22,
     "metadata": {},
     "output_type": "execute_result"
    }
   ],
   "source": [
    "ligands = [x['id'].split(\"_\")[4] for x in dataset.indexes]\n",
    "from collections import Counter\n",
    "ligand_counter = Counter(ligands)\n",
    "ligand_counter"
   ]
  },
  {
   "cell_type": "markdown",
   "metadata": {},
   "source": [
    "## Protein Ligand case study\n",
    "For proteins bound to the same ligand"
   ]
  },
  {
   "cell_type": "code",
   "execution_count": 5,
   "metadata": {},
   "outputs": [
    {
     "name": "stdout",
     "output_type": "stream",
     "text": [
      "fragmentation False\n",
      "2024-03-12 20:22:00::INFO::Loading preprocessed data from /n/holylabs/LABS/mzitnik_lab/Users/afang/GET/datasets/LBA/split-by-sequence-identity-30/train.LBADataset_processed.pkl...\n"
     ]
    }
   ],
   "source": [
    "# dataset = LBADataset(\"/n/holylabs/LABS/mzitnik_lab/Users/afang/GET/datasets/LBA/split-by-sequence-identity-30/train\")"
   ]
  },
  {
   "cell_type": "code",
   "execution_count": 6,
   "metadata": {},
   "outputs": [
    {
     "data": {
      "text/plain": [
       "31"
      ]
     },
     "execution_count": 6,
     "metadata": {},
     "output_type": "execute_result"
    }
   ],
   "source": [
    "# with open(\"adp_pdbs.txt\", \"r\") as f:\n",
    "#     proteins = f.read().split(\"\\n\")\n",
    "# len(set(proteins))\n",
    "# protein_dataset = []\n",
    "# for d in dataset:\n",
    "#     if d[\"id\"] not in proteins:\n",
    "#         continue\n",
    "#     protein_dataset.append(d)\n",
    "# proteins = [d[\"id\"] for d in protein_dataset]\n",
    "# len(proteins)"
   ]
  },
  {
   "cell_type": "code",
   "execution_count": 60,
   "metadata": {},
   "outputs": [
    {
     "data": {
      "text/plain": [
       "213"
      ]
     },
     "execution_count": 60,
     "metadata": {},
     "output_type": "execute_result"
    }
   ],
   "source": [
    "chosen_ligand = \"NAD\"\n",
    "protein_dataset = []\n",
    "proteins = []\n",
    "for idx, d in enumerate(dataset):\n",
    "    if dataset.indexes[idx][\"id\"].split(\"_\")[4] != chosen_ligand:\n",
    "        continue\n",
    "    protein_dataset.append(d)\n",
    "    proteins.append(dataset.indexes[idx][\"id\"])\n",
    "len(proteins)"
   ]
  },
  {
   "cell_type": "code",
   "execution_count": 61,
   "metadata": {},
   "outputs": [
    {
     "name": "stderr",
     "output_type": "stream",
     "text": [
      "100%|██████████| 27/27 [00:06<00:00,  4.10it/s]\n"
     ]
    }
   ],
   "source": [
    "embeddings = {}\n",
    "batch_size = 8\n",
    "for i in tqdm(range(0, len(protein_dataset), batch_size)):\n",
    "    model.eval()\n",
    "    end_idx = min(i+batch_size, len(protein_dataset))\n",
    "    with torch.no_grad():\n",
    "        if type(dataset) == LBADataset:\n",
    "            minibatch = LBADataset.collate_fn(protein_dataset[i:end_idx])\n",
    "            pdb_ids = [d[\"id\"] for d in protein_dataset[i:end_idx]]\n",
    "        else:\n",
    "            minibatch = PDBBindBenchmark.collate_fn(protein_dataset[i:end_idx])\n",
    "            pdb_ids = proteins[i:i+batch_size]\n",
    "        minibatch = Trainer.to_device(minibatch, \"cuda\")\n",
    "        pred_binding_affinity, output = model.infer(minibatch, extra_info=True)\n",
    "        batch_id = torch.zeros_like(minibatch[\"segment_ids\"])  # [Nb]\n",
    "        batch_id[torch.cumsum(minibatch[\"lengths\"], dim=0)[:-1]] = 1\n",
    "        batch_id.cumsum_(dim=0)  # [Nb], item idx in the batch\n",
    "        for idx, pdb_id in enumerate(pdb_ids):\n",
    "            embeddings[pdb_id] = output.graph_repr[idx].cpu().numpy()"
   ]
  },
  {
   "cell_type": "code",
   "execution_count": 37,
   "metadata": {},
   "outputs": [
    {
     "name": "stderr",
     "output_type": "stream",
     "text": [
      "100%|██████████| 1166/1166 [03:29<00:00,  5.58it/s]\n"
     ]
    }
   ],
   "source": [
    "embeddings_all = {}\n",
    "batch_size = 8\n",
    "for i in tqdm(range(0, len(dataset), batch_size)):\n",
    "    model.eval()\n",
    "    end_idx = min(i+batch_size, len(dataset))\n",
    "    with torch.no_grad():\n",
    "        if type(dataset) == LBADataset:\n",
    "            minibatch = LBADataset.collate_fn([dataset[x] for x in range(i, end_idx)])\n",
    "            pdb_ids = [d[\"id\"] for d in dataset[i:end_idx]]\n",
    "        else:\n",
    "            minibatch = PDBBindBenchmark.collate_fn([dataset[x] for x in range(i, end_idx)])\n",
    "            pdb_ids = proteins[i:end_idx]\n",
    "        minibatch = Trainer.to_device(minibatch, \"cuda\")\n",
    "        pred_binding_affinity, output = model.infer(minibatch, extra_info=True)\n",
    "        batch_id = torch.zeros_like(minibatch[\"segment_ids\"])  # [Nb]\n",
    "        batch_id[torch.cumsum(minibatch[\"lengths\"], dim=0)[:-1]] = 1\n",
    "        batch_id.cumsum_(dim=0)  # [Nb], item idx in the batch\n",
    "        for idx, pdb_id in enumerate(pdb_ids):\n",
    "            embeddings_all[pdb_id] = output.graph_repr[idx].cpu().numpy()"
   ]
  },
  {
   "cell_type": "code",
   "execution_count": 62,
   "metadata": {},
   "outputs": [
    {
     "name": "stderr",
     "output_type": "stream",
     "text": [
      "100%|██████████| 27/27 [00:03<00:00,  7.43it/s]\n"
     ]
    }
   ],
   "source": [
    "pocket_only_embeddings = {}\n",
    "\n",
    "for i in tqdm(range(0, len(protein_dataset), batch_size)):\n",
    "    model.eval()\n",
    "    end_idx = min(i+batch_size, len(protein_dataset))\n",
    "    with torch.no_grad():\n",
    "        minibatch_ = [BlockGeoAffDataset.filter_for_segment(d, 0) for d in protein_dataset[i:end_idx]]\n",
    "        if type(dataset) == LBADataset:\n",
    "            minibatch = LBADataset.collate_fn(minibatch_)\n",
    "            pdb_ids = [d[\"id\"] for d in protein_dataset[i:end_idx]]\n",
    "        else:\n",
    "            minibatch = PDBBindBenchmark.collate_fn(minibatch_)\n",
    "            pdb_ids = proteins[i:i+batch_size]\n",
    "        minibatch = Trainer.to_device(minibatch, \"cuda\")\n",
    "        pred_binding_affinity, output = model.infer(minibatch, extra_info=True)\n",
    "        for idx, pdb_id in enumerate(pdb_ids):\n",
    "            pocket_only_embeddings[pdb_id] = output.graph_repr[idx].cpu().numpy()"
   ]
  },
  {
   "cell_type": "code",
   "execution_count": 63,
   "metadata": {},
   "outputs": [
    {
     "data": {
      "text/plain": [
       "(213, 1000)"
      ]
     },
     "execution_count": 63,
     "metadata": {},
     "output_type": "execute_result"
    }
   ],
   "source": [
    "pairs = list(itertools.combinations(pocket_only_embeddings.keys(), 2))\n",
    "pairs = random.sample(pairs, 1000)\n",
    "len(pocket_only_embeddings), len(pairs)"
   ]
  },
  {
   "cell_type": "code",
   "execution_count": 64,
   "metadata": {},
   "outputs": [],
   "source": [
    "dist_construct = []\n",
    "dist_rand = []\n",
    "cmplx_dist = []\n",
    "for p1, p2 in pairs:\n",
    "    p1_cmplx = embeddings[p1]\n",
    "    p2_cmplx = embeddings[p2]\n",
    "    p1_prot = pocket_only_embeddings[p1]\n",
    "    p2_prot = pocket_only_embeddings[p2]\n",
    "\n",
    "    p1_cmplx_construct = p2_cmplx - p2_prot + p1_prot\n",
    "    p2_cmplx_construct = p1_cmplx - p1_prot + p2_prot\n",
    "    \n",
    "    rand_p1_cmplx = random.choice(list(embeddings_all.values()))\n",
    "    rand_p2_cmplx = random.choice(list(embeddings_all.values()))\n",
    "\n",
    "    # rand_p1_cmplx = np.mean(list(embeddings.values()), axis=0)\n",
    "    # rand_p2_cmplx = np.mean(list(embeddings.values()), axis=0)\n",
    "\n",
    "    dist_construct.append(np.linalg.norm(p1_cmplx_construct - p1_cmplx))\n",
    "    dist_construct.append(np.linalg.norm(p2_cmplx_construct - p2_cmplx))\n",
    "    dist_rand.append(np.linalg.norm(p1_cmplx - rand_p1_cmplx))\n",
    "    dist_rand.append(np.linalg.norm(p2_cmplx - rand_p2_cmplx))\n",
    "    cmplx_dist.append(np.linalg.norm(p1_cmplx - p2_cmplx))\n",
    "    cmplx_dist.append(np.linalg.norm(p1_cmplx - p2_cmplx))\n"
   ]
  },
  {
   "cell_type": "code",
   "execution_count": 83,
   "metadata": {},
   "outputs": [
    {
     "data": {
      "image/png": "[encoded data removed]",
      "text/plain": [
       "<Figure size 640x480 with 1 Axes>"
      ]
     },
     "metadata": {},
     "output_type": "display_data"
    }
   ],
   "source": [
    "plt.figure(figsize=(8, 6), dpi=80)\n",
    "plt.rcParams.update({'font.size': 18})\n",
    "plt.hist(dist_rand, bins=20, alpha=0.5, label=\"Distance between random and original\")\n",
    "plt.hist(dist_construct, bins=20, alpha=1, label=\"Distance between constructed and original\")\n",
    "plt.ylabel(\"Frequency\")\n",
    "plt.xlabel(\"L2 distance\")\n",
    "plt.legend(loc='upper center', bbox_to_anchor=(0.5, -0.15), shadow=False, ncol=1)\n",
    "plt.show()"
   ]
  },
  {
   "cell_type": "code",
   "execution_count": 84,
   "metadata": {},
   "outputs": [
    {
     "data": {
      "text/plain": [
       "(0.3835, 1.8144019472348607e-131)"
      ]
     },
     "execution_count": 84,
     "metadata": {},
     "output_type": "execute_result"
    }
   ],
   "source": [
    "ks_stat, ks_p = scipy.stats.ks_2samp(dist_construct, dist_rand)\n",
    "ks_stat, ks_p"
   ]
  },
  {
   "cell_type": "markdown",
   "metadata": {},
   "source": [
    "Baseline is distance of protein-ligand complex to any protein-ligand complex (does not have to be of the same ligand)"
   ]
  },
  {
   "cell_type": "code",
   "execution_count": 69,
   "metadata": {},
   "outputs": [
    {
     "data": {
      "image/png": "[encoded data removed]",
      "text/plain": [
       "<Figure size 640x480 with 1 Axes>"
      ]
     },
     "metadata": {},
     "output_type": "display_data"
    }
   ],
   "source": [
    "plt.scatter(dist_construct, cmplx_dist)\n",
    "plt.xlabel(\"Distance between constructed protein-ligand complex and original complex\")\n",
    "plt.ylabel(\"Distance between original protein-ligand complexes\")\n",
    "plt.show()"
   ]
  },
  {
   "cell_type": "markdown",
   "metadata": {},
   "source": [
    "This does hold, but it is just because if the original complexes have very similar graph embeddings then the compositional relationship holds.\n",
    "\n",
    "If the original complexes have very different graph embeddings, then the compositional relationship does not hold."
   ]
  },
  {
   "cell_type": "markdown",
   "metadata": {},
   "source": [
    "## Protein Ligand and Nucleotide Ligand Case Study\n",
    "What about for a protein bound to a ligand and a nucleotide bound to the same ligand?\n",
    "i.e. does (protein-ligand complex embedding) - (protein embedding) + (nucleotide embedding) = (nucleotide-ligand complex embedding) ? "
   ]
  },
  {
   "cell_type": "code",
   "execution_count": 52,
   "metadata": {},
   "outputs": [
    {
     "name": "stdout",
     "output_type": "stream",
     "text": [
      "fragmentation False\n",
      "2024-03-12 20:06:34::INFO::Loading preprocessed data from /n/holylabs/LABS/mzitnik_lab/Users/afang/GET/datasets/LBA/split-by-sequence-identity-30/train.LBADataset_processed.pkl...\n",
      "2024-03-12 20:06:34::INFO::Loading preprocessed data from /n/holylabs/LABS/mzitnik_lab/Users/afang/GET/datasets/NL/processed/PDBbind.BlockGeoAffDataset_processed.pkl...\n"
     ]
    }
   ],
   "source": [
    "dataset_pl = LBADataset(\"/n/holylabs/LABS/mzitnik_lab/Users/afang/GET/datasets/LBA/split-by-sequence-identity-30/train\")\n",
    "dataset_nl = BlockGeoAffDataset('/n/holylabs/LABS/mzitnik_lab/Users/afang/GET/datasets/NL/processed/PDBbind.pkl')"
   ]
  },
  {
   "cell_type": "code",
   "execution_count": 59,
   "metadata": {},
   "outputs": [
    {
     "data": {
      "text/plain": [
       "Counter({'MG': 159,\n",
       "         'K': 11,\n",
       "         'NA': 9,\n",
       "         'CL': 2,\n",
       "         'HIS': 1,\n",
       "         'GLY': 1,\n",
       "         'PG4': 1,\n",
       "         'IUM': 1,\n",
       "         'SAM': 1,\n",
       "         'PAR': 1})"
      ]
     },
     "execution_count": 59,
     "metadata": {},
     "output_type": "execute_result"
    }
   ],
   "source": [
    "pretrain_dataset_nl = PDBBindBenchmark(\"/n/holylabs/LABS/mzitnik_lab/Users/afang/GET/datasets/BioLiP/processed-QBioLiP/QBioLiP_RNAL_valid.pkl\")\n",
    "ligands_nl = [x[\"id\"].split(\"_\")[6] for x in pretrain_dataset_nl.indexes]\n",
    "from collections import Counter\n",
    "ligand_counter_nl = Counter(ligands_nl)\n",
    "ligand_counter_nl"
   ]
  },
  {
   "cell_type": "code",
   "execution_count": 53,
   "metadata": {},
   "outputs": [
    {
     "data": {
      "text/plain": [
       "20"
      ]
     },
     "execution_count": 53,
     "metadata": {},
     "output_type": "execute_result"
    }
   ],
   "source": [
    "with open(\"sam_pdbs.txt\", \"r\") as f:\n",
    "    pdbs = f.read().split(\"\\n\")\n",
    "len(set(pdbs))"
   ]
  },
  {
   "cell_type": "code",
   "execution_count": 54,
   "metadata": {},
   "outputs": [
    {
     "data": {
      "text/plain": [
       "8"
      ]
     },
     "execution_count": 54,
     "metadata": {},
     "output_type": "execute_result"
    }
   ],
   "source": [
    "filtered_dataset_nl = []\n",
    "nl_pdbs = []\n",
    "for idx, d in enumerate(dataset_nl.indexes):\n",
    "    if d[\"id\"] not in pdbs:\n",
    "        continue\n",
    "    filtered_dataset_nl.append(dataset_nl[idx])\n",
    "    nl_pdbs.append(d[\"id\"])\n",
    "len(filtered_dataset_nl)"
   ]
  },
  {
   "cell_type": "code",
   "execution_count": 55,
   "metadata": {},
   "outputs": [
    {
     "data": {
      "text/plain": [
       "11"
      ]
     },
     "execution_count": 55,
     "metadata": {},
     "output_type": "execute_result"
    }
   ],
   "source": [
    "filtered_dataset_pl = []\n",
    "pl_pdbs = []\n",
    "for d in dataset_pl:\n",
    "    if d[\"id\"] not in pdbs:\n",
    "        continue\n",
    "    pl_pdbs.append(d[\"id\"])\n",
    "    filtered_dataset_pl.append(d)\n",
    "len(filtered_dataset_pl)"
   ]
  },
  {
   "cell_type": "code",
   "execution_count": 56,
   "metadata": {},
   "outputs": [],
   "source": [
    "embeddings_pl = {}\n",
    "batch_size = 8\n",
    "for i in range(0, len(filtered_dataset_pl), batch_size):\n",
    "    model.eval()\n",
    "    with torch.no_grad():\n",
    "        minibatch = LBADataset.collate_fn(filtered_dataset_pl[i:i+batch_size])\n",
    "        pdb_ids = [d[\"id\"] for d in filtered_dataset_pl[i:i+batch_size]]\n",
    "        minibatch = Trainer.to_device(minibatch, \"cuda\")\n",
    "        pred_binding_affinity, output = model.infer(minibatch, extra_info=True)\n",
    "        batch_id = torch.zeros_like(minibatch[\"segment_ids\"])  # [Nb]\n",
    "        batch_id[torch.cumsum(minibatch[\"lengths\"], dim=0)[:-1]] = 1\n",
    "        batch_id.cumsum_(dim=0)  # [Nb], item idx in the batch\n",
    "        for idx, pdb_id in enumerate(pdb_ids):\n",
    "            embeddings_pl[pdb_id] = output.graph_repr[idx].cpu().numpy()"
   ]
  },
  {
   "cell_type": "code",
   "execution_count": 57,
   "metadata": {},
   "outputs": [],
   "source": [
    "embeddings_p = {}\n",
    "for i in range(0, len(filtered_dataset_pl), batch_size):\n",
    "    model.eval()\n",
    "    with torch.no_grad():\n",
    "        minibatch_ = [BlockGeoAffDataset.filter_for_segment(d, 0) for d in filtered_dataset_pl[i:i+batch_size]]\n",
    "        minibatch = LBADataset.collate_fn(minibatch_)\n",
    "        pdb_ids = [d[\"id\"] for d in filtered_dataset_pl[i:i+batch_size]]\n",
    "        minibatch = Trainer.to_device(minibatch, \"cuda\")\n",
    "        pred_binding_affinity, output = model.infer(minibatch, extra_info=True)\n",
    "        batch_id = torch.zeros_like(minibatch[\"segment_ids\"])  # [Nb]\n",
    "        batch_id[torch.cumsum(minibatch[\"lengths\"], dim=0)[:-1]] = 1\n",
    "        batch_id.cumsum_(dim=0)  # [Nb], item idx in the batch\n",
    "        for idx, pdb_id in enumerate(pdb_ids):\n",
    "            embeddings_p[pdb_id] = output.graph_repr[idx].cpu().numpy()"
   ]
  },
  {
   "cell_type": "code",
   "execution_count": 58,
   "metadata": {},
   "outputs": [],
   "source": [
    "embeddings_nl = {}\n",
    "for i in range(0, len(filtered_dataset_nl), batch_size):\n",
    "    model.eval()\n",
    "    with torch.no_grad():\n",
    "        minibatch = BlockGeoAffDataset.collate_fn(filtered_dataset_nl[i:i+batch_size])\n",
    "        pdb_ids = nl_pdbs[i:i+batch_size]\n",
    "        minibatch = Trainer.to_device(minibatch, \"cuda\")\n",
    "        pred_binding_affinity, output = model.infer(minibatch, extra_info=True)\n",
    "        batch_id = torch.zeros_like(minibatch[\"segment_ids\"])  # [Nb]\n",
    "        batch_id[torch.cumsum(minibatch[\"lengths\"], dim=0)[:-1]] = 1\n",
    "        batch_id.cumsum_(dim=0)  # [Nb], item idx in the batch\n",
    "        for idx, pdb_id in enumerate(pdb_ids):\n",
    "            embeddings_nl[pdb_id] = output.graph_repr[idx].cpu().numpy()"
   ]
  },
  {
   "cell_type": "code",
   "execution_count": 59,
   "metadata": {},
   "outputs": [],
   "source": [
    "embeddings_nl_all = {}\n",
    "for i in range(0, len(dataset_nl), batch_size):\n",
    "    model.eval()\n",
    "    with torch.no_grad():\n",
    "        minibatch = BlockGeoAffDataset.collate_fn(dataset_nl[i:i+batch_size])\n",
    "        pdb_ids = [d[\"id\"] for d in dataset_nl.indexes[i:i+batch_size]]\n",
    "        minibatch = Trainer.to_device(minibatch, \"cuda\")\n",
    "        pred_binding_affinity, output = model.infer(minibatch, extra_info=True)\n",
    "        batch_id = torch.zeros_like(minibatch[\"segment_ids\"])  # [Nb]\n",
    "        batch_id[torch.cumsum(minibatch[\"lengths\"], dim=0)[:-1]] = 1\n",
    "        batch_id.cumsum_(dim=0)  # [Nb], item idx in the batch\n",
    "        for idx, pdb_id in enumerate(pdb_ids):\n",
    "            embeddings_nl_all[pdb_id] = output.graph_repr[idx].cpu().numpy()"
   ]
  },
  {
   "cell_type": "code",
   "execution_count": 60,
   "metadata": {},
   "outputs": [],
   "source": [
    "embeddings_n = {}\n",
    "for i in range(0, len(filtered_dataset_nl), batch_size):\n",
    "    model.eval()\n",
    "    with torch.no_grad():\n",
    "        minibatch_ = [BlockGeoAffDataset.filter_for_segment(d, 0) for d in filtered_dataset_nl[i:i+batch_size]]\n",
    "        minibatch = BlockGeoAffDataset.collate_fn(minibatch_)\n",
    "        pdb_ids = nl_pdbs[i:i+batch_size]\n",
    "        minibatch = Trainer.to_device(minibatch, \"cuda\")\n",
    "        pred_binding_affinity, output = model.infer(minibatch, extra_info=True)\n",
    "        batch_id = torch.zeros_like(minibatch[\"segment_ids\"])  # [Nb]\n",
    "        batch_id[torch.cumsum(minibatch[\"lengths\"], dim=0)[:-1]] = 1\n",
    "        batch_id.cumsum_(dim=0)  # [Nb], item idx in the batch\n",
    "        for idx, pdb_id in enumerate(pdb_ids):\n",
    "            embeddings_n[pdb_id] = output.graph_repr[idx].cpu().numpy()"
   ]
  },
  {
   "cell_type": "code",
   "execution_count": 65,
   "metadata": {},
   "outputs": [],
   "source": [
    "pl_constr_dist = []\n",
    "nl_constr_dist = []\n",
    "rand_dist1 = []\n",
    "rand_dist2 = []\n",
    "pl_nl_dist = []\n",
    "rand_dist3 = []\n",
    "pairs = list(itertools.product(pl_pdbs, nl_pdbs))\n",
    "for pl_pdb, nl_pdb in pairs:\n",
    "    pl_embedding = embeddings_pl[pl_pdb]\n",
    "    nl_embedding = embeddings_nl[nl_pdb]\n",
    "\n",
    "    pl_constr = embeddings_nl[nl_pdb] - embeddings_n[nl_pdb] + embeddings_p[pl_pdb]\n",
    "    nl_constr = embeddings_pl[pl_pdb] - embeddings_p[pl_pdb] + embeddings_n[nl_pdb]\n",
    "\n",
    "    pl_constr_dist.append(np.linalg.norm(pl_constr - pl_embedding))\n",
    "    nl_constr_dist.append(np.linalg.norm(nl_constr - nl_embedding))\n",
    "    rand_dist1.append(np.linalg.norm(pl_embedding - np.random.randn(pl_embedding.size)))\n",
    "    rand_dist2.append(np.linalg.norm(pl_embedding - random.choice(list(embeddings_nl_all.values()))))\n",
    "    pl_nl_dist.append(np.linalg.norm(pl_embedding - nl_embedding))\n",
    "    rand_dist3.append(np.linalg.norm(nl_embedding - random.choice(list(embeddings_all.values()))))"
   ]
  },
  {
   "cell_type": "code",
   "execution_count": 62,
   "metadata": {},
   "outputs": [
    {
     "data": {
      "image/png": "[encoded data removed]",
      "text/plain": [
       "<Figure size 640x480 with 1 Axes>"
      ]
     },
     "metadata": {},
     "output_type": "display_data"
    }
   ],
   "source": [
    "plt.hist(pl_constr_dist, label = \"distance from PL embedding to constructed PL embeddings from NL embedding\")\n",
    "# plt.hist(rand_dist1, label = \"distance from PL embedding to random embeddings\")\n",
    "plt.hist(rand_dist2, alpha=0.5, label = \"distance from PL embedding to randomly chosen NL embedding\")\n",
    "plt.legend()\n",
    "plt.show()"
   ]
  },
  {
   "cell_type": "code",
   "execution_count": 63,
   "metadata": {},
   "outputs": [
    {
     "data": {
      "text/plain": [
       "(0.2840909090909091, 0.001555473190907778)"
      ]
     },
     "execution_count": 63,
     "metadata": {},
     "output_type": "execute_result"
    }
   ],
   "source": [
    "ks_stat, ks_p = scipy.stats.ks_2samp(pl_constr_dist, rand_dist2)\n",
    "ks_stat, ks_p"
   ]
  },
  {
   "cell_type": "code",
   "execution_count": 66,
   "metadata": {},
   "outputs": [
    {
     "data": {
      "image/png": "[encoded data removed]",
      "text/plain": [
       "<Figure size 640x480 with 1 Axes>"
      ]
     },
     "metadata": {},
     "output_type": "display_data"
    }
   ],
   "source": [
    "plt.hist(nl_constr_dist, label = \"distance from NL embedding to constructed NL embeddings from PL embedding\")\n",
    "# plt.hist(rand_dist1, label = \"distance from PL embedding to random embeddings\")\n",
    "plt.hist(rand_dist3, alpha=0.5, label = \"distance from NL embedding to randomly chosen PL embedding\")\n",
    "plt.legend()\n",
    "plt.show()"
   ]
  },
  {
   "cell_type": "code",
   "execution_count": 68,
   "metadata": {},
   "outputs": [
    {
     "data": {
      "text/plain": [
       "(0.19318181818181818, 0.07481188089281685)"
      ]
     },
     "execution_count": 68,
     "metadata": {},
     "output_type": "execute_result"
    }
   ],
   "source": [
    "ks_stat, ks_p = scipy.stats.ks_2samp(nl_constr_dist, rand_dist3)\n",
    "ks_stat, ks_p"
   ]
  },
  {
   "cell_type": "code",
   "execution_count": null,
   "metadata": {},
   "outputs": [],
   "source": [
    "plt.hist(pl_constr_dist, label = \"distance from PL embedding to constructed PL embeddings from NL embedding\")\n",
    "# plt.hist(rand_dist1, label = \"distance from PL embedding to random embeddings\")\n",
    "plt.hist(rand_dist2, alpha=0.5, label = \"distance from PL embedding to randomly chosen NL embedding\")\n",
    "plt.legend()\n",
    "plt.show()"
   ]
  },
  {
   "cell_type": "markdown",
   "metadata": {},
   "source": [
    "Baseline is distance of protein-ligand complex to any nucleotide-ligand complex (does not have to be of the same ligand)\n",
    "\n",
    "It looks like it does not really hold."
   ]
  },
  {
   "cell_type": "code",
   "execution_count": 64,
   "metadata": {},
   "outputs": [
    {
     "data": {
      "image/png": "[encoded data removed]",
      "text/plain": [
       "<Figure size 640x480 with 1 Axes>"
      ]
     },
     "metadata": {},
     "output_type": "display_data"
    }
   ],
   "source": [
    "plt.scatter(pl_constr_dist, pl_nl_dist)\n",
    "plt.xlabel(\"Distance from PL embedding to constructed PL embeddings from NL embedding\")\n",
    "plt.ylabel(\"Distance between PL and NL embeddings\")\n",
    "plt.scatter([d for d, p in zip(pl_constr_dist, pairs) if p[0] == \"2uyq\"], [d for d, p in zip(pl_nl_dist, pairs) if p[0] == \"2uyq\"], label = \"2uyq\")\n",
    "plt.legend()\n",
    "plt.show()"
   ]
  },
  {
   "cell_type": "markdown",
   "metadata": {},
   "source": [
    "2uyq is missing its sulfur tail in SAM for some reason, but we can see that it is more similar to the NL complexes with SAM as it has no opportunity to engage in sulfur-sulfur interactions."
   ]
  },
  {
   "cell_type": "markdown",
   "metadata": {},
   "source": [
    "## What does this show us?\n",
    "For the same ligand if it interacts similarly to the pocket, the compositional relationship holds. If it interacts differently, the compositional relationship does not hold."
   ]
  },
  {
   "cell_type": "code",
   "execution_count": 121,
   "metadata": {},
   "outputs": [
    {
     "data": {
      "text/plain": [
       "88"
      ]
     },
     "execution_count": 121,
     "metadata": {},
     "output_type": "execute_result"
    }
   ],
   "source": [
    "len(pairs)"
   ]
  },
  {
   "cell_type": "code",
   "execution_count": 127,
   "metadata": {},
   "outputs": [
    {
     "data": {
      "text/plain": [
       "47"
      ]
     },
     "execution_count": 127,
     "metadata": {},
     "output_type": "execute_result"
    }
   ],
   "source": [
    "sulfur = VOCAB.abrv_to_idx(\"S\")\n",
    "sulfur"
   ]
  },
  {
   "cell_type": "code",
   "execution_count": 129,
   "metadata": {},
   "outputs": [
    {
     "name": "stdout",
     "output_type": "stream",
     "text": [
      "5h5f True\n",
      "5twj True\n",
      "1nw5 True\n",
      "2h21 True\n",
      "5kva True\n",
      "3r24 True\n",
      "2uyq False\n",
      "4ymg True\n",
      "4bup True\n",
      "6bm5 True\n",
      "5bw4 True\n"
     ]
    }
   ],
   "source": [
    "for p in filtered_dataset_pl:\n",
    "    print(p[\"id\"], sulfur in p[\"B\"])"
   ]
  },
  {
   "cell_type": "code",
   "execution_count": 132,
   "metadata": {},
   "outputs": [
    {
     "data": {
      "text/plain": [
       "('6bm5', '4oqu')"
      ]
     },
     "execution_count": 132,
     "metadata": {},
     "output_type": "execute_result"
    }
   ],
   "source": [
    "pairs[pl_nl_dist.index(sorted(pl_nl_dist)[3])]"
   ]
  },
  {
   "cell_type": "markdown",
   "metadata": {},
   "source": [
    "### Most distant PL and NLs\n",
    "('5kva', '2ydh') for this PL and NL which are most distant, SAM interacts with the protein and nucleotide differently. \n",
    "* In 5kva, SAM interacts with the protein has a sulfur-sulfur bridge with a MET residue.\n",
    "* In 2ydh, this is not present as this nucleotides do not have any sulfurs.\n",
    "\n",
    "('4ymg', '2ydh') for this PL and NL which is second most distant: 4ymg and 2ydh have a separate set of intermolecular interactions that they engage in, though both are hydrogen bonds, it is different parts or amounts that engage in the hydrogen bonds.\n",
    "\n",
    "### Closest PL and NLs\n",
    "('6bm5', '4oqu') and (2uyq, some NL) are quite close to NLs because they do not engage in sulfur-sulfur interactions."
   ]
  },
  {
   "cell_type": "markdown",
   "metadata": {},
   "source": [
    "## What can we use this model for then?\n",
    "Test similarity of interfaces? Similarity of interaction of ligands with different proteins?\n",
    "\n",
    "Cluster PPI interfaces? for different mechanisms of interaction?\n",
    "\n",
    "Are there useful zero shot tasks where similarity of interaction is important?"
   ]
  }
 ],
 "metadata": {
  "kernelspec": {
   "display_name": "Python 3",
   "language": "python",
   "name": "python3"
  },
  "language_info": {
   "codemirror_mode": {
    "name": "ipython",
    "version": 3
   },
   "file_extension": ".py",
   "mimetype": "text/x-python",
   "name": "python",
   "nbconvert_exporter": "python",
   "pygments_lexer": "ipython3",
   "version": "3.9.15"
  }
 },
 "nbformat": 4,
 "nbformat_minor": 2
}
