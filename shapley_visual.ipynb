{
 "cells": [
  {
   "cell_type": "code",
   "execution_count": 55,
   "metadata": {},
   "outputs": [],
   "source": [
    "import pickle\n",
    "from data.pdb_utils import VOCAB\n",
    "import torch\n",
    "from torch_scatter import scatter_mean, scatter_sum\n",
    "from plotly.offline import init_notebook_mode, iplot\n",
    "import numpy as np\n",
    "import networkx as nx\n",
    "import matplotlib.pyplot as plt\n",
    "\n",
    "import lmdb\n",
    "from atom3d.datasets import LMDBDataset\n",
    "\n",
    "from rdkit import Chem\n",
    "from rdkit.Chem import AllChem\n",
    "import pandas as pd\n",
    "\n",
    "import prolif\n",
    "from prolif.plotting.network import LigNetwork"
   ]
  },
  {
   "cell_type": "markdown",
   "metadata": {},
   "source": [
    "# Specify Your Binding Complex of Interest & Number of Edge to Visualize & Paths"
   ]
  },
  {
   "cell_type": "code",
   "execution_count": 56,
   "metadata": {},
   "outputs": [],
   "source": [
    "data_id = '1c86'\n",
    "num_edge = 10\n",
    "\n",
    "LMDB_path = 'datasets/LBA/split-by-sequence-identity-30/data/test'\n",
    "processed_data_path = 'test/test.LBADataset_processed.pkl'\n",
    "Shapley_value_path = 'output/1c86/1c86_statistics.txt'"
   ]
  },
  {
   "cell_type": "markdown",
   "metadata": {},
   "source": [
    "# Load Raw Data"
   ]
  },
  {
   "cell_type": "code",
   "execution_count": 57,
   "metadata": {},
   "outputs": [],
   "source": [
    "lmdb_dataset = LMDBDataset(LMDB_path)\n",
    "raw_data_item = lmdb_dataset.__getitem__(lmdb_dataset.ids().index(data_id))"
   ]
  },
  {
   "cell_type": "markdown",
   "metadata": {},
   "source": [
    "# Generate RDKit.Mol Object of Ligand"
   ]
  },
  {
   "cell_type": "code",
   "execution_count": 58,
   "metadata": {},
   "outputs": [
    {
     "data": {
      "image/png": "[encoded data removed]",
      "text/plain": [
       "<rdkit.Chem.rdchem.Mol at 0x7f33464db580>"
      ]
     },
     "execution_count": 58,
     "metadata": {},
     "output_type": "execute_result"
    }
   ],
   "source": [
    "raw_bond_df = raw_data_item[\"bonds\"]\n",
    "raw_atom_df = raw_data_item[\"atoms_ligand\"]\n",
    "\n",
    "# iterate through raw_atom_df to add atoms to the molecule, then iterate through raw_bond_df to add bonds\n",
    "rwmol = Chem.RWMol()\n",
    "\n",
    "for i, atom in raw_atom_df.iterrows():\n",
    "    atom = Chem.Atom(atom['element'])\n",
    "    rwmol.AddAtom(atom)\n",
    "    \n",
    "for i, bond in raw_bond_df.iterrows():\n",
    "    if bond['type'] == 1:\n",
    "        bond_type = Chem.BondType.SINGLE\n",
    "    elif bond['type'] == 2:\n",
    "        bond_type = Chem.BondType.DOUBLE\n",
    "    elif bond['type'] == 3:\n",
    "        bond_type = Chem.BondType.TRIPLE\n",
    "    else:\n",
    "        raise ValueError(f\"Unknown bond type {bond['type']}\")\n",
    "    rwmol.AddBond(int(bond['atom1']), int(bond['atom2']), bond_type)\n",
    "    \n",
    "# convert RWMol to Mol\n",
    "ligand_mol = rwmol.GetMol()\n",
    "ligand_mol"
   ]
  },
  {
   "cell_type": "markdown",
   "metadata": {},
   "source": [
    "# Load Processed Data"
   ]
  },
  {
   "cell_type": "code",
   "execution_count": 59,
   "metadata": {},
   "outputs": [],
   "source": [
    "# load data\n",
    "with open(processed_data_path, 'rb') as f:\n",
    "    data = pickle.load(f)\n",
    "\n",
    "# get index and batch (binding complex) of interest\n",
    "idx = [i for i, d in enumerate(data[1]) if d['id'] == data_id][0]\n",
    "batch = data[2][idx]"
   ]
  },
  {
   "cell_type": "code",
   "execution_count": 60,
   "metadata": {},
   "outputs": [],
   "source": [
    "# get useful data from batch\n",
    "Z = torch.tensor(batch['X'])\n",
    "B = torch.tensor(batch['B'])\n",
    "A = torch.tensor(batch['A'])\n",
    "\n",
    "block_lengths = torch.tensor(batch['block_lengths'])\n",
    "Z = Z.reshape(Z.shape[0], 1, Z.shape[1])"
   ]
  },
  {
   "cell_type": "code",
   "execution_count": 61,
   "metadata": {},
   "outputs": [
    {
     "data": {
      "text/plain": [
       "torch.Size([42, 3])"
      ]
     },
     "execution_count": 61,
     "metadata": {},
     "output_type": "execute_result"
    }
   ],
   "source": [
    "# get coords of each amino acid and ligand atoms\n",
    "with torch.no_grad():\n",
    "    block_id = torch.zeros_like(A) # [Nu]\n",
    "    block_id[torch.cumsum(block_lengths, dim=0)[:-1]] = 1\n",
    "    block_id.cumsum_(dim=0)  # [Nu], block (residue) id of each unit (atom)\n",
    "    \n",
    "    assert Z.shape[1] == 1, \"n_channel must be 1\"\n",
    "    top_Z = scatter_mean(Z, block_id, dim=0)  # [Nb, n_channel, 3]\n",
    "B_coords = top_Z.reshape(top_Z.shape[0], top_Z.shape[2])\n",
    "\n",
    "# coords of each amino acid and ligand atoms\n",
    "B_coords.shape"
   ]
  },
  {
   "cell_type": "code",
   "execution_count": 62,
   "metadata": {},
   "outputs": [
    {
     "data": {
      "text/plain": [
       "24"
      ]
     },
     "execution_count": 62,
     "metadata": {},
     "output_type": "execute_result"
    }
   ],
   "source": [
    "# convert indexed data to name of amino acid and ligand atoms\n",
    "B_abrv = [VOCAB.idx_to_abrv(i) for i in B]\n",
    "# replace <G> with Global\n",
    "B_abrv = ['Global' if abrv == '<G>' else abrv for abrv in B_abrv]\n",
    "B_abrv\n",
    "# find the start index of first single letter string in list (which is the start of ligand in the list)\n",
    "ligand_start_idx = next(i for i, abrv in enumerate(B_abrv) if len(abrv) == 1)\n",
    "ligand_start_idx"
   ]
  },
  {
   "cell_type": "code",
   "execution_count": 63,
   "metadata": {},
   "outputs": [],
   "source": [
    "# the amino acid start index is 1 and ligand_start_idx-1 because of the Global at begaining of amino acid and ligand"
   ]
  },
  {
   "cell_type": "markdown",
   "metadata": {},
   "source": [
    "# Load Shapley Value"
   ]
  },
  {
   "cell_type": "code",
   "execution_count": 64,
   "metadata": {},
   "outputs": [],
   "source": [
    "with open(Shapley_value_path, 'r') as f:\n",
    "    lines = f.readlines()\n",
    "    shapley_dict = {}\n",
    "    for line in lines[8:]:\n",
    "        node_idx1 = int(line.split(',')[0].split('(')[1])\n",
    "        node_idx2 = int(line.split(',')[1].split(')')[0])\n",
    "        shapley_val = float(line.split(':')[-1])\n",
    "        shapley_dict[(node_idx1, node_idx2)] = shapley_val\n",
    "\n",
    "# descending sort the shapley_dict based on shapley_val\n",
    "shapley_dict = dict(sorted(shapley_dict.items(), key=lambda item: item[1], reverse=True))"
   ]
  },
  {
   "cell_type": "code",
   "execution_count": 65,
   "metadata": {},
   "outputs": [],
   "source": [
    "# the amino acid start index is 1 and ligand_start_idx-1 because of the Global at begaining of amino acid and ligand\n",
    "# \n",
    "# filter only edge where node1 is amino acid and node2 is ligand atoms or vice versa\n",
    "shapley_dict_bridge_edge = {k: v for k, v in shapley_dict.items() if (k[0] in range(1, ligand_start_idx-1) and k[1] in range(ligand_start_idx, len(B_abrv)+1)) or (k[0] in range(ligand_start_idx, len(B_abrv)+1) and k[1] in range(1, ligand_start_idx-1))}\n",
    "\n",
    "# Min-Max normalize shapley_dict_bridge_edge from 0 to 1\n",
    "shapley_dict_bridge_edge_normalized = {k: (v - min(shapley_dict_bridge_edge.values()))/(max(shapley_dict_bridge_edge.values())-min(shapley_dict_bridge_edge.values())) for k, v in shapley_dict_bridge_edge.items()}"
   ]
  },
  {
   "cell_type": "code",
   "execution_count": 66,
   "metadata": {},
   "outputs": [
    {
     "data": {
      "text/plain": [
       "([(9, 41),\n",
       "  (11, 30),\n",
       "  (14, 40),\n",
       "  (7, 32),\n",
       "  (11, 38),\n",
       "  (22, 26),\n",
       "  (22, 31),\n",
       "  (2, 33),\n",
       "  (1, 35),\n",
       "  (7, 40)],\n",
       " [0.031191253662109376,\n",
       "  0.030387687683105468,\n",
       "  0.02881283760070801,\n",
       "  0.022575855255126953,\n",
       "  0.0203458309173584,\n",
       "  0.01980419158935547,\n",
       "  0.01841869354248047,\n",
       "  0.018311834335327147,\n",
       "  0.017917299270629884,\n",
       "  0.017566537857055663],\n",
       " torch.Size([42, 3]),\n",
       " 10)"
      ]
     },
     "execution_count": 66,
     "metadata": {},
     "output_type": "execute_result"
    }
   ],
   "source": [
    "# get top edges with highest shapley value\n",
    "top_edges = list(shapley_dict_bridge_edge.keys())[:num_edge]\n",
    "top_edges_shapley = list(shapley_dict_bridge_edge.values())[:num_edge]\n",
    "\n",
    "# reorder each edge in top_edges, where small index is node1 and large index is node2\n",
    "top_edges = [edge if edge[0] < edge[1] else (edge[1], edge[0]) for edge in top_edges]\n",
    "top_edges, top_edges_shapley, B_coords.shape, len(top_edges)"
   ]
  },
  {
   "cell_type": "markdown",
   "metadata": {},
   "source": [
    "# Visualize Using prolif"
   ]
  },
  {
   "cell_type": "code",
   "execution_count": 67,
   "metadata": {},
   "outputs": [],
   "source": [
    "# a function to calculate distance between two atoms\n",
    "def calc_distance(node1, node2):\n",
    "    # just use euclidean distance\n",
    "    return np.linalg.norm(B_coords[node1] - B_coords[node2])"
   ]
  },
  {
   "cell_type": "code",
   "execution_count": 68,
   "metadata": {},
   "outputs": [
    {
     "name": "stderr",
     "output_type": "stream",
     "text": [
      "/tmp/ipykernel_12385/4265226835.py:17: FutureWarning:\n",
      "\n",
      "The behavior of DataFrame concatenation with empty or all-NA entries is deprecated. In a future version, this will no longer exclude empty or all-NA columns when determining the result dtypes. To retain the old behavior, exclude the relevant entries before the concat operation.\n",
      "\n"
     ]
    },
    {
     "data": {
      "text/html": [
       "<div>\n",
       "<style scoped>\n",
       "    .dataframe tbody tr th:only-of-type {\n",
       "        vertical-align: middle;\n",
       "    }\n",
       "\n",
       "    .dataframe tbody tr th {\n",
       "        vertical-align: top;\n",
       "    }\n",
       "\n",
       "    .dataframe thead th {\n",
       "        text-align: right;\n",
       "    }\n",
       "</style>\n",
       "<table border=\"1\" class=\"dataframe\">\n",
       "  <thead>\n",
       "    <tr style=\"text-align: right;\">\n",
       "      <th></th>\n",
       "      <th></th>\n",
       "      <th></th>\n",
       "      <th></th>\n",
       "      <th>weight</th>\n",
       "      <th>distance</th>\n",
       "    </tr>\n",
       "    <tr>\n",
       "      <th>ligand</th>\n",
       "      <th>protein</th>\n",
       "      <th>interaction</th>\n",
       "      <th>atoms</th>\n",
       "      <th></th>\n",
       "      <th></th>\n",
       "    </tr>\n",
       "  </thead>\n",
       "  <tbody>\n",
       "    <tr>\n",
       "      <th rowspan=\"10\" valign=\"top\">1c86</th>\n",
       "      <th>ARG1</th>\n",
       "      <th>Hydrophobic</th>\n",
       "      <th>(11,)</th>\n",
       "      <td>0.537519</td>\n",
       "      <td>8.559543</td>\n",
       "    </tr>\n",
       "    <tr>\n",
       "      <th rowspan=\"2\" valign=\"top\">GLN22</th>\n",
       "      <th rowspan=\"2\" valign=\"top\">Hydrophobic</th>\n",
       "      <th>(2,)</th>\n",
       "      <td>0.594126</td>\n",
       "      <td>11.905630</td>\n",
       "    </tr>\n",
       "    <tr>\n",
       "      <th>(7,)</th>\n",
       "      <td>0.552561</td>\n",
       "      <td>10.997555</td>\n",
       "    </tr>\n",
       "    <tr>\n",
       "      <th rowspan=\"2\" valign=\"top\">GLU7</th>\n",
       "      <th rowspan=\"2\" valign=\"top\">Hydrophobic</th>\n",
       "      <th>(8,)</th>\n",
       "      <td>0.677276</td>\n",
       "      <td>9.346738</td>\n",
       "    </tr>\n",
       "    <tr>\n",
       "      <th>(16,)</th>\n",
       "      <td>0.526996</td>\n",
       "      <td>9.023196</td>\n",
       "    </tr>\n",
       "    <tr>\n",
       "      <th rowspan=\"2\" valign=\"top\">PHE11</th>\n",
       "      <th rowspan=\"2\" valign=\"top\">Hydrophobic</th>\n",
       "      <th>(6,)</th>\n",
       "      <td>0.911631</td>\n",
       "      <td>6.112237</td>\n",
       "    </tr>\n",
       "    <tr>\n",
       "      <th>(14,)</th>\n",
       "      <td>0.610375</td>\n",
       "      <td>5.901117</td>\n",
       "    </tr>\n",
       "    <tr>\n",
       "      <th>PRO9</th>\n",
       "      <th>Hydrophobic</th>\n",
       "      <th>(17,)</th>\n",
       "      <td>0.935738</td>\n",
       "      <td>10.503302</td>\n",
       "    </tr>\n",
       "    <tr>\n",
       "      <th>SER14</th>\n",
       "      <th>Hydrophobic</th>\n",
       "      <th>(16,)</th>\n",
       "      <td>0.864385</td>\n",
       "      <td>5.750372</td>\n",
       "    </tr>\n",
       "    <tr>\n",
       "      <th>TYR2</th>\n",
       "      <th>Hydrophobic</th>\n",
       "      <th>(9,)</th>\n",
       "      <td>0.549355</td>\n",
       "      <td>5.940750</td>\n",
       "    </tr>\n",
       "  </tbody>\n",
       "</table>\n",
       "</div>"
      ],
      "text/plain": [
       "                                    weight   distance\n",
       "ligand protein interaction atoms                     \n",
       "1c86   ARG1    Hydrophobic (11,)  0.537519   8.559543\n",
       "       GLN22   Hydrophobic (2,)   0.594126  11.905630\n",
       "                           (7,)   0.552561  10.997555\n",
       "       GLU7    Hydrophobic (8,)   0.677276   9.346738\n",
       "                           (16,)  0.526996   9.023196\n",
       "       PHE11   Hydrophobic (6,)   0.911631   6.112237\n",
       "                           (14,)  0.610375   5.901117\n",
       "       PRO9    Hydrophobic (17,)  0.935738  10.503302\n",
       "       SER14   Hydrophobic (16,)  0.864385   5.750372\n",
       "       TYR2    Hydrophobic (9,)   0.549355   5.940750"
      ]
     },
     "execution_count": 68,
     "metadata": {},
     "output_type": "execute_result"
    }
   ],
   "source": [
    "# construct dataframe for prolif\n",
    "df = pd.DataFrame(columns=[\"ligand\", \"protein\", \"interaction\", \"atoms\", \"weight\", \"distance\"])\n",
    "\n",
    "# iterate through top_20_edges. for each edge, store ligand as 1c86; then map node1 to VOCAB, store as protein; store node2 as atoms; store shapley value as weight; then using calc_distance to calculate distance, and store distance \n",
    "for i, edge in enumerate(top_edges):\n",
    "    if edge[0] == 23:\n",
    "        continue\n",
    "    ligand = \"1c86\"\n",
    "    # idx here is the idx in the B, use B[idx] to map back to amino acid or atom number\n",
    "    protein = VOCAB.idx_to_abrv(B[edge[0]]) + str(edge[0])\n",
    "    atom_idx = int(edge[1]-24)\n",
    "    # create a tuple with only 1 element\n",
    "    atoms = (atom_idx,)\n",
    "    interaction = \"Hydrophobic\"\n",
    "    weight = top_edges_shapley[i] * 30\n",
    "    distance = calc_distance(edge[0], edge[1])\n",
    "    df = pd.concat([df, pd.DataFrame({\"ligand\": ligand, \"protein\": protein, \"interaction\": interaction, \"atoms\": atoms, \"weight\": weight, \"distance\": distance})], ignore_index=True)\n",
    "\n",
    "# set atoms type to tuple\n",
    "df.atoms = df.atoms.apply(lambda x: (x,))\n",
    "\n",
    "# order by protein, interaction, atoms\n",
    "df.sort_values(by=[\"ligand\", \"protein\", \"interaction\", \"atoms\"], inplace=True)\n",
    "df.set_index([\"ligand\", \"protein\", \"interaction\", \"atoms\"], inplace=True)\n",
    "df"
   ]
  },
  {
   "cell_type": "markdown",
   "metadata": {},
   "source": [
    "### If edges clustered together, run the below code block again to generate another plot"
   ]
  },
  {
   "cell_type": "markdown",
   "metadata": {},
   "source": [
    "# Please Ignore the Hydrophobic in the bottom left, this is WRONG information "
   ]
  },
  {
   "cell_type": "code",
   "execution_count": 74,
   "metadata": {},
   "outputs": [
    {
     "data": {
      "text/html": [
       "<iframe width=\"100%\" height=\"590px\" frameborder=\"0\" srcdoc=\"\n",
       "        &lt;html&gt;\n",
       "        &lt;head&gt;\n",
       "        &lt;script type=&quot;text/javascript&quot; src=&quot;https://unpkg.com/vis-network@9.0.4/dist/vis-network.min.js&quot;&gt;&lt;/script&gt;\n",
       "        &lt;link href=&quot;https://unpkg.com/vis-network@9.0.4/dist/dist/vis-network.min.css&quot; rel=&quot;stylesheet&quot; type=&quot;text/css&quot; /&gt;\n",
       "        &lt;style type=&quot;text/css&quot;&gt;\n",
       "            body {\n",
       "                padding: 0;\n",
       "                margin: 0;\n",
       "                background: #fff;\n",
       "            }\n",
       "            .legend-btn.residues.disabled {\n",
       "                background: #b4b4b4 !important;\n",
       "                color: #555 !important;\n",
       "            }\n",
       "            .legend-btn.interactions.disabled {\n",
       "                border-color: #b4b4b4 !important;\n",
       "                color: #555 !important;\n",
       "            }\n",
       "        &lt;/style&gt;\n",
       "        &lt;/head&gt;\n",
       "        &lt;body&gt;\n",
       "        &lt;div id=&quot;mynetwork&quot;&gt;&lt;/div&gt;\n",
       "        &lt;div id=&quot;networklegend&quot;&gt;&lt;/div&gt;\n",
       "        &lt;script type=&quot;text/javascript&quot;&gt;\n",
       "            \n",
       "        var ifp, legend, nodes, edges, legend_buttons;\n",
       "        function drawGraph(_id, nodes, edges, options) {\n",
       "            var container = document.getElementById(_id);\n",
       "            nodes = new vis.DataSet(nodes);\n",
       "            edges = new vis.DataSet(edges);\n",
       "            var data = {nodes: nodes, edges: edges};\n",
       "            var network = new vis.Network(container, data, options);\n",
       "            network.on(&quot;stabilizationIterationsDone&quot;, function () {\n",
       "                network.setOptions( { physics: false } );\n",
       "            });\n",
       "            return network;\n",
       "        }\n",
       "        nodes = [{&quot;id&quot;: &quot;ARG1&quot;, &quot;label&quot;: &quot;ARG1&quot;, &quot;color&quot;: &quot;#5979e3&quot;, &quot;shape&quot;: &quot;box&quot;, &quot;borderWidth&quot;: 0, &quot;physics&quot;: true, &quot;mass&quot;: 2, &quot;group&quot;: &quot;protein&quot;, &quot;residue_type&quot;: &quot;Basic&quot;}, {&quot;id&quot;: &quot;GLN22&quot;, &quot;label&quot;: &quot;GLN22&quot;, &quot;color&quot;: &quot;#59bee3&quot;, &quot;shape&quot;: &quot;box&quot;, &quot;borderWidth&quot;: 0, &quot;physics&quot;: true, &quot;mass&quot;: 2, &quot;group&quot;: &quot;protein&quot;, &quot;residue_type&quot;: &quot;Polar&quot;}, {&quot;id&quot;: &quot;GLU7&quot;, &quot;label&quot;: &quot;GLU7&quot;, &quot;color&quot;: &quot;#e35959&quot;, &quot;shape&quot;: &quot;box&quot;, &quot;borderWidth&quot;: 0, &quot;physics&quot;: true, &quot;mass&quot;: 2, &quot;group&quot;: &quot;protein&quot;, &quot;residue_type&quot;: &quot;Acidic&quot;}, {&quot;id&quot;: &quot;PHE11&quot;, &quot;label&quot;: &quot;PHE11&quot;, &quot;color&quot;: &quot;#b559e3&quot;, &quot;shape&quot;: &quot;box&quot;, &quot;borderWidth&quot;: 0, &quot;physics&quot;: true, &quot;mass&quot;: 2, &quot;group&quot;: &quot;protein&quot;, &quot;residue_type&quot;: &quot;Aromatic&quot;}, {&quot;id&quot;: &quot;PRO9&quot;, &quot;label&quot;: &quot;PRO9&quot;, &quot;color&quot;: &quot;#59e382&quot;, &quot;shape&quot;: &quot;box&quot;, &quot;borderWidth&quot;: 0, &quot;physics&quot;: true, &quot;mass&quot;: 2, &quot;group&quot;: &quot;protein&quot;, &quot;residue_type&quot;: &quot;Aliphatic&quot;}, {&quot;id&quot;: &quot;SER14&quot;, &quot;label&quot;: &quot;SER14&quot;, &quot;color&quot;: &quot;#59bee3&quot;, &quot;shape&quot;: &quot;box&quot;, &quot;borderWidth&quot;: 0, &quot;physics&quot;: true, &quot;mass&quot;: 2, &quot;group&quot;: &quot;protein&quot;, &quot;residue_type&quot;: &quot;Polar&quot;}, {&quot;id&quot;: &quot;TYR2&quot;, &quot;label&quot;: &quot;TYR2&quot;, &quot;color&quot;: &quot;#b559e3&quot;, &quot;shape&quot;: &quot;box&quot;, &quot;borderWidth&quot;: 0, &quot;physics&quot;: true, &quot;mass&quot;: 2, &quot;group&quot;: &quot;protein&quot;, &quot;residue_type&quot;: &quot;Aromatic&quot;}, {&quot;label&quot;: &quot;O&quot;, &quot;shape&quot;: &quot;circle&quot;, &quot;color&quot;: &quot;white&quot;, &quot;font&quot;: {&quot;color&quot;: &quot;red&quot;}, &quot;id&quot;: 0, &quot;x&quot;: -147.39815645176998, &quot;y&quot;: -68.00719142298432, &quot;fixed&quot;: true, &quot;group&quot;: &quot;ligand&quot;, &quot;borderWidth&quot;: 0}, {&quot;label&quot;: &quot; &quot;, &quot;shape&quot;: &quot;dot&quot;, &quot;color&quot;: &quot;black&quot;, &quot;size&quot;: 5.6000000000000005, &quot;id&quot;: 1, &quot;x&quot;: -96.83698100010606, &quot;y&quot;: -82.14287453155947, &quot;fixed&quot;: true, &quot;group&quot;: &quot;ligand&quot;, &quot;borderWidth&quot;: 0}, {&quot;label&quot;: &quot; &quot;, &quot;shape&quot;: &quot;dot&quot;, &quot;color&quot;: &quot;black&quot;, &quot;size&quot;: 5.6000000000000005, &quot;id&quot;: 2, &quot;x&quot;: -59.31453260240141, &quot;y&quot;: -45.423453699503966, &quot;fixed&quot;: true, &quot;group&quot;: &quot;ligand&quot;, &quot;borderWidth&quot;: 0}, {&quot;label&quot;: &quot; &quot;, &quot;shape&quot;: &quot;dot&quot;, &quot;color&quot;: &quot;black&quot;, &quot;size&quot;: 5.6000000000000005, &quot;id&quot;: 3, &quot;x&quot;: -72.35325965636068, &quot;y&quot;: 5.431650241126734, &quot;fixed&quot;: true, &quot;group&quot;: &quot;ligand&quot;, &quot;borderWidth&quot;: 0}, {&quot;label&quot;: &quot; &quot;, &quot;shape&quot;: &quot;dot&quot;, &quot;color&quot;: &quot;black&quot;, &quot;size&quot;: 5.6000000000000005, &quot;id&quot;: 4, &quot;x&quot;: -122.91443510802459, &quot;y&quot;: 19.56733334970191, &quot;fixed&quot;: true, &quot;group&quot;: &quot;ligand&quot;, &quot;borderWidth&quot;: 0}, {&quot;label&quot;: &quot; &quot;, &quot;shape&quot;: &quot;dot&quot;, &quot;color&quot;: &quot;black&quot;, &quot;size&quot;: 5.6000000000000005, &quot;id&quot;: 5, &quot;x&quot;: -160.43688350572924, &quot;y&quot;: -17.152087482353576, &quot;fixed&quot;: true, &quot;group&quot;: &quot;ligand&quot;, &quot;borderWidth&quot;: 0}, {&quot;label&quot;: &quot;S&quot;, &quot;shape&quot;: &quot;circle&quot;, &quot;color&quot;: &quot;white&quot;, &quot;font&quot;: {&quot;color&quot;: &quot;#dece1b&quot;}, &quot;id&quot;: 6, &quot;x&quot;: -6.919266368107458, &quot;y&quot;: -48.73797873900134, &quot;fixed&quot;: true, &quot;group&quot;: &quot;ligand&quot;, &quot;borderWidth&quot;: 0}, {&quot;label&quot;: &quot; &quot;, &quot;shape&quot;: &quot;dot&quot;, &quot;color&quot;: &quot;black&quot;, &quot;size&quot;: 5.6000000000000005, &quot;id&quot;: 7, &quot;x&quot;: 12.424061960326643, &quot;y&quot;: 0.06863607065737992, &quot;fixed&quot;: true, &quot;group&quot;: &quot;ligand&quot;, &quot;borderWidth&quot;: 0}, {&quot;label&quot;: &quot; &quot;, &quot;shape&quot;: &quot;dot&quot;, &quot;color&quot;: &quot;black&quot;, &quot;size&quot;: 5.6000000000000005, &quot;id&quot;: 8, &quot;x&quot;: -28.016369911446336, &quot;y&quot;: 33.54730793834782, &quot;fixed&quot;: true, &quot;group&quot;: &quot;ligand&quot;, &quot;borderWidth&quot;: 0}, {&quot;label&quot;: &quot; &quot;, &quot;shape&quot;: &quot;dot&quot;, &quot;color&quot;: &quot;black&quot;, &quot;size&quot;: 5.6000000000000005, &quot;id&quot;: 9, &quot;x&quot;: -24.701844871948968, &quot;y&quot;: 85.94257417264177, &quot;fixed&quot;: true, &quot;group&quot;: &quot;ligand&quot;, &quot;borderWidth&quot;: 0}, {&quot;label&quot;: &quot;O&quot;, &quot;shape&quot;: &quot;circle&quot;, &quot;color&quot;: &quot;white&quot;, &quot;font&quot;: {&quot;color&quot;: &quot;red&quot;}, &quot;id&quot;: 10, &quot;x&quot;: 22.33104924474734, &quot;y&quot;: 109.2697444041044, &quot;fixed&quot;: true, &quot;group&quot;: &quot;ligand&quot;, &quot;borderWidth&quot;: 0}, {&quot;label&quot;: &quot;O&quot;, &quot;shape&quot;: &quot;circle&quot;, &quot;color&quot;: &quot;white&quot;, &quot;font&quot;: {&quot;color&quot;: &quot;red&quot;}, &quot;id&quot;: 11, &quot;x&quot;: -68.42021394914786, &quot;y&quot;: 115.01067017547308, &quot;fixed&quot;: true, &quot;group&quot;: &quot;ligand&quot;, &quot;borderWidth&quot;: 0}, {&quot;label&quot;: &quot;N&quot;, &quot;shape&quot;: &quot;circle&quot;, &quot;color&quot;: &quot;white&quot;, &quot;font&quot;: {&quot;color&quot;: &quot;blue&quot;}, &quot;id&quot;: 12, &quot;x&quot;: 63.279165900957324, &quot;y&quot;: 13.107363124616661, &quot;fixed&quot;: true, &quot;group&quot;: &quot;ligand&quot;, &quot;borderWidth&quot;: 0}, {&quot;label&quot;: &quot; &quot;, &quot;shape&quot;: &quot;dot&quot;, &quot;color&quot;: &quot;black&quot;, &quot;size&quot;: 5.6000000000000005, &quot;id&quot;: 13, &quot;x&quot;: 99.99858673301283, &quot;y&quot;: -24.415085273088003, &quot;fixed&quot;: true, &quot;group&quot;: &quot;ligand&quot;, &quot;borderWidth&quot;: 0}, {&quot;label&quot;: &quot; &quot;, &quot;shape&quot;: &quot;dot&quot;, &quot;color&quot;: &quot;black&quot;, &quot;size&quot;: 5.6000000000000005, &quot;id&quot;: 14, &quot;x&quot;: 150.8536906736435, &quot;y&quot;: -11.376358219128726, &quot;fixed&quot;: true, &quot;group&quot;: &quot;ligand&quot;, &quot;borderWidth&quot;: 0}, {&quot;label&quot;: &quot;O&quot;, &quot;shape&quot;: &quot;circle&quot;, &quot;color&quot;: &quot;white&quot;, &quot;font&quot;: {&quot;color&quot;: &quot;red&quot;}, &quot;id&quot;: 15, &quot;x&quot;: 187.57311150569902, &quot;y&quot;: -48.89880661683337, &quot;fixed&quot;: true, &quot;group&quot;: &quot;ligand&quot;, &quot;borderWidth&quot;: 0}, {&quot;label&quot;: &quot;O&quot;, &quot;shape&quot;: &quot;circle&quot;, &quot;color&quot;: &quot;white&quot;, &quot;font&quot;: {&quot;color&quot;: &quot;red&quot;}, &quot;id&quot;: 16, &quot;x&quot;: 164.98937378221868, &quot;y&quot;: 39.184817232535224, &quot;fixed&quot;: true, &quot;group&quot;: &quot;ligand&quot;, &quot;borderWidth&quot;: 0}, {&quot;label&quot;: &quot;O&quot;, &quot;shape&quot;: &quot;circle&quot;, &quot;color&quot;: &quot;white&quot;, &quot;font&quot;: {&quot;color&quot;: &quot;red&quot;}, &quot;id&quot;: 17, &quot;x&quot;: 85.86290362443766, &quot;y&quot;: -74.97626072475194, &quot;fixed&quot;: true, &quot;group&quot;: &quot;ligand&quot;, &quot;borderWidth&quot;: 0}, {&quot;id&quot;: 1753480471029251890, &quot;x&quot;: -63.382940917651865, &quot;y&quot;: -46.466551863820705, &quot;shape&quot;: &quot;text&quot;, &quot;label&quot;: &quot; &quot;, &quot;fixed&quot;: true, &quot;physics&quot;: false}, {&quot;id&quot;: 9107035919754847266, &quot;x&quot;: -76.42166797161113, &quot;y&quot;: 4.388552076809993, &quot;shape&quot;: &quot;text&quot;, &quot;label&quot;: &quot; &quot;, &quot;fixed&quot;: true, &quot;physics&quot;: false}, {&quot;id&quot;: -4678525009421368579, &quot;x&quot;: -55.24612428715095, &quot;y&quot;: -44.38035553518723, &quot;shape&quot;: &quot;text&quot;, &quot;label&quot;: &quot; &quot;, &quot;fixed&quot;: true, &quot;physics&quot;: false}, {&quot;id&quot;: -8011703794964393031, &quot;x&quot;: -68.28485134111023, &quot;y&quot;: 6.474748405443475, &quot;shape&quot;: &quot;text&quot;, &quot;label&quot;: &quot; &quot;, &quot;fixed&quot;: true, &quot;physics&quot;: false}, {&quot;id&quot;: -1206403528690602874, &quot;x&quot;: -25.3380761620311, &quot;y&quot;: 36.78254248808966, &quot;shape&quot;: &quot;text&quot;, &quot;label&quot;: &quot; &quot;, &quot;fixed&quot;: true, &quot;physics&quot;: false}, {&quot;id&quot;: -4049397392853473351, &quot;x&quot;: 15.102355709741879, &quot;y&quot;: 3.303870620399219, &quot;shape&quot;: &quot;text&quot;, &quot;label&quot;: &quot; &quot;, &quot;fixed&quot;: true, &quot;physics&quot;: false}, {&quot;id&quot;: -4398638795365617080, &quot;x&quot;: -30.694663660861572, &quot;y&quot;: 30.31207338860598, &quot;shape&quot;: &quot;text&quot;, &quot;label&quot;: &quot; &quot;, &quot;fixed&quot;: true, &quot;physics&quot;: false}, {&quot;id&quot;: 1072058709494813363, &quot;x&quot;: 9.745768210911407, &quot;y&quot;: -3.166598479084459, &quot;shape&quot;: &quot;text&quot;, &quot;label&quot;: &quot; &quot;, &quot;fixed&quot;: true, &quot;physics&quot;: false}, {&quot;id&quot;: -8521224477250037402, &quot;x&quot;: 104.04348076914594, &quot;y&quot;: -25.545939921774018, &quot;shape&quot;: &quot;text&quot;, &quot;label&quot;: &quot; &quot;, &quot;fixed&quot;: true, &quot;physics&quot;: false}, {&quot;id&quot;: 3675171939040800023, &quot;x&quot;: 89.90779766057078, &quot;y&quot;: -76.10711537343795, &quot;shape&quot;: &quot;text&quot;, &quot;label&quot;: &quot; &quot;, &quot;fixed&quot;: true, &quot;physics&quot;: false}, {&quot;id&quot;: -5845779168477004628, &quot;x&quot;: 95.95369269687971, &quot;y&quot;: -23.28423062440199, &quot;shape&quot;: &quot;text&quot;, &quot;label&quot;: &quot; &quot;, &quot;fixed&quot;: true, &quot;physics&quot;: false}, {&quot;id&quot;: 4894172817242509333, &quot;x&quot;: 81.81800958830455, &quot;y&quot;: -73.84540607606593, &quot;shape&quot;: &quot;text&quot;, &quot;label&quot;: &quot; &quot;, &quot;fixed&quot;: true, &quot;physics&quot;: false}, {&quot;id&quot;: 637024082117373709, &quot;x&quot;: 146.8087966375104, &quot;y&quot;: -10.245503570442713, &quot;shape&quot;: &quot;text&quot;, &quot;label&quot;: &quot; &quot;, &quot;fixed&quot;: true, &quot;physics&quot;: false}, {&quot;id&quot;: -247405042835590552, &quot;x&quot;: 160.94447974608556, &quot;y&quot;: 40.315671881221235, &quot;shape&quot;: &quot;text&quot;, &quot;label&quot;: &quot; &quot;, &quot;fixed&quot;: true, &quot;physics&quot;: false}, {&quot;id&quot;: -5276191648892522809, &quot;x&quot;: 154.89858470977663, &quot;y&quot;: -12.507212867814738, &quot;shape&quot;: &quot;text&quot;, &quot;label&quot;: &quot; &quot;, &quot;fixed&quot;: true, &quot;physics&quot;: false}, {&quot;id&quot;: -145134173314688824, &quot;x&quot;: 169.0342678183518, &quot;y&quot;: 38.05396258384921, &quot;shape&quot;: &quot;text&quot;, &quot;label&quot;: &quot; &quot;, &quot;fixed&quot;: true, &quot;physics&quot;: false}, {&quot;id&quot;: 4647521112004299307, &quot;x&quot;: -27.027292552175474, &quot;y&quot;: 82.44510464646585, &quot;shape&quot;: &quot;text&quot;, &quot;label&quot;: &quot; &quot;, &quot;fixed&quot;: true, &quot;physics&quot;: false}, {&quot;id&quot;: 4233022982388465239, &quot;x&quot;: -70.74566162937437, &quot;y&quot;: 111.51320064929716, &quot;shape&quot;: &quot;text&quot;, &quot;label&quot;: &quot; &quot;, &quot;fixed&quot;: true, &quot;physics&quot;: false}, {&quot;id&quot;: -1605211869675909314, &quot;x&quot;: -22.37639719172246, &quot;y&quot;: 89.44004369881769, &quot;shape&quot;: &quot;text&quot;, &quot;label&quot;: &quot; &quot;, &quot;fixed&quot;: true, &quot;physics&quot;: false}, {&quot;id&quot;: 2360838882504804757, &quot;x&quot;: -66.09476626892136, &quot;y&quot;: 118.508139701649, &quot;shape&quot;: &quot;text&quot;, &quot;label&quot;: &quot; &quot;, &quot;fixed&quot;: true, &quot;physics&quot;: false}];\n",
       "        edges = [{&quot;from&quot;: 11, &quot;to&quot;: &quot;ARG1&quot;, &quot;title&quot;: &quot;Hydrophobic: 8.56\\u00c5&quot;, &quot;interaction_type&quot;: &quot;Hydrophobic&quot;, &quot;color&quot;: &quot;#59e382&quot;, &quot;smooth&quot;: {&quot;type&quot;: &quot;cubicBezier&quot;, &quot;roundness&quot;: 0.2}, &quot;dashes&quot;: [10], &quot;width&quot;: 3.225113868713379, &quot;group&quot;: &quot;interaction&quot;}, {&quot;from&quot;: 2, &quot;to&quot;: &quot;GLN22&quot;, &quot;title&quot;: &quot;Hydrophobic: 11.91\\u00c5&quot;, &quot;interaction_type&quot;: &quot;Hydrophobic&quot;, &quot;color&quot;: &quot;#59e382&quot;, &quot;smooth&quot;: {&quot;type&quot;: &quot;cubicBezier&quot;, &quot;roundness&quot;: 0.2}, &quot;dashes&quot;: [10], &quot;width&quot;: 3.5647544860839844, &quot;group&quot;: &quot;interaction&quot;}, {&quot;from&quot;: 7, &quot;to&quot;: &quot;GLN22&quot;, &quot;title&quot;: &quot;Hydrophobic: 11.00\\u00c5&quot;, &quot;interaction_type&quot;: &quot;Hydrophobic&quot;, &quot;color&quot;: &quot;#59e382&quot;, &quot;smooth&quot;: {&quot;type&quot;: &quot;cubicBezier&quot;, &quot;roundness&quot;: 0.2}, &quot;dashes&quot;: [10], &quot;width&quot;: 3.3153648376464844, &quot;group&quot;: &quot;interaction&quot;}, {&quot;from&quot;: 8, &quot;to&quot;: &quot;GLU7&quot;, &quot;title&quot;: &quot;Hydrophobic: 9.35\\u00c5&quot;, &quot;interaction_type&quot;: &quot;Hydrophobic&quot;, &quot;color&quot;: &quot;#59e382&quot;, &quot;smooth&quot;: {&quot;type&quot;: &quot;cubicBezier&quot;, &quot;roundness&quot;: 0.2}, &quot;dashes&quot;: [10], &quot;width&quot;: 4.063653945922852, &quot;group&quot;: &quot;interaction&quot;}, {&quot;from&quot;: 16, &quot;to&quot;: &quot;GLU7&quot;, &quot;title&quot;: &quot;Hydrophobic: 9.02\\u00c5&quot;, &quot;interaction_type&quot;: &quot;Hydrophobic&quot;, &quot;color&quot;: &quot;#59e382&quot;, &quot;smooth&quot;: {&quot;type&quot;: &quot;cubicBezier&quot;, &quot;roundness&quot;: 0.2}, &quot;dashes&quot;: [10], &quot;width&quot;: 3.1619768142700195, &quot;group&quot;: &quot;interaction&quot;}, {&quot;from&quot;: 6, &quot;to&quot;: &quot;PHE11&quot;, &quot;title&quot;: &quot;Hydrophobic: 6.11\\u00c5&quot;, &quot;interaction_type&quot;: &quot;Hydrophobic&quot;, &quot;color&quot;: &quot;#59e382&quot;, &quot;smooth&quot;: {&quot;type&quot;: &quot;cubicBezier&quot;, &quot;roundness&quot;: 0.2}, &quot;dashes&quot;: [10], &quot;width&quot;: 5.469783782958984, &quot;group&quot;: &quot;interaction&quot;}, {&quot;from&quot;: 14, &quot;to&quot;: &quot;PHE11&quot;, &quot;title&quot;: &quot;Hydrophobic: 5.90\\u00c5&quot;, &quot;interaction_type&quot;: &quot;Hydrophobic&quot;, &quot;color&quot;: &quot;#59e382&quot;, &quot;smooth&quot;: {&quot;type&quot;: &quot;cubicBezier&quot;, &quot;roundness&quot;: 0.2}, &quot;dashes&quot;: [10], &quot;width&quot;: 3.6622495651245117, &quot;group&quot;: &quot;interaction&quot;}, {&quot;from&quot;: 17, &quot;to&quot;: &quot;PRO9&quot;, &quot;title&quot;: &quot;Hydrophobic: 10.50\\u00c5&quot;, &quot;interaction_type&quot;: &quot;Hydrophobic&quot;, &quot;color&quot;: &quot;#59e382&quot;, &quot;smooth&quot;: {&quot;type&quot;: &quot;cubicBezier&quot;, &quot;roundness&quot;: 0.2}, &quot;dashes&quot;: [10], &quot;width&quot;: 5.6144256591796875, &quot;group&quot;: &quot;interaction&quot;}, {&quot;from&quot;: 16, &quot;to&quot;: &quot;SER14&quot;, &quot;title&quot;: &quot;Hydrophobic: 5.75\\u00c5&quot;, &quot;interaction_type&quot;: &quot;Hydrophobic&quot;, &quot;color&quot;: &quot;#59e382&quot;, &quot;smooth&quot;: {&quot;type&quot;: &quot;cubicBezier&quot;, &quot;roundness&quot;: 0.2}, &quot;dashes&quot;: [10], &quot;width&quot;: 5.186310768127441, &quot;group&quot;: &quot;interaction&quot;}, {&quot;from&quot;: 9, &quot;to&quot;: &quot;TYR2&quot;, &quot;title&quot;: &quot;Hydrophobic: 5.94\\u00c5&quot;, &quot;interaction_type&quot;: &quot;Hydrophobic&quot;, &quot;color&quot;: &quot;#59e382&quot;, &quot;smooth&quot;: {&quot;type&quot;: &quot;cubicBezier&quot;, &quot;roundness&quot;: 0.2}, &quot;dashes&quot;: [10], &quot;width&quot;: 3.2961301803588867, &quot;group&quot;: &quot;interaction&quot;}, {&quot;from&quot;: 0, &quot;to&quot;: 5, &quot;color&quot;: &quot;black&quot;, &quot;physics&quot;: false, &quot;group&quot;: &quot;ligand&quot;, &quot;width&quot;: 4}, {&quot;from&quot;: 0, &quot;to&quot;: 1, &quot;color&quot;: &quot;black&quot;, &quot;physics&quot;: false, &quot;group&quot;: &quot;ligand&quot;, &quot;width&quot;: 4}, {&quot;from&quot;: 1, &quot;to&quot;: 2, &quot;color&quot;: &quot;black&quot;, &quot;physics&quot;: false, &quot;group&quot;: &quot;ligand&quot;, &quot;width&quot;: 4}, {&quot;from&quot;: 2, &quot;to&quot;: 6, &quot;color&quot;: &quot;black&quot;, &quot;physics&quot;: false, &quot;group&quot;: &quot;ligand&quot;, &quot;width&quot;: 4}, {&quot;from&quot;: 1753480471029251890, &quot;to&quot;: 9107035919754847266, &quot;color&quot;: &quot;black&quot;, &quot;physics&quot;: false, &quot;dashes&quot;: false, &quot;group&quot;: &quot;ligand&quot;, &quot;width&quot;: 4}, {&quot;from&quot;: -4678525009421368579, &quot;to&quot;: -8011703794964393031, &quot;color&quot;: &quot;black&quot;, &quot;physics&quot;: false, &quot;dashes&quot;: false, &quot;group&quot;: &quot;ligand&quot;, &quot;width&quot;: 4}, {&quot;from&quot;: 3, &quot;to&quot;: 8, &quot;color&quot;: &quot;black&quot;, &quot;physics&quot;: false, &quot;group&quot;: &quot;ligand&quot;, &quot;width&quot;: 4}, {&quot;from&quot;: 3, &quot;to&quot;: 4, &quot;color&quot;: &quot;black&quot;, &quot;physics&quot;: false, &quot;group&quot;: &quot;ligand&quot;, &quot;width&quot;: 4}, {&quot;from&quot;: 4, &quot;to&quot;: 5, &quot;color&quot;: &quot;black&quot;, &quot;physics&quot;: false, &quot;group&quot;: &quot;ligand&quot;, &quot;width&quot;: 4}, {&quot;from&quot;: 8, &quot;to&quot;: 9, &quot;color&quot;: &quot;black&quot;, &quot;physics&quot;: false, &quot;group&quot;: &quot;ligand&quot;, &quot;width&quot;: 4}, {&quot;from&quot;: -1206403528690602874, &quot;to&quot;: -4049397392853473351, &quot;color&quot;: &quot;black&quot;, &quot;physics&quot;: false, &quot;dashes&quot;: false, &quot;group&quot;: &quot;ligand&quot;, &quot;width&quot;: 4}, {&quot;from&quot;: -4398638795365617080, &quot;to&quot;: 1072058709494813363, &quot;color&quot;: &quot;black&quot;, &quot;physics&quot;: false, &quot;dashes&quot;: false, &quot;group&quot;: &quot;ligand&quot;, &quot;width&quot;: 4}, {&quot;from&quot;: 7, &quot;to&quot;: 12, &quot;color&quot;: &quot;black&quot;, &quot;physics&quot;: false, &quot;group&quot;: &quot;ligand&quot;, &quot;width&quot;: 4}, {&quot;from&quot;: 7, &quot;to&quot;: 6, &quot;color&quot;: &quot;black&quot;, &quot;physics&quot;: false, &quot;group&quot;: &quot;ligand&quot;, &quot;width&quot;: 4}, {&quot;from&quot;: 12, &quot;to&quot;: 13, &quot;color&quot;: &quot;black&quot;, &quot;physics&quot;: false, &quot;group&quot;: &quot;ligand&quot;, &quot;width&quot;: 4}, {&quot;from&quot;: -8521224477250037402, &quot;to&quot;: 3675171939040800023, &quot;color&quot;: &quot;black&quot;, &quot;physics&quot;: false, &quot;dashes&quot;: false, &quot;group&quot;: &quot;ligand&quot;, &quot;width&quot;: 4}, {&quot;from&quot;: -5845779168477004628, &quot;to&quot;: 4894172817242509333, &quot;color&quot;: &quot;black&quot;, &quot;physics&quot;: false, &quot;dashes&quot;: false, &quot;group&quot;: &quot;ligand&quot;, &quot;width&quot;: 4}, {&quot;from&quot;: 13, &quot;to&quot;: 14, &quot;color&quot;: &quot;black&quot;, &quot;physics&quot;: false, &quot;group&quot;: &quot;ligand&quot;, &quot;width&quot;: 4}, {&quot;from&quot;: 637024082117373709, &quot;to&quot;: -247405042835590552, &quot;color&quot;: &quot;black&quot;, &quot;physics&quot;: false, &quot;dashes&quot;: false, &quot;group&quot;: &quot;ligand&quot;, &quot;width&quot;: 4}, {&quot;from&quot;: -5276191648892522809, &quot;to&quot;: -145134173314688824, &quot;color&quot;: &quot;black&quot;, &quot;physics&quot;: false, &quot;dashes&quot;: false, &quot;group&quot;: &quot;ligand&quot;, &quot;width&quot;: 4}, {&quot;from&quot;: 14, &quot;to&quot;: 15, &quot;color&quot;: &quot;black&quot;, &quot;physics&quot;: false, &quot;group&quot;: &quot;ligand&quot;, &quot;width&quot;: 4}, {&quot;from&quot;: 4647521112004299307, &quot;to&quot;: 4233022982388465239, &quot;color&quot;: &quot;black&quot;, &quot;physics&quot;: false, &quot;dashes&quot;: false, &quot;group&quot;: &quot;ligand&quot;, &quot;width&quot;: 4}, {&quot;from&quot;: -1605211869675909314, &quot;to&quot;: 2360838882504804757, &quot;color&quot;: &quot;black&quot;, &quot;physics&quot;: false, &quot;dashes&quot;: false, &quot;group&quot;: &quot;ligand&quot;, &quot;width&quot;: 4}, {&quot;from&quot;: 9, &quot;to&quot;: 10, &quot;color&quot;: &quot;black&quot;, &quot;physics&quot;: false, &quot;group&quot;: &quot;ligand&quot;, &quot;width&quot;: 4}];\n",
       "        ifp = drawGraph(&#x27;mynetwork&#x27;, nodes, edges, {&quot;width&quot;: &quot;100%&quot;, &quot;height&quot;: &quot;500px&quot;, &quot;nodes&quot;: {&quot;font&quot;: {&quot;size&quot;: 20}}, &quot;physics&quot;: {&quot;barnesHut&quot;: {&quot;avoidOverlap&quot;: 0.8, &quot;springConstant&quot;: 0.1}}});\n",
       "    \n",
       "        legend_buttons = [{&quot;index&quot;: 0, &quot;label&quot;: &quot;Acidic&quot;, &quot;color&quot;: &quot;#e35959&quot;, &quot;group&quot;: &quot;residues&quot;}, {&quot;index&quot;: 1, &quot;label&quot;: &quot;Aliphatic&quot;, &quot;color&quot;: &quot;#59e382&quot;, &quot;group&quot;: &quot;residues&quot;}, {&quot;index&quot;: 2, &quot;label&quot;: &quot;Aromatic&quot;, &quot;color&quot;: &quot;#b559e3&quot;, &quot;group&quot;: &quot;residues&quot;}, {&quot;index&quot;: 3, &quot;label&quot;: &quot;Basic&quot;, &quot;color&quot;: &quot;#5979e3&quot;, &quot;group&quot;: &quot;residues&quot;}, {&quot;index&quot;: 4, &quot;label&quot;: &quot;Polar&quot;, &quot;color&quot;: &quot;#59bee3&quot;, &quot;group&quot;: &quot;residues&quot;}, {&quot;index&quot;: 0, &quot;label&quot;: &quot;Hydrophobic&quot;, &quot;color&quot;: &quot;#59e382&quot;, &quot;group&quot;: &quot;interactions&quot;}];\n",
       "        legend = document.getElementById(&#x27;networklegend&#x27;);\n",
       "        var div_residues = document.createElement(&#x27;div&#x27;);\n",
       "        var div_interactions = document.createElement(&#x27;div&#x27;);\n",
       "        var disabled = [];\n",
       "        var legend_callback = function() {\n",
       "            this.classList.toggle(&quot;disabled&quot;);\n",
       "            var hide = this.classList.contains(&quot;disabled&quot;);\n",
       "            var show = !hide;\n",
       "            var btn_label = this.innerHTML;\n",
       "            if (hide) {\n",
       "                disabled.push(btn_label);\n",
       "            } else {\n",
       "                disabled = disabled.filter(x =&gt; x !== btn_label);\n",
       "            }\n",
       "            var node_update = [],\n",
       "                edge_update = [];\n",
       "            // click on residue type\n",
       "            if (this.classList.contains(&quot;residues&quot;)) {\n",
       "                nodes.forEach((node) =&gt; {\n",
       "                    // find nodes corresponding to this type\n",
       "                    if (node.residue_type === btn_label) {\n",
       "                        // if hiding this type and residue isn&#x27;t already hidden\n",
       "                        if (hide &amp;&amp; !node.hidden) {\n",
       "                            node.hidden = true;\n",
       "                            node_update.push(node);\n",
       "                        // if showing this type and residue isn&#x27;t already visible\n",
       "                        } else if (show &amp;&amp; node.hidden) {\n",
       "                            // display if there&#x27;s at least one of its edge that isn&#x27;t hidden\n",
       "                            num_edges_active = edges.filter(x =&gt; x.to === node.id)\n",
       "                                                    .map(x =&gt; Boolean(x.hidden))\n",
       "                                                    .filter(x =&gt; !x)\n",
       "                                                    .length;\n",
       "                            if (num_edges_active &gt; 0) {\n",
       "                                node.hidden = false;\n",
       "                                node_update.push(node);\n",
       "                            }\n",
       "                        }\n",
       "                    }\n",
       "                });\n",
       "                ifp.body.data.nodes.update(node_update);\n",
       "            // click on interaction type\n",
       "            } else {\n",
       "                edges.forEach((edge) =&gt; {\n",
       "                    // find edges corresponding to this type\n",
       "                    if (edge.interaction_type === btn_label) {\n",
       "                        edge.hidden = !edge.hidden;\n",
       "                        edge_update.push(edge);\n",
       "                        // number of active edges for the corresponding residue\n",
       "                        var num_edges_active = edges.filter(x =&gt; x.to === edge.to)\n",
       "                                               .map(x =&gt; Boolean(x.hidden))\n",
       "                                               .filter(x =&gt; !x)\n",
       "                                               .length;\n",
       "                        // find corresponding residue\n",
       "                        var ix = nodes.findIndex(x =&gt; x.id === edge.to);\n",
       "                        // only change visibility if residue_type not being hidden\n",
       "                        if (!(disabled.includes(nodes[ix].residue_type))) {\n",
       "                            // hide if no edge being shown for this residue\n",
       "                            if (hide &amp;&amp; (num_edges_active === 0)) {\n",
       "                                nodes[ix].hidden = true;\n",
       "                                node_update.push(nodes[ix]);\n",
       "                            // show if edges are being shown\n",
       "                            } else if (show &amp;&amp; (num_edges_active &gt; 0)) {\n",
       "                                nodes[ix].hidden = false;\n",
       "                                node_update.push(nodes[ix]);\n",
       "                            }\n",
       "                        }\n",
       "                    }\n",
       "                });\n",
       "                ifp.body.data.nodes.update(node_update);\n",
       "                ifp.body.data.edges.update(edge_update);\n",
       "            }\n",
       "        };\n",
       "        legend_buttons.forEach(function(v,i) {\n",
       "            if (v.group === &quot;residues&quot;) {\n",
       "                var div = div_residues;\n",
       "                var border = &quot;none&quot;;\n",
       "                var color = v.color;\n",
       "            } else {\n",
       "                var div = div_interactions;\n",
       "                var border = &quot;3px dashed &quot; + v.color;\n",
       "                var color = &quot;white&quot;;\n",
       "            }\n",
       "            var button = div.appendChild(document.createElement(&#x27;button&#x27;));\n",
       "            button.classList.add(&quot;legend-btn&quot;, v.group);\n",
       "            button.innerHTML = v.label;\n",
       "            Object.assign(button.style, {\n",
       "                &quot;cursor&quot;: &quot;pointer&quot;,\n",
       "                &quot;background-color&quot;: color,\n",
       "                &quot;border&quot;: border,\n",
       "                &quot;border-radius&quot;: &quot;5px&quot;,\n",
       "                &quot;padding&quot;: &quot;5px&quot;,\n",
       "                &quot;margin&quot;: &quot;5px&quot;,\n",
       "                &quot;font&quot;: &quot;14px &#x27;Arial&#x27;, sans-serif&quot;,\n",
       "            });\n",
       "            button.onclick = legend_callback;\n",
       "        });\n",
       "        legend.appendChild(div_residues);\n",
       "        legend.appendChild(div_interactions);\n",
       "        \n",
       "        &lt;/script&gt;\n",
       "        &lt;/body&gt;\n",
       "        &lt;/html&gt;\n",
       "    \"></iframe>"
      ],
      "text/plain": [
       "<IPython.core.display.HTML object>"
      ]
     },
     "execution_count": 74,
     "metadata": {},
     "output_type": "execute_result"
    }
   ],
   "source": [
    "# construct prolif network and visualize\n",
    "\n",
    "lg = LigNetwork(df, ligand_mol)\n",
    "lg.display()"
   ]
  }
 ],
 "metadata": {
  "kernelspec": {
   "display_name": "GET",
   "language": "python",
   "name": "python3"
  },
  "language_info": {
   "codemirror_mode": {
    "name": "ipython",
    "version": 3
   },
   "file_extension": ".py",
   "mimetype": "text/x-python",
   "name": "python",
   "nbconvert_exporter": "python",
   "pygments_lexer": "ipython3",
   "version": "3.9.18"
  }
 },
 "nbformat": 4,
 "nbformat_minor": 2
}
