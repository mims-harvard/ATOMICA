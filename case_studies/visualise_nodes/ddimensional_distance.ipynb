{
 "cells": [
  {
   "cell_type": "code",
   "execution_count": 1,
   "metadata": {},
   "outputs": [],
   "source": [
    "import numpy as np\n",
    "import random\n",
    "import matplotlib.pyplot as plt\n",
    "import scipy\n",
    "import pandas as pd\n",
    "import os\n",
    "import sys"
   ]
  },
  {
   "cell_type": "code",
   "execution_count": 2,
   "metadata": {},
   "outputs": [
    {
     "name": "stdout",
     "output_type": "stream",
     "text": [
      "/n/holylabs/LABS/mzitnik_lab/Users/afang/GET\n"
     ]
    }
   ],
   "source": [
    "\n",
    "# Get the current notebook's directory\n",
    "current_directory = os.getcwd()\n",
    "\n",
    "# Get the parent directory\n",
    "parent_directory = os.path.dirname(os.path.dirname(current_directory))\n",
    "\n",
    "# Add the parent directory to the module search path\n",
    "sys.path.insert(0, parent_directory)\n",
    "print(parent_directory)"
   ]
  },
  {
   "cell_type": "code",
   "execution_count": 3,
   "metadata": {},
   "outputs": [],
   "source": [
    "from data.pdb_utils import VOCAB"
   ]
  },
  {
   "cell_type": "code",
   "execution_count": 17,
   "metadata": {},
   "outputs": [],
   "source": [
    "def get_distances(indexes, embeddings, distance_metric=\"euclidean\", num_pairs=500):\n",
    "    pairs = [random.sample(indexes, 2) for _ in range(num_pairs)]\n",
    "    distances = []\n",
    "    for pair in pairs:\n",
    "        emb1 = embeddings[pair[0]]\n",
    "        emb2 = embeddings[pair[1]]\n",
    "        if distance_metric == \"euclidean\":\n",
    "            dist = np.linalg.norm(emb1 - emb2)\n",
    "        elif distance_metric == \"cosine\":\n",
    "            dist = np.dot(emb1, emb2)/(np.linalg.norm(emb1)*np.linalg.norm(emb2))\n",
    "        else:\n",
    "            raise ValueError(\"Invalid distance metric\")\n",
    "        distances.append(dist)\n",
    "    distances = np.array(distances)\n",
    "    return distances"
   ]
  },
  {
   "cell_type": "code",
   "execution_count": 24,
   "metadata": {},
   "outputs": [],
   "source": [
    "def get_between_distances(indexes1, indexes2, embeddings1, embeddings2, distance_metric=\"euclidean\", num_pairs=500):\n",
    "    pairs = [(random.choice(indexes1), random.choice(indexes2)) for _ in range(num_pairs)]\n",
    "    distances = []\n",
    "    for pair in pairs:\n",
    "        emb1 = embeddings1[pair[0]]\n",
    "        emb2 = embeddings2[pair[1]]\n",
    "        if distance_metric == \"euclidean\":\n",
    "            dist = np.linalg.norm(emb1 - emb2)\n",
    "        elif distance_metric == \"cosine\":\n",
    "            dist = np.dot(emb1, emb2)/(np.linalg.norm(emb1)*np.linalg.norm(emb2))\n",
    "        else:\n",
    "            raise ValueError(\"Invalid distance metric\")\n",
    "        distances.append(dist)\n",
    "    distances = np.array(distances)\n",
    "    return distances"
   ]
  },
  {
   "cell_type": "markdown",
   "metadata": {},
   "source": [
    "# Residue embeddings"
   ]
  },
  {
   "cell_type": "code",
   "execution_count": 5,
   "metadata": {},
   "outputs": [],
   "source": [
    "embedding_dir = \"/n/holylabs/LABS/mzitnik_lab/Users/afang/GET/case_studies/visualise_nodes/pretrained_embeddings_all\"\n",
    "embeddings = {}\n",
    "for embedding_file in os.listdir(embedding_dir):\n",
    "    if \"valid\" not in embedding_file:\n",
    "        continue\n",
    "    embeddings[embedding_file] = np.load(os.path.join(embedding_dir, embedding_file, \"graph_embeddings.npy\"))"
   ]
  },
  {
   "cell_type": "code",
   "execution_count": 15,
   "metadata": {},
   "outputs": [
    {
     "data": {
      "text/plain": [
       "(33074, 40)"
      ]
     },
     "execution_count": 15,
     "metadata": {},
     "output_type": "execute_result"
    }
   ],
   "source": [
    "all_embeddings = np.concatenate(list(embeddings.values()), axis=0)\n",
    "all_embeddings.shape"
   ]
  },
  {
   "cell_type": "code",
   "execution_count": 32,
   "metadata": {},
   "outputs": [],
   "source": [
    "num_pairs = 1000\n",
    "distances_PP_all = get_between_distances(range(embeddings[\"QBioLiP_PP_valid\"].shape[0]), range(all_embeddings.shape[0]), embeddings[\"QBioLiP_PP_valid\"], all_embeddings, distance_metric=\"cosine\", num_pairs=num_pairs)\n",
    "distances_Ppeptide_all = get_between_distances(range(embeddings[\"QBioLiP_Ppeptide_valid\"].shape[0]), range(all_embeddings.shape[0]), embeddings[\"QBioLiP_Ppeptide_valid\"], all_embeddings, distance_metric=\"cosine\", num_pairs=num_pairs)\n",
    "distances_Ppeptide = get_distances(range(embeddings[\"QBioLiP_Ppeptide_valid\"].shape[0]), embeddings[\"QBioLiP_Ppeptide_valid\"], distance_metric=\"cosine\", num_pairs=num_pairs)\n",
    "distances_PP = get_distances(range(embeddings[\"QBioLiP_PP_valid\"].shape[0]), embeddings[\"QBioLiP_PP_valid\"], distance_metric=\"cosine\", num_pairs=num_pairs)\n",
    "distances_PP_Ppeptide = get_between_distances(range(embeddings[\"QBioLiP_PP_valid\"].shape[0]), range(embeddings[\"QBioLiP_Ppeptide_valid\"].shape[0]), embeddings[\"QBioLiP_PP_valid\"], embeddings[\"QBioLiP_Ppeptide_valid\"], distance_metric=\"cosine\", num_pairs=num_pairs)"
   ]
  },
  {
   "cell_type": "code",
   "execution_count": 34,
   "metadata": {},
   "outputs": [
    {
     "data": {
      "image/png": "[encoded data removed]",
      "text/plain": [
       "<Figure size 640x480 with 1 Axes>"
      ]
     },
     "metadata": {},
     "output_type": "display_data"
    }
   ],
   "source": [
    "plt.hist(distances_PP_all, bins=50, alpha=0.5, label=\"PP_all\")\n",
    "plt.hist(distances_Ppeptide_all, bins=50, alpha=0.5, label=\"Ppeptide_all\")\n",
    "plt.hist(distances_Ppeptide, bins=50, alpha=0.5, label=\"Ppeptide\")\n",
    "plt.hist(distances_PP, bins=50, alpha=0.5, label=\"PP\")\n",
    "plt.hist(distances_PP_Ppeptide, bins=50, alpha=0.5, label=\"PP + Ppeptide\")\n",
    "plt.legend()\n",
    "plt.show()"
   ]
  },
  {
   "cell_type": "code",
   "execution_count": 36,
   "metadata": {},
   "outputs": [
    {
     "name": "stdout",
     "output_type": "stream",
     "text": [
      "All vs Ppeptide KstestResult(statistic=0.245, pvalue=9.520860663442335e-27, statistic_location=0.5217217, statistic_sign=1)\n",
      "All vs PP KstestResult(statistic=0.24, pvalue=1.1289850689115942e-25, statistic_location=0.6500866, statistic_sign=1)\n",
      "All_Ppeptide vs PP + Ppeptide KstestResult(statistic=0.149, pvalue=4.2475154084352807e-10, statistic_location=0.4600175, statistic_sign=1)\n",
      "Ppeptide vs PP KstestResult(statistic=0.121, pvalue=8.513708327314542e-07, statistic_location=0.9766354, statistic_sign=1)\n",
      "Ppeptide vs PP + Ppeptide KstestResult(statistic=0.113, pvalue=5.577646320340156e-06, statistic_location=0.51882315, statistic_sign=-1)\n",
      "PP vs PP + Ppeptide KstestResult(statistic=0.178, pvalue=2.980114180184982e-14, statistic_location=0.9466694, statistic_sign=-1)\n"
     ]
    }
   ],
   "source": [
    "from scipy.stats import ks_2samp\n",
    "print(\"All vs Ppeptide\", ks_2samp(distances_Ppeptide_all, distances_Ppeptide))\n",
    "print(\"All vs PP\", ks_2samp(distances_PP_all , distances_PP))\n",
    "print(\"All_Ppeptide vs PP + Ppeptide\", ks_2samp(distances_Ppeptide_all, distances_PP_Ppeptide))\n",
    "print(\"Ppeptide vs PP\", ks_2samp(distances_Ppeptide, distances_PP))\n",
    "print(\"Ppeptide vs PP + Ppeptide\", ks_2samp(distances_Ppeptide, distances_PP_Ppeptide))\n",
    "print(\"PP vs PP + Ppeptide\", ks_2samp(distances_PP, distances_PP_Ppeptide))\n"
   ]
  },
  {
   "cell_type": "markdown",
   "metadata": {},
   "source": [
    "## Pretrained"
   ]
  },
  {
   "cell_type": "code",
   "execution_count": 5,
   "metadata": {},
   "outputs": [],
   "source": [
    "embedding_dir = \"/n/holylabs/LABS/mzitnik_lab/Users/afang/GET/case_studies/visualise_nodes/pretrained_embeddings/PLA30\""
   ]
  },
  {
   "cell_type": "code",
   "execution_count": 6,
   "metadata": {},
   "outputs": [],
   "source": [
    "with open(f\"{embedding_dir}/block_id.npy\", \"rb\") as f:\n",
    "    block_id = np.load(f)\n",
    "\n",
    "with open(f\"{embedding_dir}/block_embeddings.npy\", \"rb\") as f:\n",
    "    embeddings = np.load(f)\n",
    "\n",
    "# Unique group IDs\n",
    "unique_aa = np.unique(block_id)\n",
    "unique_aa = unique_aa[(unique_aa < 37) & (unique_aa > 3)]"
   ]
  },
  {
   "cell_type": "code",
   "execution_count": 7,
   "metadata": {},
   "outputs": [
    {
     "data": {
      "text/html": [
       "<div>\n",
       "<style scoped>\n",
       "    .dataframe tbody tr th:only-of-type {\n",
       "        vertical-align: middle;\n",
       "    }\n",
       "\n",
       "    .dataframe tbody tr th {\n",
       "        vertical-align: top;\n",
       "    }\n",
       "\n",
       "    .dataframe thead th {\n",
       "        text-align: right;\n",
       "    }\n",
       "</style>\n",
       "<table border=\"1\" class=\"dataframe\">\n",
       "  <thead>\n",
       "    <tr style=\"text-align: right;\">\n",
       "      <th></th>\n",
       "      <th>aa</th>\n",
       "      <th>ks_stat</th>\n",
       "      <th>pvalue</th>\n",
       "    </tr>\n",
       "  </thead>\n",
       "  <tbody>\n",
       "    <tr>\n",
       "      <th>0</th>\n",
       "      <td>GLY</td>\n",
       "      <td>0.090</td>\n",
       "      <td>3.479508e-02</td>\n",
       "    </tr>\n",
       "    <tr>\n",
       "      <th>1</th>\n",
       "      <td>ALA</td>\n",
       "      <td>0.114</td>\n",
       "      <td>2.990051e-03</td>\n",
       "    </tr>\n",
       "    <tr>\n",
       "      <th>2</th>\n",
       "      <td>VAL</td>\n",
       "      <td>0.108</td>\n",
       "      <td>5.832083e-03</td>\n",
       "    </tr>\n",
       "    <tr>\n",
       "      <th>3</th>\n",
       "      <td>LEU</td>\n",
       "      <td>0.166</td>\n",
       "      <td>1.975130e-06</td>\n",
       "    </tr>\n",
       "    <tr>\n",
       "      <th>4</th>\n",
       "      <td>ILE</td>\n",
       "      <td>0.150</td>\n",
       "      <td>2.521545e-05</td>\n",
       "    </tr>\n",
       "    <tr>\n",
       "      <th>5</th>\n",
       "      <td>PHE</td>\n",
       "      <td>0.116</td>\n",
       "      <td>2.373822e-03</td>\n",
       "    </tr>\n",
       "    <tr>\n",
       "      <th>6</th>\n",
       "      <td>TRP</td>\n",
       "      <td>0.130</td>\n",
       "      <td>4.212435e-04</td>\n",
       "    </tr>\n",
       "    <tr>\n",
       "      <th>7</th>\n",
       "      <td>TYR</td>\n",
       "      <td>0.130</td>\n",
       "      <td>4.212435e-04</td>\n",
       "    </tr>\n",
       "    <tr>\n",
       "      <th>8</th>\n",
       "      <td>ASP</td>\n",
       "      <td>0.108</td>\n",
       "      <td>5.832083e-03</td>\n",
       "    </tr>\n",
       "    <tr>\n",
       "      <th>9</th>\n",
       "      <td>HIS</td>\n",
       "      <td>0.160</td>\n",
       "      <td>5.293265e-06</td>\n",
       "    </tr>\n",
       "    <tr>\n",
       "      <th>10</th>\n",
       "      <td>ASN</td>\n",
       "      <td>0.120</td>\n",
       "      <td>1.478118e-03</td>\n",
       "    </tr>\n",
       "    <tr>\n",
       "      <th>11</th>\n",
       "      <td>GLU</td>\n",
       "      <td>0.182</td>\n",
       "      <td>1.189350e-07</td>\n",
       "    </tr>\n",
       "    <tr>\n",
       "      <th>12</th>\n",
       "      <td>LYS</td>\n",
       "      <td>0.192</td>\n",
       "      <td>1.796150e-08</td>\n",
       "    </tr>\n",
       "    <tr>\n",
       "      <th>13</th>\n",
       "      <td>GLN</td>\n",
       "      <td>0.138</td>\n",
       "      <td>1.434246e-04</td>\n",
       "    </tr>\n",
       "    <tr>\n",
       "      <th>14</th>\n",
       "      <td>MET</td>\n",
       "      <td>0.146</td>\n",
       "      <td>4.575188e-05</td>\n",
       "    </tr>\n",
       "    <tr>\n",
       "      <th>15</th>\n",
       "      <td>ARG</td>\n",
       "      <td>0.206</td>\n",
       "      <td>1.069729e-09</td>\n",
       "    </tr>\n",
       "    <tr>\n",
       "      <th>16</th>\n",
       "      <td>SER</td>\n",
       "      <td>0.090</td>\n",
       "      <td>3.479508e-02</td>\n",
       "    </tr>\n",
       "    <tr>\n",
       "      <th>17</th>\n",
       "      <td>THR</td>\n",
       "      <td>0.168</td>\n",
       "      <td>1.410324e-06</td>\n",
       "    </tr>\n",
       "    <tr>\n",
       "      <th>18</th>\n",
       "      <td>CYS</td>\n",
       "      <td>0.108</td>\n",
       "      <td>5.832083e-03</td>\n",
       "    </tr>\n",
       "    <tr>\n",
       "      <th>19</th>\n",
       "      <td>PRO</td>\n",
       "      <td>0.172</td>\n",
       "      <td>7.102426e-07</td>\n",
       "    </tr>\n",
       "  </tbody>\n",
       "</table>\n",
       "</div>"
      ],
      "text/plain": [
       "     aa  ks_stat        pvalue\n",
       "0   GLY    0.090  3.479508e-02\n",
       "1   ALA    0.114  2.990051e-03\n",
       "2   VAL    0.108  5.832083e-03\n",
       "3   LEU    0.166  1.975130e-06\n",
       "4   ILE    0.150  2.521545e-05\n",
       "5   PHE    0.116  2.373822e-03\n",
       "6   TRP    0.130  4.212435e-04\n",
       "7   TYR    0.130  4.212435e-04\n",
       "8   ASP    0.108  5.832083e-03\n",
       "9   HIS    0.160  5.293265e-06\n",
       "10  ASN    0.120  1.478118e-03\n",
       "11  GLU    0.182  1.189350e-07\n",
       "12  LYS    0.192  1.796150e-08\n",
       "13  GLN    0.138  1.434246e-04\n",
       "14  MET    0.146  4.575188e-05\n",
       "15  ARG    0.206  1.069729e-09\n",
       "16  SER    0.090  3.479508e-02\n",
       "17  THR    0.168  1.410324e-06\n",
       "18  CYS    0.108  5.832083e-03\n",
       "19  PRO    0.172  7.102426e-07"
      ]
     },
     "execution_count": 7,
     "metadata": {},
     "output_type": "execute_result"
    }
   ],
   "source": [
    "rand_dist = get_distances(range(0, len(block_id)), embeddings)\n",
    "rand_dist = np.sort(rand_dist)\n",
    "output = []\n",
    "for aa in unique_aa:\n",
    "    indexes = list((block_id == aa).nonzero()[0])\n",
    "    distances = get_distances(indexes, embeddings, distance_metric=\"euclidean\")\n",
    "    distances = np.sort(distances)\n",
    "    res = scipy.stats.ks_2samp(list(distances), list(rand_dist))\n",
    "    output.append((aa, res.statistic, res.pvalue))\n",
    "\n",
    "df = pd.DataFrame(output, columns=[\"aa\", \"ks_stat\", \"pvalue\"])\n",
    "df[\"aa\"] = df[\"aa\"].apply(lambda x: VOCAB.idx_to_abrv(x))\n",
    "df"
   ]
  },
  {
   "cell_type": "code",
   "execution_count": 8,
   "metadata": {},
   "outputs": [],
   "source": [
    "aa_type = 12"
   ]
  },
  {
   "cell_type": "code",
   "execution_count": 9,
   "metadata": {},
   "outputs": [
    {
     "data": {
      "image/png": "[encoded data removed]",
      "text/plain": [
       "<Figure size 640x480 with 1 Axes>"
      ]
     },
     "metadata": {},
     "output_type": "display_data"
    }
   ],
   "source": [
    "aa_dist = get_distances(list((block_id == aa_type).nonzero()[0]), embeddings)\n",
    "rand_dist = get_distances(range(0, len(block_id)), embeddings)\n",
    "plt.hist(aa_dist, bins=50, alpha=0.5, label=VOCAB.idx_to_abrv(aa_type))\n",
    "plt.hist(rand_dist, bins=50, alpha=0.5, label='rand')\n",
    "plt.xlabel(\"Pairwise d-dimensional Euclidean distance of residue embeddings\")\n",
    "plt.legend(loc='upper right')\n",
    "plt.show()\n"
   ]
  },
  {
   "cell_type": "code",
   "execution_count": 10,
   "metadata": {},
   "outputs": [
    {
     "data": {
      "image/png": "[encoded data removed]",
      "text/plain": [
       "<Figure size 640x480 with 1 Axes>"
      ]
     },
     "metadata": {},
     "output_type": "display_data"
    }
   ],
   "source": [
    "aa_dist = get_distances(list((block_id == aa_type).nonzero()[0]), embeddings, distance_metric=\"cosine\")\n",
    "rand_dist = get_distances(range(0, len(block_id)), embeddings, distance_metric=\"cosine\")\n",
    "plt.hist(aa_dist, bins=50, alpha=0.5, label=VOCAB.idx_to_abrv(aa_type))\n",
    "plt.hist(rand_dist, bins=50, alpha=0.5, label='rand')\n",
    "plt.xlabel(\"Pairwise d-dimensional Cosine distance of residue embeddings\")\n",
    "plt.legend(loc='upper right')\n",
    "plt.show()\n"
   ]
  },
  {
   "cell_type": "markdown",
   "metadata": {},
   "source": [
    "## Finetuned"
   ]
  },
  {
   "cell_type": "code",
   "execution_count": 11,
   "metadata": {},
   "outputs": [],
   "source": [
    "embedding_dir1 = \"/n/holylabs/LABS/mzitnik_lab/Users/afang/GET/case_studies/visualise_nodes/finetuned_embeddings/PLA30\""
   ]
  },
  {
   "cell_type": "code",
   "execution_count": 12,
   "metadata": {},
   "outputs": [],
   "source": [
    "with open(f\"{embedding_dir1}/block_id.npy\", \"rb\") as f:\n",
    "    block_id = np.load(f)\n",
    "\n",
    "with open(f\"{embedding_dir1}/block_embeddings.npy\", \"rb\") as f:\n",
    "    embeddings = np.load(f)\n",
    "\n",
    "# Unique group IDs\n",
    "unique_aa = np.unique(block_id)\n",
    "unique_aa = unique_aa[(unique_aa < 37) & (unique_aa > 3)]"
   ]
  },
  {
   "cell_type": "code",
   "execution_count": 13,
   "metadata": {},
   "outputs": [
    {
     "data": {
      "text/html": [
       "<div>\n",
       "<style scoped>\n",
       "    .dataframe tbody tr th:only-of-type {\n",
       "        vertical-align: middle;\n",
       "    }\n",
       "\n",
       "    .dataframe tbody tr th {\n",
       "        vertical-align: top;\n",
       "    }\n",
       "\n",
       "    .dataframe thead th {\n",
       "        text-align: right;\n",
       "    }\n",
       "</style>\n",
       "<table border=\"1\" class=\"dataframe\">\n",
       "  <thead>\n",
       "    <tr style=\"text-align: right;\">\n",
       "      <th></th>\n",
       "      <th>aa</th>\n",
       "      <th>ks_stat</th>\n",
       "      <th>pvalue</th>\n",
       "    </tr>\n",
       "  </thead>\n",
       "  <tbody>\n",
       "    <tr>\n",
       "      <th>0</th>\n",
       "      <td>GLY</td>\n",
       "      <td>0.094</td>\n",
       "      <td>0.024066</td>\n",
       "    </tr>\n",
       "    <tr>\n",
       "      <th>1</th>\n",
       "      <td>ALA</td>\n",
       "      <td>0.046</td>\n",
       "      <td>0.665922</td>\n",
       "    </tr>\n",
       "    <tr>\n",
       "      <th>2</th>\n",
       "      <td>VAL</td>\n",
       "      <td>0.076</td>\n",
       "      <td>0.111368</td>\n",
       "    </tr>\n",
       "    <tr>\n",
       "      <th>3</th>\n",
       "      <td>LEU</td>\n",
       "      <td>0.068</td>\n",
       "      <td>0.198042</td>\n",
       "    </tr>\n",
       "    <tr>\n",
       "      <th>4</th>\n",
       "      <td>ILE</td>\n",
       "      <td>0.060</td>\n",
       "      <td>0.329358</td>\n",
       "    </tr>\n",
       "    <tr>\n",
       "      <th>5</th>\n",
       "      <td>PHE</td>\n",
       "      <td>0.068</td>\n",
       "      <td>0.198042</td>\n",
       "    </tr>\n",
       "    <tr>\n",
       "      <th>6</th>\n",
       "      <td>TRP</td>\n",
       "      <td>0.074</td>\n",
       "      <td>0.129396</td>\n",
       "    </tr>\n",
       "    <tr>\n",
       "      <th>7</th>\n",
       "      <td>TYR</td>\n",
       "      <td>0.046</td>\n",
       "      <td>0.665922</td>\n",
       "    </tr>\n",
       "    <tr>\n",
       "      <th>8</th>\n",
       "      <td>ASP</td>\n",
       "      <td>0.084</td>\n",
       "      <td>0.058689</td>\n",
       "    </tr>\n",
       "    <tr>\n",
       "      <th>9</th>\n",
       "      <td>HIS</td>\n",
       "      <td>0.120</td>\n",
       "      <td>0.001478</td>\n",
       "    </tr>\n",
       "    <tr>\n",
       "      <th>10</th>\n",
       "      <td>ASN</td>\n",
       "      <td>0.052</td>\n",
       "      <td>0.508917</td>\n",
       "    </tr>\n",
       "    <tr>\n",
       "      <th>11</th>\n",
       "      <td>GLU</td>\n",
       "      <td>0.138</td>\n",
       "      <td>0.000143</td>\n",
       "    </tr>\n",
       "    <tr>\n",
       "      <th>12</th>\n",
       "      <td>LYS</td>\n",
       "      <td>0.112</td>\n",
       "      <td>0.003751</td>\n",
       "    </tr>\n",
       "    <tr>\n",
       "      <th>13</th>\n",
       "      <td>GLN</td>\n",
       "      <td>0.036</td>\n",
       "      <td>0.902691</td>\n",
       "    </tr>\n",
       "    <tr>\n",
       "      <th>14</th>\n",
       "      <td>MET</td>\n",
       "      <td>0.084</td>\n",
       "      <td>0.058689</td>\n",
       "    </tr>\n",
       "    <tr>\n",
       "      <th>15</th>\n",
       "      <td>ARG</td>\n",
       "      <td>0.154</td>\n",
       "      <td>0.000014</td>\n",
       "    </tr>\n",
       "    <tr>\n",
       "      <th>16</th>\n",
       "      <td>SER</td>\n",
       "      <td>0.058</td>\n",
       "      <td>0.369905</td>\n",
       "    </tr>\n",
       "    <tr>\n",
       "      <th>17</th>\n",
       "      <td>THR</td>\n",
       "      <td>0.162</td>\n",
       "      <td>0.000004</td>\n",
       "    </tr>\n",
       "    <tr>\n",
       "      <th>18</th>\n",
       "      <td>CYS</td>\n",
       "      <td>0.052</td>\n",
       "      <td>0.508917</td>\n",
       "    </tr>\n",
       "    <tr>\n",
       "      <th>19</th>\n",
       "      <td>PRO</td>\n",
       "      <td>0.086</td>\n",
       "      <td>0.049503</td>\n",
       "    </tr>\n",
       "  </tbody>\n",
       "</table>\n",
       "</div>"
      ],
      "text/plain": [
       "     aa  ks_stat    pvalue\n",
       "0   GLY    0.094  0.024066\n",
       "1   ALA    0.046  0.665922\n",
       "2   VAL    0.076  0.111368\n",
       "3   LEU    0.068  0.198042\n",
       "4   ILE    0.060  0.329358\n",
       "5   PHE    0.068  0.198042\n",
       "6   TRP    0.074  0.129396\n",
       "7   TYR    0.046  0.665922\n",
       "8   ASP    0.084  0.058689\n",
       "9   HIS    0.120  0.001478\n",
       "10  ASN    0.052  0.508917\n",
       "11  GLU    0.138  0.000143\n",
       "12  LYS    0.112  0.003751\n",
       "13  GLN    0.036  0.902691\n",
       "14  MET    0.084  0.058689\n",
       "15  ARG    0.154  0.000014\n",
       "16  SER    0.058  0.369905\n",
       "17  THR    0.162  0.000004\n",
       "18  CYS    0.052  0.508917\n",
       "19  PRO    0.086  0.049503"
      ]
     },
     "execution_count": 13,
     "metadata": {},
     "output_type": "execute_result"
    }
   ],
   "source": [
    "rand_dist = get_distances(range(0, len(block_id)), embeddings)\n",
    "rand_dist = np.sort(rand_dist)\n",
    "output = []\n",
    "for aa in unique_aa:\n",
    "    indexes = list((block_id == aa).nonzero()[0])\n",
    "    distances = get_distances(indexes, embeddings, distance_metric=\"euclidean\")\n",
    "    distances = np.sort(distances)\n",
    "    res = scipy.stats.ks_2samp(list(distances), list(rand_dist))\n",
    "    output.append((aa, res.statistic, res.pvalue))\n",
    "\n",
    "df = pd.DataFrame(output, columns=[\"aa\", \"ks_stat\", \"pvalue\"])\n",
    "df[\"aa\"] = df[\"aa\"].apply(lambda x: VOCAB.idx_to_abrv(x))\n",
    "df"
   ]
  },
  {
   "cell_type": "code",
   "execution_count": 14,
   "metadata": {},
   "outputs": [
    {
     "data": {
      "image/png": "[encoded data removed]",
      "text/plain": [
       "<Figure size 640x480 with 1 Axes>"
      ]
     },
     "metadata": {},
     "output_type": "display_data"
    }
   ],
   "source": [
    "aa_type = 10\n",
    "aa_dist = get_distances(list((block_id == aa_type).nonzero()[0]), embeddings)\n",
    "rand_dist = get_distances(range(0, len(block_id)), embeddings)\n",
    "plt.hist(aa_dist, bins=50, alpha=0.5, label=f'aa_{aa_type}')\n",
    "plt.hist(rand_dist, bins=50, alpha=0.5, label='rand')\n",
    "plt.xlabel(\"Pairwise d-dimensional Euclidean distance of residue embeddings\")\n",
    "plt.legend(loc='upper right')\n",
    "plt.show()\n"
   ]
  },
  {
   "cell_type": "code",
   "execution_count": 19,
   "metadata": {},
   "outputs": [
    {
     "data": {
      "image/png": "[encoded data removed]",
      "text/plain": [
       "<Figure size 640x480 with 1 Axes>"
      ]
     },
     "metadata": {},
     "output_type": "display_data"
    }
   ],
   "source": [
    "aa_type = 10\n",
    "aa_dist = get_distances(list((block_id == aa_type).nonzero()[0]), embeddings, distance_metric=\"cosine\")\n",
    "rand_dist = get_distances(range(0, len(block_id)), embeddings, distance_metric=\"cosine\")\n",
    "plt.hist(aa_dist, bins=50, alpha=0.5, label=f'aa_{aa_type}')\n",
    "plt.hist(rand_dist, bins=50, alpha=0.5, label='rand')\n",
    "plt.xlabel(\"Pairwise d-dimensional Cosine distance of residue embeddings\")\n",
    "plt.legend(loc='upper right')\n",
    "plt.show()"
   ]
  },
  {
   "cell_type": "markdown",
   "metadata": {},
   "source": [
    "# Atom embeddings"
   ]
  },
  {
   "cell_type": "markdown",
   "metadata": {},
   "source": [
    "## Pretrained"
   ]
  },
  {
   "cell_type": "code",
   "execution_count": 15,
   "metadata": {},
   "outputs": [],
   "source": [
    "with open(f\"{embedding_dir}/atom_id.npy\", \"rb\") as f:\n",
    "    atom_id = np.load(f)\n",
    "with open(f\"{embedding_dir}/atom_embeddings.npy\", \"rb\") as f:\n",
    "    atom_embeddings = np.load(f)\n",
    "\n",
    "atom_embeddings = atom_embeddings[atom_id > 2]\n",
    "atom_id = atom_id[atom_id > 2]\n",
    "atom_embeddings = atom_embeddings[:, :atom_embeddings.shape[1]//2] # remove block embedding that is concatenated to atom embedding"
   ]
  },
  {
   "cell_type": "code",
   "execution_count": 16,
   "metadata": {},
   "outputs": [
    {
     "data": {
      "text/html": [
       "<div>\n",
       "<style scoped>\n",
       "    .dataframe tbody tr th:only-of-type {\n",
       "        vertical-align: middle;\n",
       "    }\n",
       "\n",
       "    .dataframe tbody tr th {\n",
       "        vertical-align: top;\n",
       "    }\n",
       "\n",
       "    .dataframe thead th {\n",
       "        text-align: right;\n",
       "    }\n",
       "</style>\n",
       "<table border=\"1\" class=\"dataframe\">\n",
       "  <thead>\n",
       "    <tr style=\"text-align: right;\">\n",
       "      <th></th>\n",
       "      <th>aa</th>\n",
       "      <th>ks_stat</th>\n",
       "      <th>pvalue</th>\n",
       "    </tr>\n",
       "  </thead>\n",
       "  <tbody>\n",
       "    <tr>\n",
       "      <th>0</th>\n",
       "      <td>C</td>\n",
       "      <td>0.072</td>\n",
       "      <td>0.149732</td>\n",
       "    </tr>\n",
       "    <tr>\n",
       "      <th>1</th>\n",
       "      <td>N</td>\n",
       "      <td>0.09</td>\n",
       "      <td>0.034795</td>\n",
       "    </tr>\n",
       "    <tr>\n",
       "      <th>2</th>\n",
       "      <td>O</td>\n",
       "      <td>0.058</td>\n",
       "      <td>0.369905</td>\n",
       "    </tr>\n",
       "    <tr>\n",
       "      <th>3</th>\n",
       "      <td>F</td>\n",
       "      <td>0.664</td>\n",
       "      <td>0.0</td>\n",
       "    </tr>\n",
       "    <tr>\n",
       "      <th>4</th>\n",
       "      <td>Na</td>\n",
       "      <td>not enough atoms</td>\n",
       "      <td>not enough atoms</td>\n",
       "    </tr>\n",
       "    <tr>\n",
       "      <th>5</th>\n",
       "      <td>Mg</td>\n",
       "      <td>1.0</td>\n",
       "      <td>0.0</td>\n",
       "    </tr>\n",
       "    <tr>\n",
       "      <th>6</th>\n",
       "      <td>P</td>\n",
       "      <td>0.748</td>\n",
       "      <td>0.0</td>\n",
       "    </tr>\n",
       "    <tr>\n",
       "      <th>7</th>\n",
       "      <td>S</td>\n",
       "      <td>0.156</td>\n",
       "      <td>0.00001</td>\n",
       "    </tr>\n",
       "    <tr>\n",
       "      <th>8</th>\n",
       "      <td>Cl</td>\n",
       "      <td>0.782</td>\n",
       "      <td>0.0</td>\n",
       "    </tr>\n",
       "    <tr>\n",
       "      <th>9</th>\n",
       "      <td>K</td>\n",
       "      <td>not enough atoms</td>\n",
       "      <td>not enough atoms</td>\n",
       "    </tr>\n",
       "    <tr>\n",
       "      <th>10</th>\n",
       "      <td>Ca</td>\n",
       "      <td>not enough atoms</td>\n",
       "      <td>not enough atoms</td>\n",
       "    </tr>\n",
       "    <tr>\n",
       "      <th>11</th>\n",
       "      <td>Mn</td>\n",
       "      <td>1.0</td>\n",
       "      <td>0.0</td>\n",
       "    </tr>\n",
       "    <tr>\n",
       "      <th>12</th>\n",
       "      <td>Fe</td>\n",
       "      <td>not enough atoms</td>\n",
       "      <td>not enough atoms</td>\n",
       "    </tr>\n",
       "    <tr>\n",
       "      <th>13</th>\n",
       "      <td>Co</td>\n",
       "      <td>not enough atoms</td>\n",
       "      <td>not enough atoms</td>\n",
       "    </tr>\n",
       "    <tr>\n",
       "      <th>14</th>\n",
       "      <td>Ni</td>\n",
       "      <td>not enough atoms</td>\n",
       "      <td>not enough atoms</td>\n",
       "    </tr>\n",
       "    <tr>\n",
       "      <th>15</th>\n",
       "      <td>Cu</td>\n",
       "      <td>not enough atoms</td>\n",
       "      <td>not enough atoms</td>\n",
       "    </tr>\n",
       "    <tr>\n",
       "      <th>16</th>\n",
       "      <td>Zn</td>\n",
       "      <td>1.0</td>\n",
       "      <td>0.0</td>\n",
       "    </tr>\n",
       "    <tr>\n",
       "      <th>17</th>\n",
       "      <td>Br</td>\n",
       "      <td>0.832</td>\n",
       "      <td>0.0</td>\n",
       "    </tr>\n",
       "    <tr>\n",
       "      <th>18</th>\n",
       "      <td>Sr</td>\n",
       "      <td>not enough atoms</td>\n",
       "      <td>not enough atoms</td>\n",
       "    </tr>\n",
       "    <tr>\n",
       "      <th>19</th>\n",
       "      <td>Cd</td>\n",
       "      <td>not enough atoms</td>\n",
       "      <td>not enough atoms</td>\n",
       "    </tr>\n",
       "    <tr>\n",
       "      <th>20</th>\n",
       "      <td>I</td>\n",
       "      <td>not enough atoms</td>\n",
       "      <td>not enough atoms</td>\n",
       "    </tr>\n",
       "    <tr>\n",
       "      <th>21</th>\n",
       "      <td>Cs</td>\n",
       "      <td>not enough atoms</td>\n",
       "      <td>not enough atoms</td>\n",
       "    </tr>\n",
       "  </tbody>\n",
       "</table>\n",
       "</div>"
      ],
      "text/plain": [
       "    aa           ks_stat            pvalue\n",
       "0    C             0.072          0.149732\n",
       "1    N              0.09          0.034795\n",
       "2    O             0.058          0.369905\n",
       "3    F             0.664               0.0\n",
       "4   Na  not enough atoms  not enough atoms\n",
       "5   Mg               1.0               0.0\n",
       "6    P             0.748               0.0\n",
       "7    S             0.156           0.00001\n",
       "8   Cl             0.782               0.0\n",
       "9    K  not enough atoms  not enough atoms\n",
       "10  Ca  not enough atoms  not enough atoms\n",
       "11  Mn               1.0               0.0\n",
       "12  Fe  not enough atoms  not enough atoms\n",
       "13  Co  not enough atoms  not enough atoms\n",
       "14  Ni  not enough atoms  not enough atoms\n",
       "15  Cu  not enough atoms  not enough atoms\n",
       "16  Zn               1.0               0.0\n",
       "17  Br             0.832               0.0\n",
       "18  Sr  not enough atoms  not enough atoms\n",
       "19  Cd  not enough atoms  not enough atoms\n",
       "20   I  not enough atoms  not enough atoms\n",
       "21  Cs  not enough atoms  not enough atoms"
      ]
     },
     "execution_count": 16,
     "metadata": {},
     "output_type": "execute_result"
    }
   ],
   "source": [
    "rand_dist = get_distances(range(0, len(atom_id)), atom_embeddings)\n",
    "rand_dist = np.sort(rand_dist)\n",
    "output = []\n",
    "for atom in np.unique(atom_id):\n",
    "    indexes = list((atom_id == atom).nonzero()[0])\n",
    "    if len(indexes) < 50:\n",
    "        output.append((atom, \"not enough atoms\", \"not enough atoms\"))\n",
    "        continue\n",
    "    distances = get_distances(indexes, atom_embeddings, distance_metric=\"euclidean\")\n",
    "    distances = np.sort(distances)\n",
    "    res = scipy.stats.ks_2samp(list(distances), list(rand_dist))\n",
    "    output.append((atom, res.statistic, res.pvalue))\n",
    "\n",
    "df = pd.DataFrame(output, columns=[\"aa\", \"ks_stat\", \"pvalue\"])\n",
    "df[\"aa\"] = df[\"aa\"].apply(lambda x: VOCAB.idx_to_atom(x))\n",
    "df"
   ]
  },
  {
   "cell_type": "code",
   "execution_count": 17,
   "metadata": {},
   "outputs": [
    {
     "data": {
      "image/png": "[encoded data removed]",
      "text/plain": [
       "<Figure size 640x480 with 1 Axes>"
      ]
     },
     "metadata": {},
     "output_type": "display_data"
    }
   ],
   "source": [
    "atom_type = 10\n",
    "atom_distance = get_distances(list((block_id == atom_type).nonzero()[0]), embeddings)\n",
    "rand_dist = get_distances(range(0, len(block_id)), atom_embeddings)\n",
    "plt.hist(atom_distance, bins=50, alpha=0.5, label=f'aa_{atom_type}')\n",
    "plt.hist(rand_dist, bins=50, alpha=0.5, label='rand')\n",
    "plt.xlabel(\"Pairwise d-dimensional Euclidean distance of atom embeddings\")\n",
    "plt.legend(loc='upper right')\n",
    "plt.show()"
   ]
  },
  {
   "cell_type": "code",
   "execution_count": 25,
   "metadata": {},
   "outputs": [
    {
     "data": {
      "image/png": "[encoded data removed]",
      "text/plain": [
       "<Figure size 640x480 with 1 Axes>"
      ]
     },
     "metadata": {},
     "output_type": "display_data"
    }
   ],
   "source": [
    "atom_type = 10\n",
    "atom_distance = get_distances(list((block_id == atom_type).nonzero()[0]), embeddings, distance_metric=\"cosine\")\n",
    "rand_dist = get_distances(range(0, len(block_id)), atom_embeddings, distance_metric=\"cosine\")\n",
    "plt.hist(atom_distance, bins=50, alpha=0.5, label=f'aa_{atom_type}')\n",
    "plt.hist(rand_dist, bins=50, alpha=0.5, label='rand')\n",
    "plt.xlabel(\"Pairwise d-dimensional cosine distance of atom embeddings\")\n",
    "plt.legend(loc='upper right')\n",
    "plt.show()"
   ]
  },
  {
   "cell_type": "markdown",
   "metadata": {},
   "source": [
    "## Finetuned"
   ]
  },
  {
   "cell_type": "code",
   "execution_count": 18,
   "metadata": {},
   "outputs": [],
   "source": [
    "with open(f\"{embedding_dir1}/atom_id.npy\", \"rb\") as f:\n",
    "    atom_id = np.load(f)\n",
    "with open(f\"{embedding_dir1}/atom_embeddings.npy\", \"rb\") as f:\n",
    "    atom_embeddings = np.load(f)\n",
    "\n",
    "atom_embeddings = atom_embeddings[atom_id > 2]\n",
    "atom_id = atom_id[atom_id > 2]\n",
    "atom_embeddings = atom_embeddings[:, :atom_embeddings.shape[1]//2] # remove block embedding that is concatenated to atom embedding"
   ]
  },
  {
   "cell_type": "code",
   "execution_count": 19,
   "metadata": {},
   "outputs": [
    {
     "data": {
      "text/html": [
       "<div>\n",
       "<style scoped>\n",
       "    .dataframe tbody tr th:only-of-type {\n",
       "        vertical-align: middle;\n",
       "    }\n",
       "\n",
       "    .dataframe tbody tr th {\n",
       "        vertical-align: top;\n",
       "    }\n",
       "\n",
       "    .dataframe thead th {\n",
       "        text-align: right;\n",
       "    }\n",
       "</style>\n",
       "<table border=\"1\" class=\"dataframe\">\n",
       "  <thead>\n",
       "    <tr style=\"text-align: right;\">\n",
       "      <th></th>\n",
       "      <th>aa</th>\n",
       "      <th>ks_stat</th>\n",
       "      <th>pvalue</th>\n",
       "    </tr>\n",
       "  </thead>\n",
       "  <tbody>\n",
       "    <tr>\n",
       "      <th>0</th>\n",
       "      <td>C</td>\n",
       "      <td>0.124</td>\n",
       "      <td>0.000906</td>\n",
       "    </tr>\n",
       "    <tr>\n",
       "      <th>1</th>\n",
       "      <td>N</td>\n",
       "      <td>0.218</td>\n",
       "      <td>0.0</td>\n",
       "    </tr>\n",
       "    <tr>\n",
       "      <th>2</th>\n",
       "      <td>O</td>\n",
       "      <td>0.056</td>\n",
       "      <td>0.413486</td>\n",
       "    </tr>\n",
       "    <tr>\n",
       "      <th>3</th>\n",
       "      <td>F</td>\n",
       "      <td>0.378</td>\n",
       "      <td>0.0</td>\n",
       "    </tr>\n",
       "    <tr>\n",
       "      <th>4</th>\n",
       "      <td>Na</td>\n",
       "      <td>not enough atoms</td>\n",
       "      <td>not enough atoms</td>\n",
       "    </tr>\n",
       "    <tr>\n",
       "      <th>5</th>\n",
       "      <td>Mg</td>\n",
       "      <td>0.952</td>\n",
       "      <td>0.0</td>\n",
       "    </tr>\n",
       "    <tr>\n",
       "      <th>6</th>\n",
       "      <td>P</td>\n",
       "      <td>0.682</td>\n",
       "      <td>0.0</td>\n",
       "    </tr>\n",
       "    <tr>\n",
       "      <th>7</th>\n",
       "      <td>S</td>\n",
       "      <td>0.082</td>\n",
       "      <td>0.069301</td>\n",
       "    </tr>\n",
       "    <tr>\n",
       "      <th>8</th>\n",
       "      <td>Cl</td>\n",
       "      <td>0.478</td>\n",
       "      <td>0.0</td>\n",
       "    </tr>\n",
       "    <tr>\n",
       "      <th>9</th>\n",
       "      <td>K</td>\n",
       "      <td>not enough atoms</td>\n",
       "      <td>not enough atoms</td>\n",
       "    </tr>\n",
       "    <tr>\n",
       "      <th>10</th>\n",
       "      <td>Ca</td>\n",
       "      <td>not enough atoms</td>\n",
       "      <td>not enough atoms</td>\n",
       "    </tr>\n",
       "    <tr>\n",
       "      <th>11</th>\n",
       "      <td>Mn</td>\n",
       "      <td>0.976</td>\n",
       "      <td>0.0</td>\n",
       "    </tr>\n",
       "    <tr>\n",
       "      <th>12</th>\n",
       "      <td>Fe</td>\n",
       "      <td>not enough atoms</td>\n",
       "      <td>not enough atoms</td>\n",
       "    </tr>\n",
       "    <tr>\n",
       "      <th>13</th>\n",
       "      <td>Co</td>\n",
       "      <td>not enough atoms</td>\n",
       "      <td>not enough atoms</td>\n",
       "    </tr>\n",
       "    <tr>\n",
       "      <th>14</th>\n",
       "      <td>Ni</td>\n",
       "      <td>not enough atoms</td>\n",
       "      <td>not enough atoms</td>\n",
       "    </tr>\n",
       "    <tr>\n",
       "      <th>15</th>\n",
       "      <td>Cu</td>\n",
       "      <td>not enough atoms</td>\n",
       "      <td>not enough atoms</td>\n",
       "    </tr>\n",
       "    <tr>\n",
       "      <th>16</th>\n",
       "      <td>Zn</td>\n",
       "      <td>0.958</td>\n",
       "      <td>0.0</td>\n",
       "    </tr>\n",
       "    <tr>\n",
       "      <th>17</th>\n",
       "      <td>Br</td>\n",
       "      <td>0.536</td>\n",
       "      <td>0.0</td>\n",
       "    </tr>\n",
       "    <tr>\n",
       "      <th>18</th>\n",
       "      <td>Sr</td>\n",
       "      <td>not enough atoms</td>\n",
       "      <td>not enough atoms</td>\n",
       "    </tr>\n",
       "    <tr>\n",
       "      <th>19</th>\n",
       "      <td>Cd</td>\n",
       "      <td>not enough atoms</td>\n",
       "      <td>not enough atoms</td>\n",
       "    </tr>\n",
       "    <tr>\n",
       "      <th>20</th>\n",
       "      <td>I</td>\n",
       "      <td>not enough atoms</td>\n",
       "      <td>not enough atoms</td>\n",
       "    </tr>\n",
       "    <tr>\n",
       "      <th>21</th>\n",
       "      <td>Cs</td>\n",
       "      <td>not enough atoms</td>\n",
       "      <td>not enough atoms</td>\n",
       "    </tr>\n",
       "  </tbody>\n",
       "</table>\n",
       "</div>"
      ],
      "text/plain": [
       "    aa           ks_stat            pvalue\n",
       "0    C             0.124          0.000906\n",
       "1    N             0.218               0.0\n",
       "2    O             0.056          0.413486\n",
       "3    F             0.378               0.0\n",
       "4   Na  not enough atoms  not enough atoms\n",
       "5   Mg             0.952               0.0\n",
       "6    P             0.682               0.0\n",
       "7    S             0.082          0.069301\n",
       "8   Cl             0.478               0.0\n",
       "9    K  not enough atoms  not enough atoms\n",
       "10  Ca  not enough atoms  not enough atoms\n",
       "11  Mn             0.976               0.0\n",
       "12  Fe  not enough atoms  not enough atoms\n",
       "13  Co  not enough atoms  not enough atoms\n",
       "14  Ni  not enough atoms  not enough atoms\n",
       "15  Cu  not enough atoms  not enough atoms\n",
       "16  Zn             0.958               0.0\n",
       "17  Br             0.536               0.0\n",
       "18  Sr  not enough atoms  not enough atoms\n",
       "19  Cd  not enough atoms  not enough atoms\n",
       "20   I  not enough atoms  not enough atoms\n",
       "21  Cs  not enough atoms  not enough atoms"
      ]
     },
     "execution_count": 19,
     "metadata": {},
     "output_type": "execute_result"
    }
   ],
   "source": [
    "rand_dist = get_distances(range(0, len(atom_id)), atom_embeddings)\n",
    "rand_dist = np.sort(rand_dist)\n",
    "output = []\n",
    "for atom in np.unique(atom_id):\n",
    "    indexes = list((atom_id == atom).nonzero()[0])\n",
    "    if len(indexes) < 50:\n",
    "        output.append((atom, \"not enough atoms\", \"not enough atoms\"))\n",
    "        continue\n",
    "    distances = get_distances(indexes, atom_embeddings, distance_metric=\"euclidean\")\n",
    "    distances = np.sort(distances)\n",
    "    res = scipy.stats.ks_2samp(list(distances), list(rand_dist))\n",
    "    output.append((atom, res.statistic, res.pvalue))\n",
    "\n",
    "df = pd.DataFrame(output, columns=[\"aa\", \"ks_stat\", \"pvalue\"])\n",
    "df[\"aa\"] = df[\"aa\"].apply(lambda x: VOCAB.idx_to_atom(x))\n",
    "df"
   ]
  },
  {
   "cell_type": "code",
   "execution_count": 20,
   "metadata": {},
   "outputs": [
    {
     "data": {
      "image/png": "[encoded data removed]",
      "text/plain": [
       "<Figure size 640x480 with 1 Axes>"
      ]
     },
     "metadata": {},
     "output_type": "display_data"
    }
   ],
   "source": [
    "atom_type = 10\n",
    "atom_distance = get_distances(list((block_id == atom_type).nonzero()[0]), embeddings)\n",
    "rand_dist = get_distances(range(0, len(block_id)), atom_embeddings)\n",
    "plt.hist(atom_distance, bins=50, alpha=0.5, label=f'aa_{atom_type}')\n",
    "plt.hist(rand_dist, bins=50, alpha=0.5, label='rand')\n",
    "plt.xlabel(\"Pairwise d-dimensional Euclidean distance of atom embeddings\")\n",
    "plt.legend(loc='upper right')\n",
    "plt.show()"
   ]
  },
  {
   "cell_type": "code",
   "execution_count": 21,
   "metadata": {},
   "outputs": [
    {
     "data": {
      "image/png": "[encoded data removed]",
      "text/plain": [
       "<Figure size 640x480 with 1 Axes>"
      ]
     },
     "metadata": {},
     "output_type": "display_data"
    }
   ],
   "source": [
    "atom_type = 10\n",
    "atom_distance = get_distances(list((block_id == atom_type).nonzero()[0]), embeddings, distance_metric=\"cosine\")\n",
    "rand_dist = get_distances(range(0, len(block_id)), atom_embeddings, distance_metric=\"cosine\")\n",
    "plt.hist(atom_distance, bins=50, alpha=0.5, label=f'aa_{atom_type}')\n",
    "plt.hist(rand_dist, bins=50, alpha=0.5, label='rand')\n",
    "plt.xlabel(\"Pairwise d-dimensional cosine distance of atom embeddings\")\n",
    "plt.legend(loc='upper right')\n",
    "plt.show()"
   ]
  },
  {
   "cell_type": "code",
   "execution_count": null,
   "metadata": {},
   "outputs": [],
   "source": []
  }
 ],
 "metadata": {
  "kernelspec": {
   "display_name": "Python 3",
   "language": "python",
   "name": "python3"
  },
  "language_info": {
   "codemirror_mode": {
    "name": "ipython",
    "version": 3
   },
   "file_extension": ".py",
   "mimetype": "text/x-python",
   "name": "python",
   "nbconvert_exporter": "python",
   "pygments_lexer": "ipython3",
   "version": "3.9.15"
  }
 },
 "nbformat": 4,
 "nbformat_minor": 2
}
